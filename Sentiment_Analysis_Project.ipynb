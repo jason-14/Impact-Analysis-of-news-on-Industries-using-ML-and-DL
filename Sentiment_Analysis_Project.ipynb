{
 "cells": [
  {
   "cell_type": "markdown",
   "metadata": {},
   "source": [
    "# Sentiment Analysis"
   ]
  },
  {
   "cell_type": "markdown",
   "metadata": {},
   "source": [
    "## Importing Libraries"
   ]
  },
  {
   "cell_type": "code",
   "execution_count": 1,
   "metadata": {},
   "outputs": [
    {
     "name": "stdout",
     "output_type": "stream",
     "text": [
      "Requirement already satisfied: nltk in d:\\anaconda\\anaconda_software\\envs\\sentimentanalysis\\lib\\site-packages (3.6.2)\n",
      "Requirement already satisfied: click in d:\\anaconda\\anaconda_software\\envs\\sentimentanalysis\\lib\\site-packages (from nltk) (8.1.7)\n",
      "Requirement already satisfied: joblib in d:\\anaconda\\anaconda_software\\envs\\sentimentanalysis\\lib\\site-packages (from nltk) (1.4.2)\n",
      "Requirement already satisfied: regex in d:\\anaconda\\anaconda_software\\envs\\sentimentanalysis\\lib\\site-packages (from nltk) (2024.9.11)\n",
      "Requirement already satisfied: tqdm in d:\\anaconda\\anaconda_software\\envs\\sentimentanalysis\\lib\\site-packages (from nltk) (4.66.5)\n",
      "Requirement already satisfied: colorama in d:\\anaconda\\anaconda_software\\envs\\sentimentanalysis\\lib\\site-packages (from click->nltk) (0.4.6)\n",
      "Note: you may need to restart the kernel to use updated packages.\n"
     ]
    }
   ],
   "source": [
    "pip install nltk"
   ]
  },
  {
   "cell_type": "code",
   "execution_count": 2,
   "metadata": {
    "id": "dVHGjmzNqu1-"
   },
   "outputs": [],
   "source": [
    "import pandas as pd\n",
    "import numpy as np\n",
    "import matplotlib.pyplot as plt\n",
    "import seaborn as sns\n",
    "import gc\n",
    "import re\n",
    "import nltk\n",
    "from nltk.tokenize import word_tokenize\n",
    "from nltk.corpus import stopwords\n",
    "from nltk.stem import WordNetLemmatizer\n",
    "from nltk.corpus import wordnet\n",
    "from nltk.stem import PorterStemmer"
   ]
  },
  {
   "cell_type": "code",
   "execution_count": 3,
   "metadata": {},
   "outputs": [
    {
     "name": "stderr",
     "output_type": "stream",
     "text": [
      "[nltk_data] Downloading package punkt to\n",
      "[nltk_data]     C:\\Users\\neetu\\AppData\\Roaming\\nltk_data...\n",
      "[nltk_data]   Package punkt is already up-to-date!\n",
      "[nltk_data] Downloading package stopwords to\n",
      "[nltk_data]     C:\\Users\\neetu\\AppData\\Roaming\\nltk_data...\n",
      "[nltk_data]   Package stopwords is already up-to-date!\n",
      "[nltk_data] Downloading package averaged_perceptron_tagger to\n",
      "[nltk_data]     C:\\Users\\neetu\\AppData\\Roaming\\nltk_data...\n",
      "[nltk_data]   Package averaged_perceptron_tagger is already up-to-\n",
      "[nltk_data]       date!\n",
      "[nltk_data] Downloading package wordnet to\n",
      "[nltk_data]     C:\\Users\\neetu\\AppData\\Roaming\\nltk_data...\n",
      "[nltk_data]   Package wordnet is already up-to-date!\n"
     ]
    },
    {
     "data": {
      "text/plain": [
       "True"
      ]
     },
     "execution_count": 3,
     "metadata": {},
     "output_type": "execute_result"
    }
   ],
   "source": [
    "nltk.download('punkt')\n",
    "nltk.download('stopwords')\n",
    "nltk.download('averaged_perceptron_tagger')\n",
    "nltk.download('wordnet')"
   ]
  },
  {
   "cell_type": "code",
   "execution_count": 4,
   "metadata": {
    "colab": {
     "base_uri": "https://localhost:8080/"
    },
    "executionInfo": {
     "elapsed": 8875,
     "status": "ok",
     "timestamp": 1724128902058,
     "user": {
      "displayName": "Jasonbir Singh",
      "userId": "11233032549834540609"
     },
     "user_tz": -330
    },
    "id": "3SuCIu0AFweF",
    "outputId": "a07948d6-fbb2-4556-d12e-28c3f4efd4db"
   },
   "outputs": [
    {
     "name": "stdout",
     "output_type": "stream",
     "text": [
      "Requirement already satisfied: finvader in d:\\anaconda\\anaconda_software\\envs\\sentimentanalysis\\lib\\site-packages (1.0.2)\n",
      "Requirement already satisfied: nltk==3.6.2 in d:\\anaconda\\anaconda_software\\envs\\sentimentanalysis\\lib\\site-packages (from finvader) (3.6.2)\n",
      "Requirement already satisfied: click in d:\\anaconda\\anaconda_software\\envs\\sentimentanalysis\\lib\\site-packages (from nltk==3.6.2->finvader) (8.1.7)\n",
      "Requirement already satisfied: joblib in d:\\anaconda\\anaconda_software\\envs\\sentimentanalysis\\lib\\site-packages (from nltk==3.6.2->finvader) (1.4.2)\n",
      "Requirement already satisfied: regex in d:\\anaconda\\anaconda_software\\envs\\sentimentanalysis\\lib\\site-packages (from nltk==3.6.2->finvader) (2024.9.11)\n",
      "Requirement already satisfied: tqdm in d:\\anaconda\\anaconda_software\\envs\\sentimentanalysis\\lib\\site-packages (from nltk==3.6.2->finvader) (4.66.5)\n",
      "Requirement already satisfied: colorama in d:\\anaconda\\anaconda_software\\envs\\sentimentanalysis\\lib\\site-packages (from click->nltk==3.6.2->finvader) (0.4.6)\n"
     ]
    }
   ],
   "source": [
    "! pip install finvader"
   ]
  },
  {
   "cell_type": "markdown",
   "metadata": {},
   "source": [
    "## Dataset Download"
   ]
  },
  {
   "cell_type": "code",
   "execution_count": 7,
   "metadata": {},
   "outputs": [
    {
     "data": {
      "text/html": [
       "<div>\n",
       "<style scoped>\n",
       "    .dataframe tbody tr th:only-of-type {\n",
       "        vertical-align: middle;\n",
       "    }\n",
       "\n",
       "    .dataframe tbody tr th {\n",
       "        vertical-align: top;\n",
       "    }\n",
       "\n",
       "    .dataframe thead th {\n",
       "        text-align: right;\n",
       "    }\n",
       "</style>\n",
       "<table border=\"1\" class=\"dataframe\">\n",
       "  <thead>\n",
       "    <tr style=\"text-align: right;\">\n",
       "      <th></th>\n",
       "      <th>Sentiment</th>\n",
       "      <th>Text</th>\n",
       "    </tr>\n",
       "  </thead>\n",
       "  <tbody>\n",
       "    <tr>\n",
       "      <th>0</th>\n",
       "      <td>neutral</td>\n",
       "      <td>Technopolis plans to develop in stages an area...</td>\n",
       "    </tr>\n",
       "    <tr>\n",
       "      <th>1</th>\n",
       "      <td>negative</td>\n",
       "      <td>The international electronic industry company ...</td>\n",
       "    </tr>\n",
       "    <tr>\n",
       "      <th>2</th>\n",
       "      <td>positive</td>\n",
       "      <td>With the new production plant the company woul...</td>\n",
       "    </tr>\n",
       "    <tr>\n",
       "      <th>3</th>\n",
       "      <td>positive</td>\n",
       "      <td>According to the company 's updated strategy f...</td>\n",
       "    </tr>\n",
       "    <tr>\n",
       "      <th>4</th>\n",
       "      <td>positive</td>\n",
       "      <td>FINANCING OF ASPOCOMP 'S GROWTH Aspocomp is ag...</td>\n",
       "    </tr>\n",
       "    <tr>\n",
       "      <th>5</th>\n",
       "      <td>positive</td>\n",
       "      <td>For the last quarter of 2010 , Componenta 's n...</td>\n",
       "    </tr>\n",
       "    <tr>\n",
       "      <th>6</th>\n",
       "      <td>positive</td>\n",
       "      <td>In the third quarter of 2010 , net sales incre...</td>\n",
       "    </tr>\n",
       "    <tr>\n",
       "      <th>7</th>\n",
       "      <td>positive</td>\n",
       "      <td>Operating profit rose to EUR 13.1 mn from EUR ...</td>\n",
       "    </tr>\n",
       "    <tr>\n",
       "      <th>8</th>\n",
       "      <td>positive</td>\n",
       "      <td>Operating profit totalled EUR 21.1 mn , up fro...</td>\n",
       "    </tr>\n",
       "    <tr>\n",
       "      <th>9</th>\n",
       "      <td>positive</td>\n",
       "      <td>TeliaSonera TLSN said the offer is in line wit...</td>\n",
       "    </tr>\n",
       "    <tr>\n",
       "      <th>10</th>\n",
       "      <td>positive</td>\n",
       "      <td>STORA ENSO , NORSKE SKOG , M-REAL , UPM-KYMMEN...</td>\n",
       "    </tr>\n",
       "    <tr>\n",
       "      <th>11</th>\n",
       "      <td>positive</td>\n",
       "      <td>A purchase agreement for 7,200 tons of gasolin...</td>\n",
       "    </tr>\n",
       "    <tr>\n",
       "      <th>12</th>\n",
       "      <td>positive</td>\n",
       "      <td>Finnish Talentum reports its operating profit ...</td>\n",
       "    </tr>\n",
       "    <tr>\n",
       "      <th>13</th>\n",
       "      <td>positive</td>\n",
       "      <td>Clothing retail chain Sepp+Æl+Æ 's sales incre...</td>\n",
       "    </tr>\n",
       "    <tr>\n",
       "      <th>14</th>\n",
       "      <td>positive</td>\n",
       "      <td>Consolidated net sales increased 16 % to reach...</td>\n",
       "    </tr>\n",
       "    <tr>\n",
       "      <th>15</th>\n",
       "      <td>positive</td>\n",
       "      <td>Foundries division reports its sales increased...</td>\n",
       "    </tr>\n",
       "    <tr>\n",
       "      <th>16</th>\n",
       "      <td>positive</td>\n",
       "      <td>HELSINKI ( AFX ) - Shares closed higher , led ...</td>\n",
       "    </tr>\n",
       "    <tr>\n",
       "      <th>17</th>\n",
       "      <td>positive</td>\n",
       "      <td>Incap Contract Manufacturing Services Pvt Ltd ...</td>\n",
       "    </tr>\n",
       "    <tr>\n",
       "      <th>18</th>\n",
       "      <td>positive</td>\n",
       "      <td>Its board of directors will propose a dividend...</td>\n",
       "    </tr>\n",
       "    <tr>\n",
       "      <th>19</th>\n",
       "      <td>positive</td>\n",
       "      <td>Lifetree was founded in 2000 , and its revenue...</td>\n",
       "    </tr>\n",
       "  </tbody>\n",
       "</table>\n",
       "</div>"
      ],
      "text/plain": [
       "   Sentiment                                               Text\n",
       "0    neutral  Technopolis plans to develop in stages an area...\n",
       "1   negative  The international electronic industry company ...\n",
       "2   positive  With the new production plant the company woul...\n",
       "3   positive  According to the company 's updated strategy f...\n",
       "4   positive  FINANCING OF ASPOCOMP 'S GROWTH Aspocomp is ag...\n",
       "5   positive  For the last quarter of 2010 , Componenta 's n...\n",
       "6   positive  In the third quarter of 2010 , net sales incre...\n",
       "7   positive  Operating profit rose to EUR 13.1 mn from EUR ...\n",
       "8   positive  Operating profit totalled EUR 21.1 mn , up fro...\n",
       "9   positive  TeliaSonera TLSN said the offer is in line wit...\n",
       "10  positive  STORA ENSO , NORSKE SKOG , M-REAL , UPM-KYMMEN...\n",
       "11  positive  A purchase agreement for 7,200 tons of gasolin...\n",
       "12  positive  Finnish Talentum reports its operating profit ...\n",
       "13  positive  Clothing retail chain Sepp+Æl+Æ 's sales incre...\n",
       "14  positive  Consolidated net sales increased 16 % to reach...\n",
       "15  positive  Foundries division reports its sales increased...\n",
       "16  positive  HELSINKI ( AFX ) - Shares closed higher , led ...\n",
       "17  positive  Incap Contract Manufacturing Services Pvt Ltd ...\n",
       "18  positive  Its board of directors will propose a dividend...\n",
       "19  positive  Lifetree was founded in 2000 , and its revenue..."
      ]
     },
     "execution_count": 7,
     "metadata": {},
     "output_type": "execute_result"
    }
   ],
   "source": [
    "# Reading of the dataset & Renaming Columns\n",
    "\n",
    "df = pd.read_csv('Sentiment_All_3.csv', encoding = 'latin-1')\n",
    "df = df.rename(columns={'neutral': 'Sentiment', 'According to Gran , the company has no plans to move all production to Russia , although that is where the company is growing .' : 'Text' })\n",
    "df.head(20)"
   ]
  },
  {
   "cell_type": "code",
   "execution_count": 8,
   "metadata": {},
   "outputs": [
    {
     "name": "stdout",
     "output_type": "stream",
     "text": [
      "<class 'pandas.core.frame.DataFrame'>\n",
      "RangeIndex: 4845 entries, 0 to 4844\n",
      "Data columns (total 2 columns):\n",
      " #   Column     Non-Null Count  Dtype \n",
      "---  ------     --------------  ----- \n",
      " 0   Sentiment  4845 non-null   object\n",
      " 1   Text       4845 non-null   object\n",
      "dtypes: object(2)\n",
      "memory usage: 75.8+ KB\n",
      "None\n",
      "\n",
      "\n",
      "       Sentiment                                               Text\n",
      "count       4845                                               4845\n",
      "unique         3                                               4837\n",
      "top      neutral  TELECOMWORLDWIRE-7 April 2006-TJ Group Plc sel...\n",
      "freq        2878                                                  2\n"
     ]
    }
   ],
   "source": [
    "# Information about the dataset\n",
    "\n",
    "print(df.info())\n",
    "print(\"\\n\")\n",
    "print(df.describe())"
   ]
  },
  {
   "cell_type": "markdown",
   "metadata": {
    "jp-MarkdownHeadingCollapsed": true
   },
   "source": [
    "# Sentiment Analysis"
   ]
  },
  {
   "cell_type": "markdown",
   "metadata": {
    "id": "hfH32urLgaL3"
   },
   "source": [
    "## Pre Processing for Lexicon models"
   ]
  },
  {
   "cell_type": "code",
   "execution_count": 7,
   "metadata": {
    "colab": {
     "base_uri": "https://localhost:8080/",
     "height": 147
    },
    "executionInfo": {
     "elapsed": 442,
     "status": "ok",
     "timestamp": 1724135977307,
     "user": {
      "displayName": "Jasonbir Singh",
      "userId": "11233032549834540609"
     },
     "user_tz": -330
    },
    "id": "tn_JBTndgwwn",
    "outputId": "8d9c6461-807c-4cf1-f5e8-666c0b93170a"
   },
   "outputs": [
    {
     "data": {
      "text/plain": [
       "Sentiment    0\n",
       "Text         0\n",
       "dtype: int64"
      ]
     },
     "execution_count": 7,
     "metadata": {},
     "output_type": "execute_result"
    }
   ],
   "source": [
    "# Checking for the Null Value\n",
    "df.isnull().sum()"
   ]
  },
  {
   "cell_type": "code",
   "execution_count": 8,
   "metadata": {
    "id": "4PUi7Jp9FVO8"
   },
   "outputs": [],
   "source": [
    "# Making the Dataset uniform case before passing it to the model\n",
    "for i in df.columns:\n",
    "  df[i] = df[i].str.lower()"
   ]
  },
  {
   "cell_type": "code",
   "execution_count": 9,
   "metadata": {},
   "outputs": [],
   "source": [
    "#Dropping of Duplicates\n",
    "df.drop_duplicates(subset=['Text'],keep='first',inplace=True)"
   ]
  },
  {
   "cell_type": "code",
   "execution_count": 10,
   "metadata": {},
   "outputs": [
    {
     "name": "stdout",
     "output_type": "stream",
     "text": [
      "<class 'pandas.core.frame.DataFrame'>\n",
      "Index: 4837 entries, 0 to 4844\n",
      "Data columns (total 2 columns):\n",
      " #   Column     Non-Null Count  Dtype \n",
      "---  ------     --------------  ----- \n",
      " 0   Sentiment  4837 non-null   object\n",
      " 1   Text       4837 non-null   object\n",
      "dtypes: object(2)\n",
      "memory usage: 113.4+ KB\n"
     ]
    }
   ],
   "source": [
    "df.info()"
   ]
  },
  {
   "cell_type": "code",
   "execution_count": 11,
   "metadata": {},
   "outputs": [],
   "source": [
    "# Copy of the Dataset for testing models \n",
    "# -- FINVADER & VADERSENTIMENT\n",
    "\n",
    "df_vaderSentiment = df.copy()\n",
    "df_finVader = df.copy()\n",
    "df_finBert = df.copy()"
   ]
  },
  {
   "cell_type": "markdown",
   "metadata": {},
   "source": [
    "## Pre Processing for AI models"
   ]
  },
  {
   "cell_type": "code",
   "execution_count": 12,
   "metadata": {},
   "outputs": [],
   "source": [
    "from sklearn.preprocessing import LabelEncoder\n",
    "from sklearn import model_selection, naive_bayes, svm\n",
    "from sklearn.metrics import accuracy_score\n",
    "from sklearn.feature_extraction.text import TfidfVectorizer"
   ]
  },
  {
   "cell_type": "code",
   "execution_count": 13,
   "metadata": {
    "id": "3uzlVLoUHeTG"
   },
   "outputs": [],
   "source": [
    "# function to remove URL from dataframe.\n",
    "url_pattern = re.compile(r'https?://\\S+|www\\.\\S+')\n",
    "\n",
    "def remove_urls(text):\n",
    "    return url_pattern.sub(r'', text)"
   ]
  },
  {
   "cell_type": "code",
   "execution_count": 14,
   "metadata": {
    "colab": {
     "base_uri": "https://localhost:8080/",
     "height": 1000
    },
    "executionInfo": {
     "elapsed": 2167,
     "status": "ok",
     "timestamp": 1724128144385,
     "user": {
      "displayName": "Jasonbir Singh",
      "userId": "11233032549834540609"
     },
     "user_tz": -330
    },
    "id": "qoVF9RI1HyUd",
    "outputId": "afe37bde-6278-4001-fc21-6d8a29c406d2"
   },
   "outputs": [
    {
     "data": {
      "text/html": [
       "<div>\n",
       "<style scoped>\n",
       "    .dataframe tbody tr th:only-of-type {\n",
       "        vertical-align: middle;\n",
       "    }\n",
       "\n",
       "    .dataframe tbody tr th {\n",
       "        vertical-align: top;\n",
       "    }\n",
       "\n",
       "    .dataframe thead th {\n",
       "        text-align: right;\n",
       "    }\n",
       "</style>\n",
       "<table border=\"1\" class=\"dataframe\">\n",
       "  <thead>\n",
       "    <tr style=\"text-align: right;\">\n",
       "      <th></th>\n",
       "      <th>Sentiment</th>\n",
       "      <th>Text</th>\n",
       "    </tr>\n",
       "  </thead>\n",
       "  <tbody>\n",
       "    <tr>\n",
       "      <th>0</th>\n",
       "      <td>neutral</td>\n",
       "      <td>technopolis plans to develop in stages an area...</td>\n",
       "    </tr>\n",
       "    <tr>\n",
       "      <th>1</th>\n",
       "      <td>negative</td>\n",
       "      <td>the international electronic industry company ...</td>\n",
       "    </tr>\n",
       "    <tr>\n",
       "      <th>2</th>\n",
       "      <td>positive</td>\n",
       "      <td>with the new production plant the company woul...</td>\n",
       "    </tr>\n",
       "    <tr>\n",
       "      <th>3</th>\n",
       "      <td>positive</td>\n",
       "      <td>according to the company s updated strategy fo...</td>\n",
       "    </tr>\n",
       "    <tr>\n",
       "      <th>4</th>\n",
       "      <td>positive</td>\n",
       "      <td>financing of aspocomp s growth aspocomp is agg...</td>\n",
       "    </tr>\n",
       "    <tr>\n",
       "      <th>5</th>\n",
       "      <td>positive</td>\n",
       "      <td>for the last quarter of   componenta s net sal...</td>\n",
       "    </tr>\n",
       "    <tr>\n",
       "      <th>6</th>\n",
       "      <td>positive</td>\n",
       "      <td>in the third quarter of   net sales increased ...</td>\n",
       "    </tr>\n",
       "    <tr>\n",
       "      <th>7</th>\n",
       "      <td>positive</td>\n",
       "      <td>operating profit rose to eur  mn from eur  mn ...</td>\n",
       "    </tr>\n",
       "    <tr>\n",
       "      <th>8</th>\n",
       "      <td>positive</td>\n",
       "      <td>operating profit totalled eur  mn  up from eur...</td>\n",
       "    </tr>\n",
       "    <tr>\n",
       "      <th>9</th>\n",
       "      <td>positive</td>\n",
       "      <td>teliasonera tlsn said the offer is in line wit...</td>\n",
       "    </tr>\n",
       "    <tr>\n",
       "      <th>10</th>\n",
       "      <td>positive</td>\n",
       "      <td>stora enso  norske skog  mreal  upmkymmene cre...</td>\n",
       "    </tr>\n",
       "    <tr>\n",
       "      <th>11</th>\n",
       "      <td>positive</td>\n",
       "      <td>a purchase agreement for  tons of gasoline wit...</td>\n",
       "    </tr>\n",
       "    <tr>\n",
       "      <th>12</th>\n",
       "      <td>positive</td>\n",
       "      <td>finnish talentum reports its operating profit ...</td>\n",
       "    </tr>\n",
       "    <tr>\n",
       "      <th>13</th>\n",
       "      <td>positive</td>\n",
       "      <td>clothing retail chain seppælæ s sales increase...</td>\n",
       "    </tr>\n",
       "    <tr>\n",
       "      <th>14</th>\n",
       "      <td>positive</td>\n",
       "      <td>consolidated net sales increased   to reach eu...</td>\n",
       "    </tr>\n",
       "    <tr>\n",
       "      <th>15</th>\n",
       "      <td>positive</td>\n",
       "      <td>foundries division reports its sales increased...</td>\n",
       "    </tr>\n",
       "    <tr>\n",
       "      <th>16</th>\n",
       "      <td>positive</td>\n",
       "      <td>helsinki  afx   shares closed higher  led by n...</td>\n",
       "    </tr>\n",
       "    <tr>\n",
       "      <th>17</th>\n",
       "      <td>positive</td>\n",
       "      <td>incap contract manufacturing services pvt ltd ...</td>\n",
       "    </tr>\n",
       "    <tr>\n",
       "      <th>18</th>\n",
       "      <td>positive</td>\n",
       "      <td>its board of directors will propose a dividend...</td>\n",
       "    </tr>\n",
       "    <tr>\n",
       "      <th>19</th>\n",
       "      <td>positive</td>\n",
       "      <td>lifetree was founded in   and its revenues hav...</td>\n",
       "    </tr>\n",
       "    <tr>\n",
       "      <th>20</th>\n",
       "      <td>positive</td>\n",
       "      <td>filippova  a trilateral agreement on investme...</td>\n",
       "    </tr>\n",
       "    <tr>\n",
       "      <th>21</th>\n",
       "      <td>positive</td>\n",
       "      <td>megafon s subscriber base increased   in  to  ...</td>\n",
       "    </tr>\n",
       "    <tr>\n",
       "      <th>22</th>\n",
       "      <td>positive</td>\n",
       "      <td>net income from life insurance doubled to eur ...</td>\n",
       "    </tr>\n",
       "    <tr>\n",
       "      <th>23</th>\n",
       "      <td>positive</td>\n",
       "      <td>net sales increased to eur  m from eur  m and ...</td>\n",
       "    </tr>\n",
       "    <tr>\n",
       "      <th>24</th>\n",
       "      <td>positive</td>\n",
       "      <td>net sales surged by   to eur  m teleste said t...</td>\n",
       "    </tr>\n",
       "    <tr>\n",
       "      <th>25</th>\n",
       "      <td>positive</td>\n",
       "      <td>nordea group s operating profit increased in  ...</td>\n",
       "    </tr>\n",
       "    <tr>\n",
       "      <th>26</th>\n",
       "      <td>positive</td>\n",
       "      <td>operating profit for the ninemonth period incr...</td>\n",
       "    </tr>\n",
       "    <tr>\n",
       "      <th>27</th>\n",
       "      <td>positive</td>\n",
       "      <td>operating profit for the ninemonth period incr...</td>\n",
       "    </tr>\n",
       "    <tr>\n",
       "      <th>28</th>\n",
       "      <td>positive</td>\n",
       "      <td>operating profit for the threemonth period inc...</td>\n",
       "    </tr>\n",
       "    <tr>\n",
       "      <th>29</th>\n",
       "      <td>positive</td>\n",
       "      <td>the brazilian unit of finnish security solutio...</td>\n",
       "    </tr>\n",
       "    <tr>\n",
       "      <th>30</th>\n",
       "      <td>positive</td>\n",
       "      <td>the company s net profit rose   on the year to...</td>\n",
       "    </tr>\n",
       "    <tr>\n",
       "      <th>31</th>\n",
       "      <td>positive</td>\n",
       "      <td>the lithuanian beer market made up  million li...</td>\n",
       "    </tr>\n",
       "    <tr>\n",
       "      <th>32</th>\n",
       "      <td>positive</td>\n",
       "      <td>viking line s cargo revenue increased by   to ...</td>\n",
       "    </tr>\n",
       "    <tr>\n",
       "      <th>33</th>\n",
       "      <td>positive</td>\n",
       "      <td>the fair value of the property portfolio doubl...</td>\n",
       "    </tr>\n",
       "    <tr>\n",
       "      <th>34</th>\n",
       "      <td>positive</td>\n",
       "      <td>february   finnish media company sanoma oyj h...</td>\n",
       "    </tr>\n",
       "    <tr>\n",
       "      <th>35</th>\n",
       "      <td>positive</td>\n",
       "      <td>a helsinki  eliiv today reported eps of eur  f...</td>\n",
       "    </tr>\n",
       "    <tr>\n",
       "      <th>36</th>\n",
       "      <td>positive</td>\n",
       "      <td>aspo plc stock exchange release february    at...</td>\n",
       "    </tr>\n",
       "    <tr>\n",
       "      <th>37</th>\n",
       "      <td>positive</td>\n",
       "      <td>commission income increased by   to eur  mn  a...</td>\n",
       "    </tr>\n",
       "    <tr>\n",
       "      <th>38</th>\n",
       "      <td>positive</td>\n",
       "      <td>in january  traffic  measured in revenue passe...</td>\n",
       "    </tr>\n",
       "    <tr>\n",
       "      <th>39</th>\n",
       "      <td>positive</td>\n",
       "      <td>in januaryseptember   fiskars  net profit went...</td>\n",
       "    </tr>\n",
       "    <tr>\n",
       "      <th>40</th>\n",
       "      <td>positive</td>\n",
       "      <td>net income from life insurance rose to eur  mn...</td>\n",
       "    </tr>\n",
       "    <tr>\n",
       "      <th>41</th>\n",
       "      <td>positive</td>\n",
       "      <td>nyrstar has also agreed to supply to talvivaar...</td>\n",
       "    </tr>\n",
       "    <tr>\n",
       "      <th>42</th>\n",
       "      <td>positive</td>\n",
       "      <td>sales for both the department store division a...</td>\n",
       "    </tr>\n",
       "    <tr>\n",
       "      <th>43</th>\n",
       "      <td>positive</td>\n",
       "      <td>sales have risen in other export markets</td>\n",
       "    </tr>\n",
       "    <tr>\n",
       "      <th>44</th>\n",
       "      <td>positive</td>\n",
       "      <td>sales increased due to growing market rates an...</td>\n",
       "    </tr>\n",
       "    <tr>\n",
       "      <th>45</th>\n",
       "      <td>positive</td>\n",
       "      <td>the agreement strengthens our longterm partner...</td>\n",
       "    </tr>\n",
       "    <tr>\n",
       "      <th>46</th>\n",
       "      <td>positive</td>\n",
       "      <td>the agreement was signed with biohit healthcar...</td>\n",
       "    </tr>\n",
       "    <tr>\n",
       "      <th>47</th>\n",
       "      <td>positive</td>\n",
       "      <td>the company also estimates the already carried...</td>\n",
       "    </tr>\n",
       "    <tr>\n",
       "      <th>48</th>\n",
       "      <td>positive</td>\n",
       "      <td>the company s order book stood at  bln euro   ...</td>\n",
       "    </tr>\n",
       "    <tr>\n",
       "      <th>49</th>\n",
       "      <td>positive</td>\n",
       "      <td>the company said that paper demand increased i...</td>\n",
       "    </tr>\n",
       "  </tbody>\n",
       "</table>\n",
       "</div>"
      ],
      "text/plain": [
       "   Sentiment                                               Text\n",
       "0    neutral  technopolis plans to develop in stages an area...\n",
       "1   negative  the international electronic industry company ...\n",
       "2   positive  with the new production plant the company woul...\n",
       "3   positive  according to the company s updated strategy fo...\n",
       "4   positive  financing of aspocomp s growth aspocomp is agg...\n",
       "5   positive  for the last quarter of   componenta s net sal...\n",
       "6   positive  in the third quarter of   net sales increased ...\n",
       "7   positive  operating profit rose to eur  mn from eur  mn ...\n",
       "8   positive  operating profit totalled eur  mn  up from eur...\n",
       "9   positive  teliasonera tlsn said the offer is in line wit...\n",
       "10  positive  stora enso  norske skog  mreal  upmkymmene cre...\n",
       "11  positive  a purchase agreement for  tons of gasoline wit...\n",
       "12  positive  finnish talentum reports its operating profit ...\n",
       "13  positive  clothing retail chain seppælæ s sales increase...\n",
       "14  positive  consolidated net sales increased   to reach eu...\n",
       "15  positive  foundries division reports its sales increased...\n",
       "16  positive  helsinki  afx   shares closed higher  led by n...\n",
       "17  positive  incap contract manufacturing services pvt ltd ...\n",
       "18  positive  its board of directors will propose a dividend...\n",
       "19  positive  lifetree was founded in   and its revenues hav...\n",
       "20  positive   filippova  a trilateral agreement on investme...\n",
       "21  positive  megafon s subscriber base increased   in  to  ...\n",
       "22  positive  net income from life insurance doubled to eur ...\n",
       "23  positive  net sales increased to eur  m from eur  m and ...\n",
       "24  positive  net sales surged by   to eur  m teleste said t...\n",
       "25  positive  nordea group s operating profit increased in  ...\n",
       "26  positive  operating profit for the ninemonth period incr...\n",
       "27  positive  operating profit for the ninemonth period incr...\n",
       "28  positive  operating profit for the threemonth period inc...\n",
       "29  positive  the brazilian unit of finnish security solutio...\n",
       "30  positive  the company s net profit rose   on the year to...\n",
       "31  positive  the lithuanian beer market made up  million li...\n",
       "32  positive  viking line s cargo revenue increased by   to ...\n",
       "33  positive  the fair value of the property portfolio doubl...\n",
       "34  positive   february   finnish media company sanoma oyj h...\n",
       "35  positive  a helsinki  eliiv today reported eps of eur  f...\n",
       "36  positive  aspo plc stock exchange release february    at...\n",
       "37  positive  commission income increased by   to eur  mn  a...\n",
       "38  positive  in january  traffic  measured in revenue passe...\n",
       "39  positive  in januaryseptember   fiskars  net profit went...\n",
       "40  positive  net income from life insurance rose to eur  mn...\n",
       "41  positive  nyrstar has also agreed to supply to talvivaar...\n",
       "42  positive  sales for both the department store division a...\n",
       "43  positive          sales have risen in other export markets \n",
       "44  positive  sales increased due to growing market rates an...\n",
       "45  positive  the agreement strengthens our longterm partner...\n",
       "46  positive  the agreement was signed with biohit healthcar...\n",
       "47  positive  the company also estimates the already carried...\n",
       "48  positive  the company s order book stood at  bln euro   ...\n",
       "49  positive  the company said that paper demand increased i..."
      ]
     },
     "execution_count": 14,
     "metadata": {},
     "output_type": "execute_result"
    }
   ],
   "source": [
    "# Call method to remove URL\n",
    "df['Text'] = df['Text'].apply(remove_urls)\n",
    "\n",
    "#Removing remove non-word and non-whitespace characters\n",
    "df = df.replace(to_replace=r'[^\\w\\s]', value='', regex=True)\n",
    "\n",
    "# Removing Digits\n",
    "df = df.replace(to_replace=r'\\d', value='', regex=True)\n",
    "\n",
    "df.head(50)"
   ]
  },
  {
   "cell_type": "code",
   "execution_count": 15,
   "metadata": {
    "colab": {
     "base_uri": "https://localhost:8080/",
     "height": 671
    },
    "executionInfo": {
     "elapsed": 887,
     "status": "ok",
     "timestamp": 1724128145269,
     "user": {
      "displayName": "Jasonbir Singh",
      "userId": "11233032549834540609"
     },
     "user_tz": -330
    },
    "id": "jpwJ9NeV4nwn",
    "outputId": "81c1daa8-3c84-426a-b763-d424a7d7b9bb"
   },
   "outputs": [
    {
     "data": {
      "image/png": "[encoded data removed]",
      "text/plain": [
       "<Figure size 1200x800 with 1 Axes>"
      ]
     },
     "metadata": {},
     "output_type": "display_data"
    },
    {
     "data": {
      "text/plain": [
       "136"
      ]
     },
     "execution_count": 15,
     "metadata": {},
     "output_type": "execute_result"
    }
   ],
   "source": [
    "plt.figure(figsize=(12,8))\n",
    "fig = sns.countplot(x='Sentiment',data=df)\n",
    "plt.show(fig)\n",
    "plt.close('all')\n",
    "del fig\n",
    "gc.collect()"
   ]
  },
  {
   "cell_type": "code",
   "execution_count": 16,
   "metadata": {
    "id": "zNYEeUaEIG4e"
   },
   "outputs": [],
   "source": [
    "# Tokenisation\n",
    "# not recommended to run on lexicon-based models\n",
    "#   -- vaderSentiment\n",
    "#   -- finVader\n",
    "# Create another variable and then tokenize\n",
    "# ***  Lexicon-based models rely on analyzing the sentiment of whole words or phrases within\n",
    "# the text, and tokenization can disrupt the context and meaning these models depend on.\n",
    "\n",
    "df_token = df.copy()\n",
    "df_token['Text'] = df_token['Text'].apply(word_tokenize)"
   ]
  },
  {
   "cell_type": "code",
   "execution_count": 17,
   "metadata": {
    "colab": {
     "base_uri": "https://localhost:8080/",
     "height": 1000
    },
    "executionInfo": {
     "elapsed": 20,
     "status": "ok",
     "timestamp": 1724128204601,
     "user": {
      "displayName": "Jasonbir Singh",
      "userId": "11233032549834540609"
     },
     "user_tz": -330
    },
    "id": "a9D54Br5K3Fn",
    "outputId": "b55b61d0-4840-41d1-f042-5bf19790d60a"
   },
   "outputs": [
    {
     "data": {
      "text/html": [
       "<div>\n",
       "<style scoped>\n",
       "    .dataframe tbody tr th:only-of-type {\n",
       "        vertical-align: middle;\n",
       "    }\n",
       "\n",
       "    .dataframe tbody tr th {\n",
       "        vertical-align: top;\n",
       "    }\n",
       "\n",
       "    .dataframe thead th {\n",
       "        text-align: right;\n",
       "    }\n",
       "</style>\n",
       "<table border=\"1\" class=\"dataframe\">\n",
       "  <thead>\n",
       "    <tr style=\"text-align: right;\">\n",
       "      <th></th>\n",
       "      <th>Sentiment</th>\n",
       "      <th>Text</th>\n",
       "    </tr>\n",
       "  </thead>\n",
       "  <tbody>\n",
       "    <tr>\n",
       "      <th>0</th>\n",
       "      <td>neutral</td>\n",
       "      <td>[technopolis, plans, to, develop, in, stages, ...</td>\n",
       "    </tr>\n",
       "    <tr>\n",
       "      <th>1</th>\n",
       "      <td>negative</td>\n",
       "      <td>[the, international, electronic, industry, com...</td>\n",
       "    </tr>\n",
       "    <tr>\n",
       "      <th>2</th>\n",
       "      <td>positive</td>\n",
       "      <td>[with, the, new, production, plant, the, compa...</td>\n",
       "    </tr>\n",
       "    <tr>\n",
       "      <th>3</th>\n",
       "      <td>positive</td>\n",
       "      <td>[according, to, the, company, s, updated, stra...</td>\n",
       "    </tr>\n",
       "    <tr>\n",
       "      <th>4</th>\n",
       "      <td>positive</td>\n",
       "      <td>[financing, of, aspocomp, s, growth, aspocomp,...</td>\n",
       "    </tr>\n",
       "    <tr>\n",
       "      <th>5</th>\n",
       "      <td>positive</td>\n",
       "      <td>[for, the, last, quarter, of, componenta, s, n...</td>\n",
       "    </tr>\n",
       "    <tr>\n",
       "      <th>6</th>\n",
       "      <td>positive</td>\n",
       "      <td>[in, the, third, quarter, of, net, sales, incr...</td>\n",
       "    </tr>\n",
       "    <tr>\n",
       "      <th>7</th>\n",
       "      <td>positive</td>\n",
       "      <td>[operating, profit, rose, to, eur, mn, from, e...</td>\n",
       "    </tr>\n",
       "    <tr>\n",
       "      <th>8</th>\n",
       "      <td>positive</td>\n",
       "      <td>[operating, profit, totalled, eur, mn, up, fro...</td>\n",
       "    </tr>\n",
       "    <tr>\n",
       "      <th>9</th>\n",
       "      <td>positive</td>\n",
       "      <td>[teliasonera, tlsn, said, the, offer, is, in, ...</td>\n",
       "    </tr>\n",
       "    <tr>\n",
       "      <th>10</th>\n",
       "      <td>positive</td>\n",
       "      <td>[stora, enso, norske, skog, mreal, upmkymmene,...</td>\n",
       "    </tr>\n",
       "    <tr>\n",
       "      <th>11</th>\n",
       "      <td>positive</td>\n",
       "      <td>[a, purchase, agreement, for, tons, of, gasoli...</td>\n",
       "    </tr>\n",
       "    <tr>\n",
       "      <th>12</th>\n",
       "      <td>positive</td>\n",
       "      <td>[finnish, talentum, reports, its, operating, p...</td>\n",
       "    </tr>\n",
       "    <tr>\n",
       "      <th>13</th>\n",
       "      <td>positive</td>\n",
       "      <td>[clothing, retail, chain, seppælæ, s, sales, i...</td>\n",
       "    </tr>\n",
       "    <tr>\n",
       "      <th>14</th>\n",
       "      <td>positive</td>\n",
       "      <td>[consolidated, net, sales, increased, to, reac...</td>\n",
       "    </tr>\n",
       "    <tr>\n",
       "      <th>15</th>\n",
       "      <td>positive</td>\n",
       "      <td>[foundries, division, reports, its, sales, inc...</td>\n",
       "    </tr>\n",
       "    <tr>\n",
       "      <th>16</th>\n",
       "      <td>positive</td>\n",
       "      <td>[helsinki, afx, shares, closed, higher, led, b...</td>\n",
       "    </tr>\n",
       "    <tr>\n",
       "      <th>17</th>\n",
       "      <td>positive</td>\n",
       "      <td>[incap, contract, manufacturing, services, pvt...</td>\n",
       "    </tr>\n",
       "    <tr>\n",
       "      <th>18</th>\n",
       "      <td>positive</td>\n",
       "      <td>[its, board, of, directors, will, propose, a, ...</td>\n",
       "    </tr>\n",
       "    <tr>\n",
       "      <th>19</th>\n",
       "      <td>positive</td>\n",
       "      <td>[lifetree, was, founded, in, and, its, revenue...</td>\n",
       "    </tr>\n",
       "    <tr>\n",
       "      <th>20</th>\n",
       "      <td>positive</td>\n",
       "      <td>[filippova, a, trilateral, agreement, on, inve...</td>\n",
       "    </tr>\n",
       "    <tr>\n",
       "      <th>21</th>\n",
       "      <td>positive</td>\n",
       "      <td>[megafon, s, subscriber, base, increased, in, ...</td>\n",
       "    </tr>\n",
       "    <tr>\n",
       "      <th>22</th>\n",
       "      <td>positive</td>\n",
       "      <td>[net, income, from, life, insurance, doubled, ...</td>\n",
       "    </tr>\n",
       "    <tr>\n",
       "      <th>23</th>\n",
       "      <td>positive</td>\n",
       "      <td>[net, sales, increased, to, eur, m, from, eur,...</td>\n",
       "    </tr>\n",
       "    <tr>\n",
       "      <th>24</th>\n",
       "      <td>positive</td>\n",
       "      <td>[net, sales, surged, by, to, eur, m, teleste, ...</td>\n",
       "    </tr>\n",
       "    <tr>\n",
       "      <th>25</th>\n",
       "      <td>positive</td>\n",
       "      <td>[nordea, group, s, operating, profit, increase...</td>\n",
       "    </tr>\n",
       "    <tr>\n",
       "      <th>26</th>\n",
       "      <td>positive</td>\n",
       "      <td>[operating, profit, for, the, ninemonth, perio...</td>\n",
       "    </tr>\n",
       "    <tr>\n",
       "      <th>27</th>\n",
       "      <td>positive</td>\n",
       "      <td>[operating, profit, for, the, ninemonth, perio...</td>\n",
       "    </tr>\n",
       "    <tr>\n",
       "      <th>28</th>\n",
       "      <td>positive</td>\n",
       "      <td>[operating, profit, for, the, threemonth, peri...</td>\n",
       "    </tr>\n",
       "    <tr>\n",
       "      <th>29</th>\n",
       "      <td>positive</td>\n",
       "      <td>[the, brazilian, unit, of, finnish, security, ...</td>\n",
       "    </tr>\n",
       "    <tr>\n",
       "      <th>30</th>\n",
       "      <td>positive</td>\n",
       "      <td>[the, company, s, net, profit, rose, on, the, ...</td>\n",
       "    </tr>\n",
       "    <tr>\n",
       "      <th>31</th>\n",
       "      <td>positive</td>\n",
       "      <td>[the, lithuanian, beer, market, made, up, mill...</td>\n",
       "    </tr>\n",
       "    <tr>\n",
       "      <th>32</th>\n",
       "      <td>positive</td>\n",
       "      <td>[viking, line, s, cargo, revenue, increased, b...</td>\n",
       "    </tr>\n",
       "    <tr>\n",
       "      <th>33</th>\n",
       "      <td>positive</td>\n",
       "      <td>[the, fair, value, of, the, property, portfoli...</td>\n",
       "    </tr>\n",
       "    <tr>\n",
       "      <th>34</th>\n",
       "      <td>positive</td>\n",
       "      <td>[february, finnish, media, company, sanoma, oy...</td>\n",
       "    </tr>\n",
       "    <tr>\n",
       "      <th>35</th>\n",
       "      <td>positive</td>\n",
       "      <td>[a, helsinki, eliiv, today, reported, eps, of,...</td>\n",
       "    </tr>\n",
       "    <tr>\n",
       "      <th>36</th>\n",
       "      <td>positive</td>\n",
       "      <td>[aspo, plc, stock, exchange, release, february...</td>\n",
       "    </tr>\n",
       "    <tr>\n",
       "      <th>37</th>\n",
       "      <td>positive</td>\n",
       "      <td>[commission, income, increased, by, to, eur, m...</td>\n",
       "    </tr>\n",
       "    <tr>\n",
       "      <th>38</th>\n",
       "      <td>positive</td>\n",
       "      <td>[in, january, traffic, measured, in, revenue, ...</td>\n",
       "    </tr>\n",
       "    <tr>\n",
       "      <th>39</th>\n",
       "      <td>positive</td>\n",
       "      <td>[in, januaryseptember, fiskars, net, profit, w...</td>\n",
       "    </tr>\n",
       "    <tr>\n",
       "      <th>40</th>\n",
       "      <td>positive</td>\n",
       "      <td>[net, income, from, life, insurance, rose, to,...</td>\n",
       "    </tr>\n",
       "    <tr>\n",
       "      <th>41</th>\n",
       "      <td>positive</td>\n",
       "      <td>[nyrstar, has, also, agreed, to, supply, to, t...</td>\n",
       "    </tr>\n",
       "    <tr>\n",
       "      <th>42</th>\n",
       "      <td>positive</td>\n",
       "      <td>[sales, for, both, the, department, store, div...</td>\n",
       "    </tr>\n",
       "    <tr>\n",
       "      <th>43</th>\n",
       "      <td>positive</td>\n",
       "      <td>[sales, have, risen, in, other, export, markets]</td>\n",
       "    </tr>\n",
       "    <tr>\n",
       "      <th>44</th>\n",
       "      <td>positive</td>\n",
       "      <td>[sales, increased, due, to, growing, market, r...</td>\n",
       "    </tr>\n",
       "    <tr>\n",
       "      <th>45</th>\n",
       "      <td>positive</td>\n",
       "      <td>[the, agreement, strengthens, our, longterm, p...</td>\n",
       "    </tr>\n",
       "    <tr>\n",
       "      <th>46</th>\n",
       "      <td>positive</td>\n",
       "      <td>[the, agreement, was, signed, with, biohit, he...</td>\n",
       "    </tr>\n",
       "    <tr>\n",
       "      <th>47</th>\n",
       "      <td>positive</td>\n",
       "      <td>[the, company, also, estimates, the, already, ...</td>\n",
       "    </tr>\n",
       "    <tr>\n",
       "      <th>48</th>\n",
       "      <td>positive</td>\n",
       "      <td>[the, company, s, order, book, stood, at, bln,...</td>\n",
       "    </tr>\n",
       "    <tr>\n",
       "      <th>49</th>\n",
       "      <td>positive</td>\n",
       "      <td>[the, company, said, that, paper, demand, incr...</td>\n",
       "    </tr>\n",
       "  </tbody>\n",
       "</table>\n",
       "</div>"
      ],
      "text/plain": [
       "   Sentiment                                               Text\n",
       "0    neutral  [technopolis, plans, to, develop, in, stages, ...\n",
       "1   negative  [the, international, electronic, industry, com...\n",
       "2   positive  [with, the, new, production, plant, the, compa...\n",
       "3   positive  [according, to, the, company, s, updated, stra...\n",
       "4   positive  [financing, of, aspocomp, s, growth, aspocomp,...\n",
       "5   positive  [for, the, last, quarter, of, componenta, s, n...\n",
       "6   positive  [in, the, third, quarter, of, net, sales, incr...\n",
       "7   positive  [operating, profit, rose, to, eur, mn, from, e...\n",
       "8   positive  [operating, profit, totalled, eur, mn, up, fro...\n",
       "9   positive  [teliasonera, tlsn, said, the, offer, is, in, ...\n",
       "10  positive  [stora, enso, norske, skog, mreal, upmkymmene,...\n",
       "11  positive  [a, purchase, agreement, for, tons, of, gasoli...\n",
       "12  positive  [finnish, talentum, reports, its, operating, p...\n",
       "13  positive  [clothing, retail, chain, seppælæ, s, sales, i...\n",
       "14  positive  [consolidated, net, sales, increased, to, reac...\n",
       "15  positive  [foundries, division, reports, its, sales, inc...\n",
       "16  positive  [helsinki, afx, shares, closed, higher, led, b...\n",
       "17  positive  [incap, contract, manufacturing, services, pvt...\n",
       "18  positive  [its, board, of, directors, will, propose, a, ...\n",
       "19  positive  [lifetree, was, founded, in, and, its, revenue...\n",
       "20  positive  [filippova, a, trilateral, agreement, on, inve...\n",
       "21  positive  [megafon, s, subscriber, base, increased, in, ...\n",
       "22  positive  [net, income, from, life, insurance, doubled, ...\n",
       "23  positive  [net, sales, increased, to, eur, m, from, eur,...\n",
       "24  positive  [net, sales, surged, by, to, eur, m, teleste, ...\n",
       "25  positive  [nordea, group, s, operating, profit, increase...\n",
       "26  positive  [operating, profit, for, the, ninemonth, perio...\n",
       "27  positive  [operating, profit, for, the, ninemonth, perio...\n",
       "28  positive  [operating, profit, for, the, threemonth, peri...\n",
       "29  positive  [the, brazilian, unit, of, finnish, security, ...\n",
       "30  positive  [the, company, s, net, profit, rose, on, the, ...\n",
       "31  positive  [the, lithuanian, beer, market, made, up, mill...\n",
       "32  positive  [viking, line, s, cargo, revenue, increased, b...\n",
       "33  positive  [the, fair, value, of, the, property, portfoli...\n",
       "34  positive  [february, finnish, media, company, sanoma, oy...\n",
       "35  positive  [a, helsinki, eliiv, today, reported, eps, of,...\n",
       "36  positive  [aspo, plc, stock, exchange, release, february...\n",
       "37  positive  [commission, income, increased, by, to, eur, m...\n",
       "38  positive  [in, january, traffic, measured, in, revenue, ...\n",
       "39  positive  [in, januaryseptember, fiskars, net, profit, w...\n",
       "40  positive  [net, income, from, life, insurance, rose, to,...\n",
       "41  positive  [nyrstar, has, also, agreed, to, supply, to, t...\n",
       "42  positive  [sales, for, both, the, department, store, div...\n",
       "43  positive   [sales, have, risen, in, other, export, markets]\n",
       "44  positive  [sales, increased, due, to, growing, market, r...\n",
       "45  positive  [the, agreement, strengthens, our, longterm, p...\n",
       "46  positive  [the, agreement, was, signed, with, biohit, he...\n",
       "47  positive  [the, company, also, estimates, the, already, ...\n",
       "48  positive  [the, company, s, order, book, stood, at, bln,...\n",
       "49  positive  [the, company, said, that, paper, demand, incr..."
      ]
     },
     "execution_count": 17,
     "metadata": {},
     "output_type": "execute_result"
    }
   ],
   "source": [
    "df_token.head(50)"
   ]
  },
  {
   "cell_type": "code",
   "execution_count": 18,
   "metadata": {
    "id": "E2f28r3EOu60"
   },
   "outputs": [],
   "source": [
    "#Stemming\n",
    "# cars, car's, cars' all mean car\n",
    "stemmer = PorterStemmer()\n",
    "\n",
    "def stem_words(words):\n",
    "    return [stemmer.stem(word) for word in words]\n",
    "\n",
    "df_token['stemmed_Text'] = df_token['Text'].apply(stem_words)\n"
   ]
  },
  {
   "cell_type": "code",
   "execution_count": 19,
   "metadata": {
    "id": "5MrmLOBGPiPv"
   },
   "outputs": [],
   "source": [
    "# Lemmatization\n",
    "\n",
    "lemmatizer = WordNetLemmatizer()\n",
    "\n",
    "def lemmatize_tokens(tokens):\n",
    "    def get_wordnet_pos(word):\n",
    "        tag = nltk.pos_tag([word])[0][1][0].upper()\n",
    "        tag_dict = {\"J\": wordnet.ADJ,\n",
    "                    \"N\": wordnet.NOUN,\n",
    "                    \"V\": wordnet.VERB,\n",
    "                    \"R\": wordnet.ADV}\n",
    "        return tag_dict.get(tag, wordnet.NOUN)\n",
    "\n",
    "    lemmas = [lemmatizer.lemmatize(token, get_wordnet_pos(token)) for token in tokens]\n",
    "\n",
    "    return lemmas\n",
    "\n",
    "df_token['lemmatized_Text'] = df_token['Text'].apply(lemmatize_tokens)"
   ]
  },
  {
   "cell_type": "code",
   "execution_count": 20,
   "metadata": {
    "colab": {
     "base_uri": "https://localhost:8080/",
     "height": 1000
    },
    "executionInfo": {
     "elapsed": 460,
     "status": "ok",
     "timestamp": 1724128702784,
     "user": {
      "displayName": "Jasonbir Singh",
      "userId": "11233032549834540609"
     },
     "user_tz": -330
    },
    "id": "8abm1TD-OInB",
    "outputId": "3e42a4bb-dc90-4c7c-891f-63d8d4745641"
   },
   "outputs": [
    {
     "data": {
      "text/html": [
       "<div>\n",
       "<style scoped>\n",
       "    .dataframe tbody tr th:only-of-type {\n",
       "        vertical-align: middle;\n",
       "    }\n",
       "\n",
       "    .dataframe tbody tr th {\n",
       "        vertical-align: top;\n",
       "    }\n",
       "\n",
       "    .dataframe thead th {\n",
       "        text-align: right;\n",
       "    }\n",
       "</style>\n",
       "<table border=\"1\" class=\"dataframe\">\n",
       "  <thead>\n",
       "    <tr style=\"text-align: right;\">\n",
       "      <th></th>\n",
       "      <th>Sentiment</th>\n",
       "      <th>Text</th>\n",
       "      <th>stemmed_Text</th>\n",
       "      <th>lemmatized_Text</th>\n",
       "    </tr>\n",
       "  </thead>\n",
       "  <tbody>\n",
       "    <tr>\n",
       "      <th>0</th>\n",
       "      <td>neutral</td>\n",
       "      <td>[technopolis, plans, to, develop, in, stages, ...</td>\n",
       "      <td>[technopoli, plan, to, develop, in, stage, an,...</td>\n",
       "      <td>[technopolis, plan, to, develop, in, stage, an...</td>\n",
       "    </tr>\n",
       "    <tr>\n",
       "      <th>1</th>\n",
       "      <td>negative</td>\n",
       "      <td>[the, international, electronic, industry, com...</td>\n",
       "      <td>[the, intern, electron, industri, compani, elc...</td>\n",
       "      <td>[the, international, electronic, industry, com...</td>\n",
       "    </tr>\n",
       "    <tr>\n",
       "      <th>2</th>\n",
       "      <td>positive</td>\n",
       "      <td>[with, the, new, production, plant, the, compa...</td>\n",
       "      <td>[with, the, new, product, plant, the, compani,...</td>\n",
       "      <td>[with, the, new, production, plant, the, compa...</td>\n",
       "    </tr>\n",
       "    <tr>\n",
       "      <th>3</th>\n",
       "      <td>positive</td>\n",
       "      <td>[according, to, the, company, s, updated, stra...</td>\n",
       "      <td>[accord, to, the, compani, s, updat, strategi,...</td>\n",
       "      <td>[accord, to, the, company, s, update, strategy...</td>\n",
       "    </tr>\n",
       "    <tr>\n",
       "      <th>4</th>\n",
       "      <td>positive</td>\n",
       "      <td>[financing, of, aspocomp, s, growth, aspocomp,...</td>\n",
       "      <td>[financ, of, aspocomp, s, growth, aspocomp, is...</td>\n",
       "      <td>[financing, of, aspocomp, s, growth, aspocomp,...</td>\n",
       "    </tr>\n",
       "    <tr>\n",
       "      <th>5</th>\n",
       "      <td>positive</td>\n",
       "      <td>[for, the, last, quarter, of, componenta, s, n...</td>\n",
       "      <td>[for, the, last, quarter, of, componenta, s, n...</td>\n",
       "      <td>[for, the, last, quarter, of, componenta, s, n...</td>\n",
       "    </tr>\n",
       "    <tr>\n",
       "      <th>6</th>\n",
       "      <td>positive</td>\n",
       "      <td>[in, the, third, quarter, of, net, sales, incr...</td>\n",
       "      <td>[in, the, third, quarter, of, net, sale, incre...</td>\n",
       "      <td>[in, the, third, quarter, of, net, sale, incre...</td>\n",
       "    </tr>\n",
       "    <tr>\n",
       "      <th>7</th>\n",
       "      <td>positive</td>\n",
       "      <td>[operating, profit, rose, to, eur, mn, from, e...</td>\n",
       "      <td>[oper, profit, rose, to, eur, mn, from, eur, m...</td>\n",
       "      <td>[operating, profit, rise, to, eur, mn, from, e...</td>\n",
       "    </tr>\n",
       "    <tr>\n",
       "      <th>8</th>\n",
       "      <td>positive</td>\n",
       "      <td>[operating, profit, totalled, eur, mn, up, fro...</td>\n",
       "      <td>[oper, profit, total, eur, mn, up, from, eur, ...</td>\n",
       "      <td>[operating, profit, total, eur, mn, up, from, ...</td>\n",
       "    </tr>\n",
       "    <tr>\n",
       "      <th>9</th>\n",
       "      <td>positive</td>\n",
       "      <td>[teliasonera, tlsn, said, the, offer, is, in, ...</td>\n",
       "      <td>[teliasonera, tlsn, said, the, offer, is, in, ...</td>\n",
       "      <td>[teliasonera, tlsn, say, the, offer, be, in, l...</td>\n",
       "    </tr>\n",
       "    <tr>\n",
       "      <th>10</th>\n",
       "      <td>positive</td>\n",
       "      <td>[stora, enso, norske, skog, mreal, upmkymmene,...</td>\n",
       "      <td>[stora, enso, norsk, skog, mreal, upmkymmen, c...</td>\n",
       "      <td>[stora, enso, norske, skog, mreal, upmkymmene,...</td>\n",
       "    </tr>\n",
       "    <tr>\n",
       "      <th>11</th>\n",
       "      <td>positive</td>\n",
       "      <td>[a, purchase, agreement, for, tons, of, gasoli...</td>\n",
       "      <td>[a, purchas, agreement, for, ton, of, gasolin,...</td>\n",
       "      <td>[a, purchase, agreement, for, ton, of, gasolin...</td>\n",
       "    </tr>\n",
       "    <tr>\n",
       "      <th>12</th>\n",
       "      <td>positive</td>\n",
       "      <td>[finnish, talentum, reports, its, operating, p...</td>\n",
       "      <td>[finnish, talentum, report, it, oper, profit, ...</td>\n",
       "      <td>[finnish, talentum, report, it, operating, pro...</td>\n",
       "    </tr>\n",
       "    <tr>\n",
       "      <th>13</th>\n",
       "      <td>positive</td>\n",
       "      <td>[clothing, retail, chain, seppælæ, s, sales, i...</td>\n",
       "      <td>[cloth, retail, chain, seppælæ, s, sale, incre...</td>\n",
       "      <td>[clothing, retail, chain, seppælæ, s, sale, in...</td>\n",
       "    </tr>\n",
       "    <tr>\n",
       "      <th>14</th>\n",
       "      <td>positive</td>\n",
       "      <td>[consolidated, net, sales, increased, to, reac...</td>\n",
       "      <td>[consolid, net, sale, increas, to, reach, eur,...</td>\n",
       "      <td>[consolidated, net, sale, increase, to, reach,...</td>\n",
       "    </tr>\n",
       "    <tr>\n",
       "      <th>15</th>\n",
       "      <td>positive</td>\n",
       "      <td>[foundries, division, reports, its, sales, inc...</td>\n",
       "      <td>[foundri, divis, report, it, sale, increas, by...</td>\n",
       "      <td>[foundry, division, report, it, sale, increase...</td>\n",
       "    </tr>\n",
       "    <tr>\n",
       "      <th>16</th>\n",
       "      <td>positive</td>\n",
       "      <td>[helsinki, afx, shares, closed, higher, led, b...</td>\n",
       "      <td>[helsinki, afx, share, close, higher, led, by,...</td>\n",
       "      <td>[helsinki, afx, share, close, high, lead, by, ...</td>\n",
       "    </tr>\n",
       "    <tr>\n",
       "      <th>17</th>\n",
       "      <td>positive</td>\n",
       "      <td>[incap, contract, manufacturing, services, pvt...</td>\n",
       "      <td>[incap, contract, manufactur, servic, pvt, ltd...</td>\n",
       "      <td>[incap, contract, manufacturing, service, pvt,...</td>\n",
       "    </tr>\n",
       "    <tr>\n",
       "      <th>18</th>\n",
       "      <td>positive</td>\n",
       "      <td>[its, board, of, directors, will, propose, a, ...</td>\n",
       "      <td>[it, board, of, director, will, propos, a, div...</td>\n",
       "      <td>[it, board, of, director, will, propose, a, di...</td>\n",
       "    </tr>\n",
       "    <tr>\n",
       "      <th>19</th>\n",
       "      <td>positive</td>\n",
       "      <td>[lifetree, was, founded, in, and, its, revenue...</td>\n",
       "      <td>[lifetre, wa, found, in, and, it, revenu, have...</td>\n",
       "      <td>[lifetree, be, found, in, and, it, revenue, ha...</td>\n",
       "    </tr>\n",
       "    <tr>\n",
       "      <th>20</th>\n",
       "      <td>positive</td>\n",
       "      <td>[filippova, a, trilateral, agreement, on, inve...</td>\n",
       "      <td>[filippova, a, trilater, agreement, on, invest...</td>\n",
       "      <td>[filippova, a, trilateral, agreement, on, inve...</td>\n",
       "    </tr>\n",
       "    <tr>\n",
       "      <th>21</th>\n",
       "      <td>positive</td>\n",
       "      <td>[megafon, s, subscriber, base, increased, in, ...</td>\n",
       "      <td>[megafon, s, subscrib, base, increas, in, to, ...</td>\n",
       "      <td>[megafon, s, subscriber, base, increase, in, t...</td>\n",
       "    </tr>\n",
       "    <tr>\n",
       "      <th>22</th>\n",
       "      <td>positive</td>\n",
       "      <td>[net, income, from, life, insurance, doubled, ...</td>\n",
       "      <td>[net, incom, from, life, insur, doubl, to, eur...</td>\n",
       "      <td>[net, income, from, life, insurance, double, t...</td>\n",
       "    </tr>\n",
       "    <tr>\n",
       "      <th>23</th>\n",
       "      <td>positive</td>\n",
       "      <td>[net, sales, increased, to, eur, m, from, eur,...</td>\n",
       "      <td>[net, sale, increas, to, eur, m, from, eur, m,...</td>\n",
       "      <td>[net, sale, increase, to, eur, m, from, eur, m...</td>\n",
       "    </tr>\n",
       "    <tr>\n",
       "      <th>24</th>\n",
       "      <td>positive</td>\n",
       "      <td>[net, sales, surged, by, to, eur, m, teleste, ...</td>\n",
       "      <td>[net, sale, surg, by, to, eur, m, telest, said...</td>\n",
       "      <td>[net, sale, surge, by, to, eur, m, teleste, sa...</td>\n",
       "    </tr>\n",
       "    <tr>\n",
       "      <th>25</th>\n",
       "      <td>positive</td>\n",
       "      <td>[nordea, group, s, operating, profit, increase...</td>\n",
       "      <td>[nordea, group, s, oper, profit, increas, in, ...</td>\n",
       "      <td>[nordea, group, s, operating, profit, increase...</td>\n",
       "    </tr>\n",
       "    <tr>\n",
       "      <th>26</th>\n",
       "      <td>positive</td>\n",
       "      <td>[operating, profit, for, the, ninemonth, perio...</td>\n",
       "      <td>[oper, profit, for, the, ninemonth, period, in...</td>\n",
       "      <td>[operating, profit, for, the, ninemonth, perio...</td>\n",
       "    </tr>\n",
       "    <tr>\n",
       "      <th>27</th>\n",
       "      <td>positive</td>\n",
       "      <td>[operating, profit, for, the, ninemonth, perio...</td>\n",
       "      <td>[oper, profit, for, the, ninemonth, period, in...</td>\n",
       "      <td>[operating, profit, for, the, ninemonth, perio...</td>\n",
       "    </tr>\n",
       "    <tr>\n",
       "      <th>28</th>\n",
       "      <td>positive</td>\n",
       "      <td>[operating, profit, for, the, threemonth, peri...</td>\n",
       "      <td>[oper, profit, for, the, threemonth, period, i...</td>\n",
       "      <td>[operating, profit, for, the, threemonth, peri...</td>\n",
       "    </tr>\n",
       "    <tr>\n",
       "      <th>29</th>\n",
       "      <td>positive</td>\n",
       "      <td>[the, brazilian, unit, of, finnish, security, ...</td>\n",
       "      <td>[the, brazilian, unit, of, finnish, secur, sol...</td>\n",
       "      <td>[the, brazilian, unit, of, finnish, security, ...</td>\n",
       "    </tr>\n",
       "    <tr>\n",
       "      <th>30</th>\n",
       "      <td>positive</td>\n",
       "      <td>[the, company, s, net, profit, rose, on, the, ...</td>\n",
       "      <td>[the, compani, s, net, profit, rose, on, the, ...</td>\n",
       "      <td>[the, company, s, net, profit, rise, on, the, ...</td>\n",
       "    </tr>\n",
       "    <tr>\n",
       "      <th>31</th>\n",
       "      <td>positive</td>\n",
       "      <td>[the, lithuanian, beer, market, made, up, mill...</td>\n",
       "      <td>[the, lithuanian, beer, market, made, up, mill...</td>\n",
       "      <td>[the, lithuanian, beer, market, make, up, mill...</td>\n",
       "    </tr>\n",
       "    <tr>\n",
       "      <th>32</th>\n",
       "      <td>positive</td>\n",
       "      <td>[viking, line, s, cargo, revenue, increased, b...</td>\n",
       "      <td>[vike, line, s, cargo, revenu, increas, by, to...</td>\n",
       "      <td>[viking, line, s, cargo, revenue, increase, by...</td>\n",
       "    </tr>\n",
       "    <tr>\n",
       "      <th>33</th>\n",
       "      <td>positive</td>\n",
       "      <td>[the, fair, value, of, the, property, portfoli...</td>\n",
       "      <td>[the, fair, valu, of, the, properti, portfolio...</td>\n",
       "      <td>[the, fair, value, of, the, property, portfoli...</td>\n",
       "    </tr>\n",
       "    <tr>\n",
       "      <th>34</th>\n",
       "      <td>positive</td>\n",
       "      <td>[february, finnish, media, company, sanoma, oy...</td>\n",
       "      <td>[februari, finnish, media, compani, sanoma, oy...</td>\n",
       "      <td>[february, finnish, medium, company, sanoma, o...</td>\n",
       "    </tr>\n",
       "    <tr>\n",
       "      <th>35</th>\n",
       "      <td>positive</td>\n",
       "      <td>[a, helsinki, eliiv, today, reported, eps, of,...</td>\n",
       "      <td>[a, helsinki, eliiv, today, report, ep, of, eu...</td>\n",
       "      <td>[a, helsinki, eliiv, today, report, eps, of, e...</td>\n",
       "    </tr>\n",
       "    <tr>\n",
       "      <th>36</th>\n",
       "      <td>positive</td>\n",
       "      <td>[aspo, plc, stock, exchange, release, february...</td>\n",
       "      <td>[aspo, plc, stock, exchang, releas, februari, ...</td>\n",
       "      <td>[aspo, plc, stock, exchange, release, february...</td>\n",
       "    </tr>\n",
       "    <tr>\n",
       "      <th>37</th>\n",
       "      <td>positive</td>\n",
       "      <td>[commission, income, increased, by, to, eur, m...</td>\n",
       "      <td>[commiss, incom, increas, by, to, eur, mn, and...</td>\n",
       "      <td>[commission, income, increase, by, to, eur, mn...</td>\n",
       "    </tr>\n",
       "    <tr>\n",
       "      <th>38</th>\n",
       "      <td>positive</td>\n",
       "      <td>[in, january, traffic, measured, in, revenue, ...</td>\n",
       "      <td>[in, januari, traffic, measur, in, revenu, pas...</td>\n",
       "      <td>[in, january, traffic, measure, in, revenue, p...</td>\n",
       "    </tr>\n",
       "    <tr>\n",
       "      <th>39</th>\n",
       "      <td>positive</td>\n",
       "      <td>[in, januaryseptember, fiskars, net, profit, w...</td>\n",
       "      <td>[in, januaryseptemb, fiskar, net, profit, went...</td>\n",
       "      <td>[in, januaryseptember, fiskars, net, profit, g...</td>\n",
       "    </tr>\n",
       "    <tr>\n",
       "      <th>40</th>\n",
       "      <td>positive</td>\n",
       "      <td>[net, income, from, life, insurance, rose, to,...</td>\n",
       "      <td>[net, incom, from, life, insur, rose, to, eur,...</td>\n",
       "      <td>[net, income, from, life, insurance, rise, to,...</td>\n",
       "    </tr>\n",
       "    <tr>\n",
       "      <th>41</th>\n",
       "      <td>positive</td>\n",
       "      <td>[nyrstar, has, also, agreed, to, supply, to, t...</td>\n",
       "      <td>[nyrstar, ha, also, agre, to, suppli, to, talv...</td>\n",
       "      <td>[nyrstar, have, also, agree, to, supply, to, t...</td>\n",
       "    </tr>\n",
       "    <tr>\n",
       "      <th>42</th>\n",
       "      <td>positive</td>\n",
       "      <td>[sales, for, both, the, department, store, div...</td>\n",
       "      <td>[sale, for, both, the, depart, store, divis, a...</td>\n",
       "      <td>[sale, for, both, the, department, store, divi...</td>\n",
       "    </tr>\n",
       "    <tr>\n",
       "      <th>43</th>\n",
       "      <td>positive</td>\n",
       "      <td>[sales, have, risen, in, other, export, markets]</td>\n",
       "      <td>[sale, have, risen, in, other, export, market]</td>\n",
       "      <td>[sale, have, risen, in, other, export, market]</td>\n",
       "    </tr>\n",
       "    <tr>\n",
       "      <th>44</th>\n",
       "      <td>positive</td>\n",
       "      <td>[sales, increased, due, to, growing, market, r...</td>\n",
       "      <td>[sale, increas, due, to, grow, market, rate, a...</td>\n",
       "      <td>[sale, increase, due, to, grow, market, rate, ...</td>\n",
       "    </tr>\n",
       "    <tr>\n",
       "      <th>45</th>\n",
       "      <td>positive</td>\n",
       "      <td>[the, agreement, strengthens, our, longterm, p...</td>\n",
       "      <td>[the, agreement, strengthen, our, longterm, pa...</td>\n",
       "      <td>[the, agreement, strengthens, our, longterm, p...</td>\n",
       "    </tr>\n",
       "    <tr>\n",
       "      <th>46</th>\n",
       "      <td>positive</td>\n",
       "      <td>[the, agreement, was, signed, with, biohit, he...</td>\n",
       "      <td>[the, agreement, wa, sign, with, biohit, healt...</td>\n",
       "      <td>[the, agreement, be, sign, with, biohit, healt...</td>\n",
       "    </tr>\n",
       "    <tr>\n",
       "      <th>47</th>\n",
       "      <td>positive</td>\n",
       "      <td>[the, company, also, estimates, the, already, ...</td>\n",
       "      <td>[the, compani, also, estim, the, alreadi, carr...</td>\n",
       "      <td>[the, company, also, estimate, the, already, c...</td>\n",
       "    </tr>\n",
       "    <tr>\n",
       "      <th>48</th>\n",
       "      <td>positive</td>\n",
       "      <td>[the, company, s, order, book, stood, at, bln,...</td>\n",
       "      <td>[the, compani, s, order, book, stood, at, bln,...</td>\n",
       "      <td>[the, company, s, order, book, stood, at, bln,...</td>\n",
       "    </tr>\n",
       "    <tr>\n",
       "      <th>49</th>\n",
       "      <td>positive</td>\n",
       "      <td>[the, company, said, that, paper, demand, incr...</td>\n",
       "      <td>[the, compani, said, that, paper, demand, incr...</td>\n",
       "      <td>[the, company, say, that, paper, demand, incre...</td>\n",
       "    </tr>\n",
       "  </tbody>\n",
       "</table>\n",
       "</div>"
      ],
      "text/plain": [
       "   Sentiment                                               Text  \\\n",
       "0    neutral  [technopolis, plans, to, develop, in, stages, ...   \n",
       "1   negative  [the, international, electronic, industry, com...   \n",
       "2   positive  [with, the, new, production, plant, the, compa...   \n",
       "3   positive  [according, to, the, company, s, updated, stra...   \n",
       "4   positive  [financing, of, aspocomp, s, growth, aspocomp,...   \n",
       "5   positive  [for, the, last, quarter, of, componenta, s, n...   \n",
       "6   positive  [in, the, third, quarter, of, net, sales, incr...   \n",
       "7   positive  [operating, profit, rose, to, eur, mn, from, e...   \n",
       "8   positive  [operating, profit, totalled, eur, mn, up, fro...   \n",
       "9   positive  [teliasonera, tlsn, said, the, offer, is, in, ...   \n",
       "10  positive  [stora, enso, norske, skog, mreal, upmkymmene,...   \n",
       "11  positive  [a, purchase, agreement, for, tons, of, gasoli...   \n",
       "12  positive  [finnish, talentum, reports, its, operating, p...   \n",
       "13  positive  [clothing, retail, chain, seppælæ, s, sales, i...   \n",
       "14  positive  [consolidated, net, sales, increased, to, reac...   \n",
       "15  positive  [foundries, division, reports, its, sales, inc...   \n",
       "16  positive  [helsinki, afx, shares, closed, higher, led, b...   \n",
       "17  positive  [incap, contract, manufacturing, services, pvt...   \n",
       "18  positive  [its, board, of, directors, will, propose, a, ...   \n",
       "19  positive  [lifetree, was, founded, in, and, its, revenue...   \n",
       "20  positive  [filippova, a, trilateral, agreement, on, inve...   \n",
       "21  positive  [megafon, s, subscriber, base, increased, in, ...   \n",
       "22  positive  [net, income, from, life, insurance, doubled, ...   \n",
       "23  positive  [net, sales, increased, to, eur, m, from, eur,...   \n",
       "24  positive  [net, sales, surged, by, to, eur, m, teleste, ...   \n",
       "25  positive  [nordea, group, s, operating, profit, increase...   \n",
       "26  positive  [operating, profit, for, the, ninemonth, perio...   \n",
       "27  positive  [operating, profit, for, the, ninemonth, perio...   \n",
       "28  positive  [operating, profit, for, the, threemonth, peri...   \n",
       "29  positive  [the, brazilian, unit, of, finnish, security, ...   \n",
       "30  positive  [the, company, s, net, profit, rose, on, the, ...   \n",
       "31  positive  [the, lithuanian, beer, market, made, up, mill...   \n",
       "32  positive  [viking, line, s, cargo, revenue, increased, b...   \n",
       "33  positive  [the, fair, value, of, the, property, portfoli...   \n",
       "34  positive  [february, finnish, media, company, sanoma, oy...   \n",
       "35  positive  [a, helsinki, eliiv, today, reported, eps, of,...   \n",
       "36  positive  [aspo, plc, stock, exchange, release, february...   \n",
       "37  positive  [commission, income, increased, by, to, eur, m...   \n",
       "38  positive  [in, january, traffic, measured, in, revenue, ...   \n",
       "39  positive  [in, januaryseptember, fiskars, net, profit, w...   \n",
       "40  positive  [net, income, from, life, insurance, rose, to,...   \n",
       "41  positive  [nyrstar, has, also, agreed, to, supply, to, t...   \n",
       "42  positive  [sales, for, both, the, department, store, div...   \n",
       "43  positive   [sales, have, risen, in, other, export, markets]   \n",
       "44  positive  [sales, increased, due, to, growing, market, r...   \n",
       "45  positive  [the, agreement, strengthens, our, longterm, p...   \n",
       "46  positive  [the, agreement, was, signed, with, biohit, he...   \n",
       "47  positive  [the, company, also, estimates, the, already, ...   \n",
       "48  positive  [the, company, s, order, book, stood, at, bln,...   \n",
       "49  positive  [the, company, said, that, paper, demand, incr...   \n",
       "\n",
       "                                         stemmed_Text  \\\n",
       "0   [technopoli, plan, to, develop, in, stage, an,...   \n",
       "1   [the, intern, electron, industri, compani, elc...   \n",
       "2   [with, the, new, product, plant, the, compani,...   \n",
       "3   [accord, to, the, compani, s, updat, strategi,...   \n",
       "4   [financ, of, aspocomp, s, growth, aspocomp, is...   \n",
       "5   [for, the, last, quarter, of, componenta, s, n...   \n",
       "6   [in, the, third, quarter, of, net, sale, incre...   \n",
       "7   [oper, profit, rose, to, eur, mn, from, eur, m...   \n",
       "8   [oper, profit, total, eur, mn, up, from, eur, ...   \n",
       "9   [teliasonera, tlsn, said, the, offer, is, in, ...   \n",
       "10  [stora, enso, norsk, skog, mreal, upmkymmen, c...   \n",
       "11  [a, purchas, agreement, for, ton, of, gasolin,...   \n",
       "12  [finnish, talentum, report, it, oper, profit, ...   \n",
       "13  [cloth, retail, chain, seppælæ, s, sale, incre...   \n",
       "14  [consolid, net, sale, increas, to, reach, eur,...   \n",
       "15  [foundri, divis, report, it, sale, increas, by...   \n",
       "16  [helsinki, afx, share, close, higher, led, by,...   \n",
       "17  [incap, contract, manufactur, servic, pvt, ltd...   \n",
       "18  [it, board, of, director, will, propos, a, div...   \n",
       "19  [lifetre, wa, found, in, and, it, revenu, have...   \n",
       "20  [filippova, a, trilater, agreement, on, invest...   \n",
       "21  [megafon, s, subscrib, base, increas, in, to, ...   \n",
       "22  [net, incom, from, life, insur, doubl, to, eur...   \n",
       "23  [net, sale, increas, to, eur, m, from, eur, m,...   \n",
       "24  [net, sale, surg, by, to, eur, m, telest, said...   \n",
       "25  [nordea, group, s, oper, profit, increas, in, ...   \n",
       "26  [oper, profit, for, the, ninemonth, period, in...   \n",
       "27  [oper, profit, for, the, ninemonth, period, in...   \n",
       "28  [oper, profit, for, the, threemonth, period, i...   \n",
       "29  [the, brazilian, unit, of, finnish, secur, sol...   \n",
       "30  [the, compani, s, net, profit, rose, on, the, ...   \n",
       "31  [the, lithuanian, beer, market, made, up, mill...   \n",
       "32  [vike, line, s, cargo, revenu, increas, by, to...   \n",
       "33  [the, fair, valu, of, the, properti, portfolio...   \n",
       "34  [februari, finnish, media, compani, sanoma, oy...   \n",
       "35  [a, helsinki, eliiv, today, report, ep, of, eu...   \n",
       "36  [aspo, plc, stock, exchang, releas, februari, ...   \n",
       "37  [commiss, incom, increas, by, to, eur, mn, and...   \n",
       "38  [in, januari, traffic, measur, in, revenu, pas...   \n",
       "39  [in, januaryseptemb, fiskar, net, profit, went...   \n",
       "40  [net, incom, from, life, insur, rose, to, eur,...   \n",
       "41  [nyrstar, ha, also, agre, to, suppli, to, talv...   \n",
       "42  [sale, for, both, the, depart, store, divis, a...   \n",
       "43     [sale, have, risen, in, other, export, market]   \n",
       "44  [sale, increas, due, to, grow, market, rate, a...   \n",
       "45  [the, agreement, strengthen, our, longterm, pa...   \n",
       "46  [the, agreement, wa, sign, with, biohit, healt...   \n",
       "47  [the, compani, also, estim, the, alreadi, carr...   \n",
       "48  [the, compani, s, order, book, stood, at, bln,...   \n",
       "49  [the, compani, said, that, paper, demand, incr...   \n",
       "\n",
       "                                      lemmatized_Text  \n",
       "0   [technopolis, plan, to, develop, in, stage, an...  \n",
       "1   [the, international, electronic, industry, com...  \n",
       "2   [with, the, new, production, plant, the, compa...  \n",
       "3   [accord, to, the, company, s, update, strategy...  \n",
       "4   [financing, of, aspocomp, s, growth, aspocomp,...  \n",
       "5   [for, the, last, quarter, of, componenta, s, n...  \n",
       "6   [in, the, third, quarter, of, net, sale, incre...  \n",
       "7   [operating, profit, rise, to, eur, mn, from, e...  \n",
       "8   [operating, profit, total, eur, mn, up, from, ...  \n",
       "9   [teliasonera, tlsn, say, the, offer, be, in, l...  \n",
       "10  [stora, enso, norske, skog, mreal, upmkymmene,...  \n",
       "11  [a, purchase, agreement, for, ton, of, gasolin...  \n",
       "12  [finnish, talentum, report, it, operating, pro...  \n",
       "13  [clothing, retail, chain, seppælæ, s, sale, in...  \n",
       "14  [consolidated, net, sale, increase, to, reach,...  \n",
       "15  [foundry, division, report, it, sale, increase...  \n",
       "16  [helsinki, afx, share, close, high, lead, by, ...  \n",
       "17  [incap, contract, manufacturing, service, pvt,...  \n",
       "18  [it, board, of, director, will, propose, a, di...  \n",
       "19  [lifetree, be, found, in, and, it, revenue, ha...  \n",
       "20  [filippova, a, trilateral, agreement, on, inve...  \n",
       "21  [megafon, s, subscriber, base, increase, in, t...  \n",
       "22  [net, income, from, life, insurance, double, t...  \n",
       "23  [net, sale, increase, to, eur, m, from, eur, m...  \n",
       "24  [net, sale, surge, by, to, eur, m, teleste, sa...  \n",
       "25  [nordea, group, s, operating, profit, increase...  \n",
       "26  [operating, profit, for, the, ninemonth, perio...  \n",
       "27  [operating, profit, for, the, ninemonth, perio...  \n",
       "28  [operating, profit, for, the, threemonth, peri...  \n",
       "29  [the, brazilian, unit, of, finnish, security, ...  \n",
       "30  [the, company, s, net, profit, rise, on, the, ...  \n",
       "31  [the, lithuanian, beer, market, make, up, mill...  \n",
       "32  [viking, line, s, cargo, revenue, increase, by...  \n",
       "33  [the, fair, value, of, the, property, portfoli...  \n",
       "34  [february, finnish, medium, company, sanoma, o...  \n",
       "35  [a, helsinki, eliiv, today, report, eps, of, e...  \n",
       "36  [aspo, plc, stock, exchange, release, february...  \n",
       "37  [commission, income, increase, by, to, eur, mn...  \n",
       "38  [in, january, traffic, measure, in, revenue, p...  \n",
       "39  [in, januaryseptember, fiskars, net, profit, g...  \n",
       "40  [net, income, from, life, insurance, rise, to,...  \n",
       "41  [nyrstar, have, also, agree, to, supply, to, t...  \n",
       "42  [sale, for, both, the, department, store, divi...  \n",
       "43     [sale, have, risen, in, other, export, market]  \n",
       "44  [sale, increase, due, to, grow, market, rate, ...  \n",
       "45  [the, agreement, strengthens, our, longterm, p...  \n",
       "46  [the, agreement, be, sign, with, biohit, healt...  \n",
       "47  [the, company, also, estimate, the, already, c...  \n",
       "48  [the, company, s, order, book, stood, at, bln,...  \n",
       "49  [the, company, say, that, paper, demand, incre...  "
      ]
     },
     "execution_count": 20,
     "metadata": {},
     "output_type": "execute_result"
    }
   ],
   "source": [
    "df_token.head(50)"
   ]
  },
  {
   "cell_type": "code",
   "execution_count": 21,
   "metadata": {},
   "outputs": [],
   "source": [
    "Train_X, Test_X, Train_Y, Test_Y = model_selection.train_test_split(df_token['lemmatized_Text'], df['Sentiment'],test_size=0.3)"
   ]
  },
  {
   "cell_type": "code",
   "execution_count": 22,
   "metadata": {},
   "outputs": [],
   "source": [
    "Encoder = LabelEncoder()\n",
    "Train_Y = Encoder.fit_transform(Train_Y)\n",
    "Test_Y = Encoder.fit_transform(Test_Y)"
   ]
  },
  {
   "cell_type": "code",
   "execution_count": 23,
   "metadata": {},
   "outputs": [],
   "source": [
    "df_token['lemmatized_Text'] = df_token['lemmatized_Text'].astype(str)"
   ]
  },
  {
   "cell_type": "code",
   "execution_count": 24,
   "metadata": {},
   "outputs": [],
   "source": [
    "# Word Vectorization\n",
    "\n",
    "Tfidf_vect = TfidfVectorizer(max_features=5000)\n",
    "Tfidf_vect.fit(df_token['lemmatized_Text'])\n",
    "Train_X_Tfidf = Tfidf_vect.transform(Train_X.apply(lambda x: ' '.join(x)))\n",
    "Test_X_Tfidf = Tfidf_vect.transform(Test_X.apply(lambda x: ' '.join(x)))"
   ]
  },
  {
   "cell_type": "markdown",
   "metadata": {
    "id": "NMG-OWNY71i9"
   },
   "source": [
    "## Vader Sentiment\n",
    "\n"
   ]
  },
  {
   "cell_type": "code",
   "execution_count": 25,
   "metadata": {
    "colab": {
     "base_uri": "https://localhost:8080/",
     "height": 206
    },
    "executionInfo": {
     "elapsed": 466,
     "status": "ok",
     "timestamp": 1724081599049,
     "user": {
      "displayName": "Jasonbir Singh",
      "userId": "11233032549834540609"
     },
     "user_tz": -330
    },
    "id": "XVkps1IW_rkE",
    "outputId": "b3413efc-3e37-4f5c-a5b7-18051a89b9ad"
   },
   "outputs": [
    {
     "data": {
      "text/html": [
       "<div>\n",
       "<style scoped>\n",
       "    .dataframe tbody tr th:only-of-type {\n",
       "        vertical-align: middle;\n",
       "    }\n",
       "\n",
       "    .dataframe tbody tr th {\n",
       "        vertical-align: top;\n",
       "    }\n",
       "\n",
       "    .dataframe thead th {\n",
       "        text-align: right;\n",
       "    }\n",
       "</style>\n",
       "<table border=\"1\" class=\"dataframe\">\n",
       "  <thead>\n",
       "    <tr style=\"text-align: right;\">\n",
       "      <th></th>\n",
       "      <th>Sentiment</th>\n",
       "      <th>Text</th>\n",
       "    </tr>\n",
       "  </thead>\n",
       "  <tbody>\n",
       "    <tr>\n",
       "      <th>0</th>\n",
       "      <td>neutral</td>\n",
       "      <td>technopolis plans to develop in stages an area...</td>\n",
       "    </tr>\n",
       "    <tr>\n",
       "      <th>1</th>\n",
       "      <td>negative</td>\n",
       "      <td>the international electronic industry company ...</td>\n",
       "    </tr>\n",
       "    <tr>\n",
       "      <th>2</th>\n",
       "      <td>positive</td>\n",
       "      <td>with the new production plant the company woul...</td>\n",
       "    </tr>\n",
       "    <tr>\n",
       "      <th>3</th>\n",
       "      <td>positive</td>\n",
       "      <td>according to the company 's updated strategy f...</td>\n",
       "    </tr>\n",
       "    <tr>\n",
       "      <th>4</th>\n",
       "      <td>positive</td>\n",
       "      <td>financing of aspocomp 's growth aspocomp is ag...</td>\n",
       "    </tr>\n",
       "  </tbody>\n",
       "</table>\n",
       "</div>"
      ],
      "text/plain": [
       "  Sentiment                                               Text\n",
       "0   neutral  technopolis plans to develop in stages an area...\n",
       "1  negative  the international electronic industry company ...\n",
       "2  positive  with the new production plant the company woul...\n",
       "3  positive  according to the company 's updated strategy f...\n",
       "4  positive  financing of aspocomp 's growth aspocomp is ag..."
      ]
     },
     "execution_count": 25,
     "metadata": {},
     "output_type": "execute_result"
    }
   ],
   "source": [
    "df_vaderSentiment.head()"
   ]
  },
  {
   "cell_type": "code",
   "execution_count": 26,
   "metadata": {
    "colab": {
     "base_uri": "https://localhost:8080/",
     "height": 206
    },
    "executionInfo": {
     "elapsed": 444,
     "status": "ok",
     "timestamp": 1724081603026,
     "user": {
      "displayName": "Jasonbir Singh",
      "userId": "11233032549834540609"
     },
     "user_tz": -330
    },
    "id": "j2HIbDU7Ejwh",
    "outputId": "b235d8e1-1df1-41a8-f318-5eb38ffe6d97"
   },
   "outputs": [
    {
     "data": {
      "text/html": [
       "<div>\n",
       "<style scoped>\n",
       "    .dataframe tbody tr th:only-of-type {\n",
       "        vertical-align: middle;\n",
       "    }\n",
       "\n",
       "    .dataframe tbody tr th {\n",
       "        vertical-align: top;\n",
       "    }\n",
       "\n",
       "    .dataframe thead th {\n",
       "        text-align: right;\n",
       "    }\n",
       "</style>\n",
       "<table border=\"1\" class=\"dataframe\">\n",
       "  <thead>\n",
       "    <tr style=\"text-align: right;\">\n",
       "      <th></th>\n",
       "      <th>Sentiment</th>\n",
       "      <th>Text</th>\n",
       "    </tr>\n",
       "  </thead>\n",
       "  <tbody>\n",
       "    <tr>\n",
       "      <th>4840</th>\n",
       "      <td>negative</td>\n",
       "      <td>london marketwatch -- share prices ended lower...</td>\n",
       "    </tr>\n",
       "    <tr>\n",
       "      <th>4841</th>\n",
       "      <td>neutral</td>\n",
       "      <td>rinkuskiai 's beer sales fell by 6.5 per cent ...</td>\n",
       "    </tr>\n",
       "    <tr>\n",
       "      <th>4842</th>\n",
       "      <td>negative</td>\n",
       "      <td>operating profit fell to eur 35.4 mn from eur ...</td>\n",
       "    </tr>\n",
       "    <tr>\n",
       "      <th>4843</th>\n",
       "      <td>negative</td>\n",
       "      <td>net sales of the paper segment decreased to eu...</td>\n",
       "    </tr>\n",
       "    <tr>\n",
       "      <th>4844</th>\n",
       "      <td>negative</td>\n",
       "      <td>sales in finland decreased by 10.5 % in januar...</td>\n",
       "    </tr>\n",
       "  </tbody>\n",
       "</table>\n",
       "</div>"
      ],
      "text/plain": [
       "     Sentiment                                               Text\n",
       "4840  negative  london marketwatch -- share prices ended lower...\n",
       "4841   neutral  rinkuskiai 's beer sales fell by 6.5 per cent ...\n",
       "4842  negative  operating profit fell to eur 35.4 mn from eur ...\n",
       "4843  negative  net sales of the paper segment decreased to eu...\n",
       "4844  negative  sales in finland decreased by 10.5 % in januar..."
      ]
     },
     "execution_count": 26,
     "metadata": {},
     "output_type": "execute_result"
    }
   ],
   "source": [
    "df_vaderSentiment.tail()"
   ]
  },
  {
   "cell_type": "markdown",
   "metadata": {
    "id": "RqTArQF3AOrb"
   },
   "source": [
    "NLP Tools Installation"
   ]
  },
  {
   "cell_type": "code",
   "execution_count": 27,
   "metadata": {
    "colab": {
     "base_uri": "https://localhost:8080/"
    },
    "executionInfo": {
     "elapsed": 5667,
     "status": "ok",
     "timestamp": 1724081615811,
     "user": {
      "displayName": "Jasonbir Singh",
      "userId": "11233032549834540609"
     },
     "user_tz": -330
    },
    "id": "dzE7Qrn8-mKd",
    "outputId": "0945c5f2-ebc2-4a9b-c9fb-7722e94dca5f"
   },
   "outputs": [
    {
     "name": "stdout",
     "output_type": "stream",
     "text": [
      "Requirement already satisfied: vaderSentiment in d:\\anaconda\\anaconda_software\\envs\\sentimentanalysis\\lib\\site-packages (3.3.2)\n",
      "Requirement already satisfied: requests in d:\\anaconda\\anaconda_software\\envs\\sentimentanalysis\\lib\\site-packages (from vaderSentiment) (2.32.3)\n",
      "Requirement already satisfied: charset-normalizer<4,>=2 in d:\\anaconda\\anaconda_software\\envs\\sentimentanalysis\\lib\\site-packages (from requests->vaderSentiment) (3.3.2)\n",
      "Requirement already satisfied: idna<4,>=2.5 in d:\\anaconda\\anaconda_software\\envs\\sentimentanalysis\\lib\\site-packages (from requests->vaderSentiment) (3.8)\n",
      "Requirement already satisfied: urllib3<3,>=1.21.1 in d:\\anaconda\\anaconda_software\\envs\\sentimentanalysis\\lib\\site-packages (from requests->vaderSentiment) (2.2.2)\n",
      "Requirement already satisfied: certifi>=2017.4.17 in d:\\anaconda\\anaconda_software\\envs\\sentimentanalysis\\lib\\site-packages (from requests->vaderSentiment) (2024.8.30)\n"
     ]
    }
   ],
   "source": [
    "!pip install vaderSentiment"
   ]
  },
  {
   "cell_type": "code",
   "execution_count": 28,
   "metadata": {
    "id": "RKzI1SfSO-ib"
   },
   "outputs": [],
   "source": [
    "from vaderSentiment.vaderSentiment import SentimentIntensityAnalyzer\n",
    "from sklearn.metrics import accuracy_score\n",
    "\n",
    "analyser = SentimentIntensityAnalyzer()"
   ]
  },
  {
   "cell_type": "code",
   "execution_count": 29,
   "metadata": {
    "id": "v6q0wRYwPM7_"
   },
   "outputs": [],
   "source": [
    "#Function to calculate sentiment_Vader\n",
    "def getSIA(text):\n",
    "    analyser = SentimentIntensityAnalyzer()\n",
    "    score = analyser.polarity_scores(text)\n",
    "    compound = score['compound']\n",
    "\n",
    "    sentiment = 'Neutral'\n",
    "    if compound >= 0.05:\n",
    "        sentiment = 'Positive'\n",
    "    elif compound <= -0.05:\n",
    "        sentiment = 'Negative'\n",
    "\n",
    "    return sentiment"
   ]
  },
  {
   "cell_type": "code",
   "execution_count": 30,
   "metadata": {
    "id": "TddwKrw89CLK"
   },
   "outputs": [],
   "source": [
    "def getSentiment(val):\n",
    "    if val >= 0.05:\n",
    "        return 'Positive'\n",
    "    elif val <= -0.05:\n",
    "        return 'Negative'\n",
    "    else:\n",
    "        return 'Neutral'"
   ]
  },
  {
   "cell_type": "code",
   "execution_count": 31,
   "metadata": {
    "id": "EB3wbjbD8NNe"
   },
   "outputs": [],
   "source": [
    "compound = []\n",
    "pos = []\n",
    "neg = []\n",
    "neu = []\n",
    "predicted_sentiment = []\n",
    "\n",
    "for i in df_vaderSentiment['Text']:\n",
    "    score = analyser.polarity_scores(i)\n",
    "    compound.append(score['compound'])\n",
    "    pos.append(score['pos'])\n",
    "    neg.append(score['neg'])\n",
    "    neu.append(score['neu'])\n",
    "    predicted_sentiment.append(getSentiment(score['compound']))"
   ]
  },
  {
   "cell_type": "code",
   "execution_count": 32,
   "metadata": {
    "id": "Yt3Pflfy8Uai"
   },
   "outputs": [],
   "source": [
    "df_vaderSentiment['compound'] = compound\n",
    "df_vaderSentiment['pos'] = pos\n",
    "df_vaderSentiment['neg'] = neg\n",
    "df_vaderSentiment['neu'] = neu\n",
    "df_vaderSentiment[\"predicted_sentiment\"] = predicted_sentiment"
   ]
  },
  {
   "cell_type": "code",
   "execution_count": 33,
   "metadata": {
    "colab": {
     "base_uri": "https://localhost:8080/",
     "height": 276
    },
    "executionInfo": {
     "elapsed": 409,
     "status": "ok",
     "timestamp": 1724081840166,
     "user": {
      "displayName": "Jasonbir Singh",
      "userId": "11233032549834540609"
     },
     "user_tz": -330
    },
    "id": "Cdi_xn7RQ80f",
    "outputId": "23955cc1-a8a0-4309-f6ab-c2e6e9acc574"
   },
   "outputs": [
    {
     "data": {
      "text/html": [
       "<div>\n",
       "<style scoped>\n",
       "    .dataframe tbody tr th:only-of-type {\n",
       "        vertical-align: middle;\n",
       "    }\n",
       "\n",
       "    .dataframe tbody tr th {\n",
       "        vertical-align: top;\n",
       "    }\n",
       "\n",
       "    .dataframe thead th {\n",
       "        text-align: right;\n",
       "    }\n",
       "</style>\n",
       "<table border=\"1\" class=\"dataframe\">\n",
       "  <thead>\n",
       "    <tr style=\"text-align: right;\">\n",
       "      <th></th>\n",
       "      <th>Sentiment</th>\n",
       "      <th>Text</th>\n",
       "      <th>compound</th>\n",
       "      <th>pos</th>\n",
       "      <th>neg</th>\n",
       "      <th>neu</th>\n",
       "      <th>predicted_sentiment</th>\n",
       "    </tr>\n",
       "  </thead>\n",
       "  <tbody>\n",
       "    <tr>\n",
       "      <th>0</th>\n",
       "      <td>neutral</td>\n",
       "      <td>technopolis plans to develop in stages an area...</td>\n",
       "      <td>-0.2960</td>\n",
       "      <td>0.000</td>\n",
       "      <td>0.068</td>\n",
       "      <td>0.932</td>\n",
       "      <td>Negative</td>\n",
       "    </tr>\n",
       "    <tr>\n",
       "      <th>1</th>\n",
       "      <td>negative</td>\n",
       "      <td>the international electronic industry company ...</td>\n",
       "      <td>0.0000</td>\n",
       "      <td>0.000</td>\n",
       "      <td>0.000</td>\n",
       "      <td>1.000</td>\n",
       "      <td>Neutral</td>\n",
       "    </tr>\n",
       "    <tr>\n",
       "      <th>2</th>\n",
       "      <td>positive</td>\n",
       "      <td>with the new production plant the company woul...</td>\n",
       "      <td>0.8555</td>\n",
       "      <td>0.295</td>\n",
       "      <td>0.037</td>\n",
       "      <td>0.668</td>\n",
       "      <td>Positive</td>\n",
       "    </tr>\n",
       "    <tr>\n",
       "      <th>3</th>\n",
       "      <td>positive</td>\n",
       "      <td>according to the company 's updated strategy f...</td>\n",
       "      <td>0.6705</td>\n",
       "      <td>0.124</td>\n",
       "      <td>0.000</td>\n",
       "      <td>0.876</td>\n",
       "      <td>Positive</td>\n",
       "    </tr>\n",
       "    <tr>\n",
       "      <th>4</th>\n",
       "      <td>positive</td>\n",
       "      <td>financing of aspocomp 's growth aspocomp is ag...</td>\n",
       "      <td>0.1796</td>\n",
       "      <td>0.169</td>\n",
       "      <td>0.146</td>\n",
       "      <td>0.684</td>\n",
       "      <td>Positive</td>\n",
       "    </tr>\n",
       "  </tbody>\n",
       "</table>\n",
       "</div>"
      ],
      "text/plain": [
       "  Sentiment                                               Text  compound  \\\n",
       "0   neutral  technopolis plans to develop in stages an area...   -0.2960   \n",
       "1  negative  the international electronic industry company ...    0.0000   \n",
       "2  positive  with the new production plant the company woul...    0.8555   \n",
       "3  positive  according to the company 's updated strategy f...    0.6705   \n",
       "4  positive  financing of aspocomp 's growth aspocomp is ag...    0.1796   \n",
       "\n",
       "     pos    neg    neu predicted_sentiment  \n",
       "0  0.000  0.068  0.932            Negative  \n",
       "1  0.000  0.000  1.000             Neutral  \n",
       "2  0.295  0.037  0.668            Positive  \n",
       "3  0.124  0.000  0.876            Positive  \n",
       "4  0.169  0.146  0.684            Positive  "
      ]
     },
     "execution_count": 33,
     "metadata": {},
     "output_type": "execute_result"
    }
   ],
   "source": [
    "df_vaderSentiment.head()"
   ]
  },
  {
   "cell_type": "code",
   "execution_count": 34,
   "metadata": {
    "colab": {
     "base_uri": "https://localhost:8080/"
    },
    "executionInfo": {
     "elapsed": 466,
     "status": "ok",
     "timestamp": 1724081849670,
     "user": {
      "displayName": "Jasonbir Singh",
      "userId": "11233032549834540609"
     },
     "user_tz": -330
    },
    "id": "3lEA6cdolIS3",
    "outputId": "7dab6d0a-fcab-4ac0-f5d5-a26b26393028"
   },
   "outputs": [
    {
     "data": {
      "text/plain": [
       "0.5437254496588795"
      ]
     },
     "execution_count": 34,
     "metadata": {},
     "output_type": "execute_result"
    }
   ],
   "source": [
    "#df_vaderSentiment['Sentiment'] = df_vaderSentiment['Sentiment'].str.lower()\n",
    "df_vaderSentiment['predicted_sentiment'] = df_vaderSentiment['predicted_sentiment'].str.lower()\n",
    "\n",
    "accuracy_vaderSentiment = accuracy_score(df_vaderSentiment['Sentiment'], df_vaderSentiment['predicted_sentiment'])\n",
    "accuracy_vaderSentiment"
   ]
  },
  {
   "cell_type": "code",
   "execution_count": 35,
   "metadata": {
    "colab": {
     "base_uri": "https://localhost:8080/",
     "height": 518
    },
    "executionInfo": {
     "elapsed": 1012,
     "status": "ok",
     "timestamp": 1724081874804,
     "user": {
      "displayName": "Jasonbir Singh",
      "userId": "11233032549834540609"
     },
     "user_tz": -330
    },
    "id": "QzYBAP73_TUN",
    "outputId": "356fed36-93f3-45cf-a75d-061efa79cc38"
   },
   "outputs": [
    {
     "name": "stdout",
     "output_type": "stream",
     "text": [
      "CONFUSION MATRIX\n",
      " [[ 180  186  238]\n",
      " [ 192 1487 1192]\n",
      " [  68  331  963]]\n"
     ]
    },
    {
     "data": {
      "image/png": "[encoded data removed]",
      "text/plain": [
       "<Figure size 640x480 with 2 Axes>"
      ]
     },
     "metadata": {},
     "output_type": "display_data"
    }
   ],
   "source": [
    "from sklearn import metrics\n",
    "import matplotlib.pyplot as plt\n",
    "\n",
    "confusion_matrix = metrics.confusion_matrix(df_vaderSentiment['Sentiment'], df_vaderSentiment['predicted_sentiment'])\n",
    "print('CONFUSION MATRIX\\n', confusion_matrix)\n",
    "\n",
    "cm_display = metrics.ConfusionMatrixDisplay(confusion_matrix = confusion_matrix, display_labels = [0, 1, 2])\n",
    "cm_display.plot()\n",
    "plt.show()"
   ]
  },
  {
   "cell_type": "code",
   "execution_count": 36,
   "metadata": {
    "colab": {
     "base_uri": "https://localhost:8080/"
    },
    "executionInfo": {
     "elapsed": 14287,
     "status": "ok",
     "timestamp": 1724081910766,
     "user": {
      "displayName": "Jasonbir Singh",
      "userId": "11233032549834540609"
     },
     "user_tz": -330
    },
    "id": "HQQl0ILvDGBv",
    "outputId": "1605d7eb-8abd-49c6-dd6e-07444a1af5ab"
   },
   "outputs": [
    {
     "name": "stdout",
     "output_type": "stream",
     "text": [
      "              precision    recall  f1-score   support\n",
      "\n",
      "    negative       0.41      0.30      0.34       604\n",
      "     neutral       0.74      0.52      0.61      2871\n",
      "    positive       0.40      0.71      0.51      1362\n",
      "\n",
      "    accuracy                           0.54      4837\n",
      "   macro avg       0.52      0.51      0.49      4837\n",
      "weighted avg       0.60      0.54      0.55      4837\n",
      "\n"
     ]
    }
   ],
   "source": [
    "print(metrics.classification_report(df_vaderSentiment['Sentiment'], df_vaderSentiment['predicted_sentiment']))"
   ]
  },
  {
   "cell_type": "code",
   "execution_count": 37,
   "metadata": {
    "colab": {
     "base_uri": "https://localhost:8080/",
     "height": 580
    },
    "executionInfo": {
     "elapsed": 452,
     "status": "ok",
     "timestamp": 1724081956338,
     "user": {
      "displayName": "Jasonbir Singh",
      "userId": "11233032549834540609"
     },
     "user_tz": -330
    },
    "id": "5CqBepFoT4po",
    "outputId": "0f609237-f976-4415-ce0c-37855d7b4b9c"
   },
   "outputs": [],
   "source": [
    "df['vaderSentiment'] = df_vaderSentiment['predicted_sentiment']"
   ]
  },
  {
   "cell_type": "code",
   "execution_count": 38,
   "metadata": {},
   "outputs": [
    {
     "data": {
      "text/html": [
       "<div>\n",
       "<style scoped>\n",
       "    .dataframe tbody tr th:only-of-type {\n",
       "        vertical-align: middle;\n",
       "    }\n",
       "\n",
       "    .dataframe tbody tr th {\n",
       "        vertical-align: top;\n",
       "    }\n",
       "\n",
       "    .dataframe thead th {\n",
       "        text-align: right;\n",
       "    }\n",
       "</style>\n",
       "<table border=\"1\" class=\"dataframe\">\n",
       "  <thead>\n",
       "    <tr style=\"text-align: right;\">\n",
       "      <th></th>\n",
       "      <th>Sentiment</th>\n",
       "      <th>Text</th>\n",
       "      <th>vaderSentiment</th>\n",
       "    </tr>\n",
       "  </thead>\n",
       "  <tbody>\n",
       "    <tr>\n",
       "      <th>0</th>\n",
       "      <td>neutral</td>\n",
       "      <td>technopolis plans to develop in stages an area...</td>\n",
       "      <td>negative</td>\n",
       "    </tr>\n",
       "    <tr>\n",
       "      <th>1</th>\n",
       "      <td>negative</td>\n",
       "      <td>the international electronic industry company ...</td>\n",
       "      <td>neutral</td>\n",
       "    </tr>\n",
       "    <tr>\n",
       "      <th>2</th>\n",
       "      <td>positive</td>\n",
       "      <td>with the new production plant the company woul...</td>\n",
       "      <td>positive</td>\n",
       "    </tr>\n",
       "    <tr>\n",
       "      <th>3</th>\n",
       "      <td>positive</td>\n",
       "      <td>according to the company s updated strategy fo...</td>\n",
       "      <td>positive</td>\n",
       "    </tr>\n",
       "    <tr>\n",
       "      <th>4</th>\n",
       "      <td>positive</td>\n",
       "      <td>financing of aspocomp s growth aspocomp is agg...</td>\n",
       "      <td>positive</td>\n",
       "    </tr>\n",
       "  </tbody>\n",
       "</table>\n",
       "</div>"
      ],
      "text/plain": [
       "  Sentiment                                               Text vaderSentiment\n",
       "0   neutral  technopolis plans to develop in stages an area...       negative\n",
       "1  negative  the international electronic industry company ...        neutral\n",
       "2  positive  with the new production plant the company woul...       positive\n",
       "3  positive  according to the company s updated strategy fo...       positive\n",
       "4  positive  financing of aspocomp s growth aspocomp is agg...       positive"
      ]
     },
     "execution_count": 38,
     "metadata": {},
     "output_type": "execute_result"
    }
   ],
   "source": [
    "df.head()"
   ]
  },
  {
   "cell_type": "markdown",
   "metadata": {
    "id": "C2vRQvGe93Rj"
   },
   "source": [
    "## Fin Vader"
   ]
  },
  {
   "cell_type": "code",
   "execution_count": 39,
   "metadata": {},
   "outputs": [
    {
     "name": "stdout",
     "output_type": "stream",
     "text": [
      "Requirement already satisfied: finVader in d:\\anaconda\\anaconda_software\\envs\\sentimentanalysis\\lib\\site-packages (1.0.2)\n",
      "Requirement already satisfied: nltk==3.6.2 in d:\\anaconda\\anaconda_software\\envs\\sentimentanalysis\\lib\\site-packages (from finVader) (3.6.2)\n",
      "Requirement already satisfied: click in d:\\anaconda\\anaconda_software\\envs\\sentimentanalysis\\lib\\site-packages (from nltk==3.6.2->finVader) (8.1.7)\n",
      "Requirement already satisfied: joblib in d:\\anaconda\\anaconda_software\\envs\\sentimentanalysis\\lib\\site-packages (from nltk==3.6.2->finVader) (1.4.2)\n",
      "Requirement already satisfied: regex in d:\\anaconda\\anaconda_software\\envs\\sentimentanalysis\\lib\\site-packages (from nltk==3.6.2->finVader) (2024.9.11)\n",
      "Requirement already satisfied: tqdm in d:\\anaconda\\anaconda_software\\envs\\sentimentanalysis\\lib\\site-packages (from nltk==3.6.2->finVader) (4.66.5)\n",
      "Requirement already satisfied: colorama in d:\\anaconda\\anaconda_software\\envs\\sentimentanalysis\\lib\\site-packages (from click->nltk==3.6.2->finVader) (0.4.6)\n"
     ]
    }
   ],
   "source": [
    "!pip install finVader"
   ]
  },
  {
   "cell_type": "code",
   "execution_count": 40,
   "metadata": {
    "id": "emHikDq9TD18"
   },
   "outputs": [],
   "source": [
    "# Importing models & Evaluation model\n",
    "\n",
    "from nltk.sentiment.vader import SentimentIntensityAnalyzer\n",
    "from Henry import *\n",
    "from SentiBignomics import *"
   ]
  },
  {
   "cell_type": "code",
   "execution_count": 41,
   "metadata": {
    "colab": {
     "base_uri": "https://localhost:8080/"
    },
    "executionInfo": {
     "elapsed": 410,
     "status": "ok",
     "timestamp": 1724144666293,
     "user": {
      "displayName": "Jasonbir Singh",
      "userId": "11233032549834540609"
     },
     "user_tz": -330
    },
    "id": "kzfz5AvcB518",
    "outputId": "d7aaae39-11bc-4c9f-a71b-d65de02f018c"
   },
   "outputs": [
    {
     "name": "stdout",
     "output_type": "stream",
     "text": [
      "<class 'pandas.core.frame.DataFrame'>\n",
      "Index: 4837 entries, 0 to 4844\n",
      "Data columns (total 2 columns):\n",
      " #   Column     Non-Null Count  Dtype \n",
      "---  ------     --------------  ----- \n",
      " 0   Sentiment  4837 non-null   object\n",
      " 1   Text       4837 non-null   object\n",
      "dtypes: object(2)\n",
      "memory usage: 113.4+ KB\n"
     ]
    }
   ],
   "source": [
    "df_finVader.info()"
   ]
  },
  {
   "cell_type": "code",
   "execution_count": 42,
   "metadata": {
    "id": "8fnHfbZZUA_a"
   },
   "outputs": [],
   "source": [
    "def finvader(text = 'str', indicator = 'str', use_sentibignomics: bool= True, use_henry: bool= True):\n",
    "    \n",
    "    def Merge(dict1, dict2):       # merge two dictionaries\n",
    "        res = {**dict1, **dict2}\n",
    "        return res\n",
    "     \n",
    "    if use_sentibignomics is True and use_henry is False:\n",
    "        sentibignomics = lexicon1()\n",
    "        constant = 0.1  # parameter for tuning classification accurancy\n",
    "        sentibignomics.update((key, value * constant) for key, value in sentibignomics.items())\n",
    "        vader1 = SentimentIntensityAnalyzer()\n",
    "        vader1.lexicon.update(sentibignomics)\n",
    "\n",
    "        if indicator == \"compound\":\n",
    "            sentiment_dict = vader1.polarity_scores(text)\n",
    "            sentiment = sentiment_dict['compound']\n",
    "\n",
    "        elif indicator == \"neg\":\n",
    "            sentiment_dict = vader1.polarity_scores(text)\n",
    "            sentiment = sentiment_dict['neg']\n",
    "\n",
    "        elif indicator == \"pos\":\n",
    "            sentiment_dict = vader1.polarity_scores(text)\n",
    "            sentiment = sentiment_dict['pos']\n",
    "\n",
    "        elif indicator == \"neu\":\n",
    "            sentiment_dict = vader1.polarity_scores(text)\n",
    "            sentiment = sentiment_dict['neu']\n",
    "\n",
    "    elif use_henry is True and use_sentibignomics is False:\n",
    "        henry = lexicon2()\n",
    "        vader2 = SentimentIntensityAnalyzer()\n",
    "        vader2.lexicon.update(henry)\n",
    "\n",
    "        if indicator == \"compound\":\n",
    "            sentiment_dict = vader2.polarity_scores(text)\n",
    "            sentiment = sentiment_dict['compound']\n",
    "\n",
    "        elif indicator == \"neg\":\n",
    "            sentiment_dict = vader2.polarity_scores(text)\n",
    "            sentiment = sentiment_dict['neg']\n",
    "\n",
    "        elif indicator == \"pos\":\n",
    "            sentiment_dict = vader2.polarity_scores(text)\n",
    "            sentiment = sentiment_dict['pos']\n",
    "\n",
    "        elif indicator == \"neu\":\n",
    "            sentiment_dict = vader2.polarity_scores(text)\n",
    "            sentiment = sentiment_dict['neu']\n",
    "\n",
    "\n",
    "    elif use_henry is True and use_sentibignomics is True:\n",
    "        sentibignomics = lexicon1()\n",
    "        constant = 0.1  # parameter for tuning classification accurancy\n",
    "        sentibignomics.update((key, value * constant) for key, value in sentibignomics.items())\n",
    "        henry = lexicon2()\n",
    "        SentiBignomics_Henry = Merge(sentibignomics, henry) # combined lexicon\n",
    "        vader3 = SentimentIntensityAnalyzer()\n",
    "        vader3.lexicon.update(SentiBignomics_Henry)\n",
    "\n",
    "        if indicator == \"compound\":\n",
    "            sentiment_dict = vader3.polarity_scores(text)\n",
    "            sentiment = sentiment_dict['compound']\n",
    "\n",
    "        elif indicator == \"neg\":\n",
    "            sentiment_dict = vader3.polarity_scores(text)\n",
    "            sentiment = sentiment_dict['neg']\n",
    "\n",
    "        elif indicator == \"pos\":\n",
    "            sentiment_dict = vader3.polarity_scores(text)\n",
    "            sentiment = sentiment_dict['pos']\n",
    "\n",
    "        elif indicator == \"neu\":\n",
    "            sentiment_dict = vader3.polarity_scores(text)\n",
    "            sentiment = sentiment_dict['neu']\n",
    "\n",
    "    return sentiment"
   ]
  },
  {
   "cell_type": "code",
   "execution_count": 43,
   "metadata": {
    "id": "IYN4MH_IC6T1"
   },
   "outputs": [],
   "source": [
    "# lexicons included are sentibignomics and henry\n",
    "\n",
    "df_finVader['finvader'] = df_finVader.Text.apply(finvader, use_sentibignomics = True, use_henry = True, indicator='compound')"
   ]
  },
  {
   "cell_type": "code",
   "execution_count": 44,
   "metadata": {},
   "outputs": [],
   "source": [
    "df_finVader['finvader'] = np.where(df_finVader['finvader'] > 0.32, \"positive\",\n",
    "                                 np.where(df_finVader['finvader'] < -0.32, \"negative\", \"neutral\"))\n",
    "\n",
    "# This creates a new column named 'sentiment' with the assigned values"
   ]
  },
  {
   "cell_type": "code",
   "execution_count": 45,
   "metadata": {
    "colab": {
     "base_uri": "https://localhost:8080/",
     "height": 424
    },
    "executionInfo": {
     "elapsed": 13,
     "status": "ok",
     "timestamp": 1724144626461,
     "user": {
      "displayName": "Jasonbir Singh",
      "userId": "11233032549834540609"
     },
     "user_tz": -330
    },
    "id": "xik-_SgXdN-R",
    "outputId": "7ea55f0f-71ba-4513-f7dd-ca235fe92a2b"
   },
   "outputs": [
    {
     "data": {
      "text/html": [
       "<div>\n",
       "<style scoped>\n",
       "    .dataframe tbody tr th:only-of-type {\n",
       "        vertical-align: middle;\n",
       "    }\n",
       "\n",
       "    .dataframe tbody tr th {\n",
       "        vertical-align: top;\n",
       "    }\n",
       "\n",
       "    .dataframe thead th {\n",
       "        text-align: right;\n",
       "    }\n",
       "</style>\n",
       "<table border=\"1\" class=\"dataframe\">\n",
       "  <thead>\n",
       "    <tr style=\"text-align: right;\">\n",
       "      <th></th>\n",
       "      <th>Sentiment</th>\n",
       "      <th>Text</th>\n",
       "      <th>finvader</th>\n",
       "    </tr>\n",
       "  </thead>\n",
       "  <tbody>\n",
       "    <tr>\n",
       "      <th>0</th>\n",
       "      <td>neutral</td>\n",
       "      <td>technopolis plans to develop in stages an area...</td>\n",
       "      <td>neutral</td>\n",
       "    </tr>\n",
       "    <tr>\n",
       "      <th>1</th>\n",
       "      <td>negative</td>\n",
       "      <td>the international electronic industry company ...</td>\n",
       "      <td>neutral</td>\n",
       "    </tr>\n",
       "    <tr>\n",
       "      <th>2</th>\n",
       "      <td>positive</td>\n",
       "      <td>with the new production plant the company woul...</td>\n",
       "      <td>positive</td>\n",
       "    </tr>\n",
       "    <tr>\n",
       "      <th>3</th>\n",
       "      <td>positive</td>\n",
       "      <td>according to the company 's updated strategy f...</td>\n",
       "      <td>positive</td>\n",
       "    </tr>\n",
       "    <tr>\n",
       "      <th>4</th>\n",
       "      <td>positive</td>\n",
       "      <td>financing of aspocomp 's growth aspocomp is ag...</td>\n",
       "      <td>positive</td>\n",
       "    </tr>\n",
       "    <tr>\n",
       "      <th>...</th>\n",
       "      <td>...</td>\n",
       "      <td>...</td>\n",
       "      <td>...</td>\n",
       "    </tr>\n",
       "    <tr>\n",
       "      <th>96</th>\n",
       "      <td>positive</td>\n",
       "      <td>net sales of finnish food industry company l+æ...</td>\n",
       "      <td>positive</td>\n",
       "    </tr>\n",
       "    <tr>\n",
       "      <th>97</th>\n",
       "      <td>positive</td>\n",
       "      <td>an individual promotion also generated slightl...</td>\n",
       "      <td>neutral</td>\n",
       "    </tr>\n",
       "    <tr>\n",
       "      <th>98</th>\n",
       "      <td>positive</td>\n",
       "      <td>biohit already services many current genesis c...</td>\n",
       "      <td>positive</td>\n",
       "    </tr>\n",
       "    <tr>\n",
       "      <th>99</th>\n",
       "      <td>positive</td>\n",
       "      <td>both operating profit and turnover for the thr...</td>\n",
       "      <td>positive</td>\n",
       "    </tr>\n",
       "    <tr>\n",
       "      <th>100</th>\n",
       "      <td>positive</td>\n",
       "      <td>circulation revenue has increased by 5 % in fi...</td>\n",
       "      <td>positive</td>\n",
       "    </tr>\n",
       "  </tbody>\n",
       "</table>\n",
       "<p>100 rows × 3 columns</p>\n",
       "</div>"
      ],
      "text/plain": [
       "    Sentiment                                               Text  finvader\n",
       "0     neutral  technopolis plans to develop in stages an area...   neutral\n",
       "1    negative  the international electronic industry company ...   neutral\n",
       "2    positive  with the new production plant the company woul...  positive\n",
       "3    positive  according to the company 's updated strategy f...  positive\n",
       "4    positive  financing of aspocomp 's growth aspocomp is ag...  positive\n",
       "..        ...                                                ...       ...\n",
       "96   positive  net sales of finnish food industry company l+æ...  positive\n",
       "97   positive  an individual promotion also generated slightl...   neutral\n",
       "98   positive  biohit already services many current genesis c...  positive\n",
       "99   positive  both operating profit and turnover for the thr...  positive\n",
       "100  positive  circulation revenue has increased by 5 % in fi...  positive\n",
       "\n",
       "[100 rows x 3 columns]"
      ]
     },
     "execution_count": 45,
     "metadata": {},
     "output_type": "execute_result"
    }
   ],
   "source": [
    "df_finVader.head(100)"
   ]
  },
  {
   "cell_type": "code",
   "execution_count": 46,
   "metadata": {
    "colab": {
     "base_uri": "https://localhost:8080/",
     "height": 424
    },
    "executionInfo": {
     "elapsed": 433,
     "status": "ok",
     "timestamp": 1724144684538,
     "user": {
      "displayName": "Jasonbir Singh",
      "userId": "11233032549834540609"
     },
     "user_tz": -330
    },
    "id": "gn3Dwc7cVftB",
    "outputId": "6cb82311-3f39-4c1c-b874-5914e873ae0e"
   },
   "outputs": [
    {
     "data": {
      "text/html": [
       "<div>\n",
       "<style scoped>\n",
       "    .dataframe tbody tr th:only-of-type {\n",
       "        vertical-align: middle;\n",
       "    }\n",
       "\n",
       "    .dataframe tbody tr th {\n",
       "        vertical-align: top;\n",
       "    }\n",
       "\n",
       "    .dataframe thead th {\n",
       "        text-align: right;\n",
       "    }\n",
       "</style>\n",
       "<table border=\"1\" class=\"dataframe\">\n",
       "  <thead>\n",
       "    <tr style=\"text-align: right;\">\n",
       "      <th></th>\n",
       "      <th>Sentiment</th>\n",
       "      <th>Text</th>\n",
       "      <th>finvader</th>\n",
       "    </tr>\n",
       "  </thead>\n",
       "  <tbody>\n",
       "    <tr>\n",
       "      <th>4745</th>\n",
       "      <td>negative</td>\n",
       "      <td>nokia shares hit 13.21 euros on friday , down ...</td>\n",
       "      <td>neutral</td>\n",
       "    </tr>\n",
       "    <tr>\n",
       "      <th>4746</th>\n",
       "      <td>negative</td>\n",
       "      <td>operating profit decreased to eur 11.2 mn from...</td>\n",
       "      <td>negative</td>\n",
       "    </tr>\n",
       "    <tr>\n",
       "      <th>4747</th>\n",
       "      <td>negative</td>\n",
       "      <td>operating profit decreased to nearly eur 1.7 m...</td>\n",
       "      <td>negative</td>\n",
       "    </tr>\n",
       "    <tr>\n",
       "      <th>4748</th>\n",
       "      <td>negative</td>\n",
       "      <td>operating profit fell to eur 20.3 mn from eur ...</td>\n",
       "      <td>negative</td>\n",
       "    </tr>\n",
       "    <tr>\n",
       "      <th>4749</th>\n",
       "      <td>negative</td>\n",
       "      <td>operating profit in the fourth quarter fell to...</td>\n",
       "      <td>negative</td>\n",
       "    </tr>\n",
       "    <tr>\n",
       "      <th>...</th>\n",
       "      <td>...</td>\n",
       "      <td>...</td>\n",
       "      <td>...</td>\n",
       "    </tr>\n",
       "    <tr>\n",
       "      <th>4840</th>\n",
       "      <td>negative</td>\n",
       "      <td>london marketwatch -- share prices ended lower...</td>\n",
       "      <td>negative</td>\n",
       "    </tr>\n",
       "    <tr>\n",
       "      <th>4841</th>\n",
       "      <td>neutral</td>\n",
       "      <td>rinkuskiai 's beer sales fell by 6.5 per cent ...</td>\n",
       "      <td>negative</td>\n",
       "    </tr>\n",
       "    <tr>\n",
       "      <th>4842</th>\n",
       "      <td>negative</td>\n",
       "      <td>operating profit fell to eur 35.4 mn from eur ...</td>\n",
       "      <td>negative</td>\n",
       "    </tr>\n",
       "    <tr>\n",
       "      <th>4843</th>\n",
       "      <td>negative</td>\n",
       "      <td>net sales of the paper segment decreased to eu...</td>\n",
       "      <td>neutral</td>\n",
       "    </tr>\n",
       "    <tr>\n",
       "      <th>4844</th>\n",
       "      <td>negative</td>\n",
       "      <td>sales in finland decreased by 10.5 % in januar...</td>\n",
       "      <td>negative</td>\n",
       "    </tr>\n",
       "  </tbody>\n",
       "</table>\n",
       "<p>100 rows × 3 columns</p>\n",
       "</div>"
      ],
      "text/plain": [
       "     Sentiment                                               Text  finvader\n",
       "4745  negative  nokia shares hit 13.21 euros on friday , down ...   neutral\n",
       "4746  negative  operating profit decreased to eur 11.2 mn from...  negative\n",
       "4747  negative  operating profit decreased to nearly eur 1.7 m...  negative\n",
       "4748  negative  operating profit fell to eur 20.3 mn from eur ...  negative\n",
       "4749  negative  operating profit in the fourth quarter fell to...  negative\n",
       "...        ...                                                ...       ...\n",
       "4840  negative  london marketwatch -- share prices ended lower...  negative\n",
       "4841   neutral  rinkuskiai 's beer sales fell by 6.5 per cent ...  negative\n",
       "4842  negative  operating profit fell to eur 35.4 mn from eur ...  negative\n",
       "4843  negative  net sales of the paper segment decreased to eu...   neutral\n",
       "4844  negative  sales in finland decreased by 10.5 % in januar...  negative\n",
       "\n",
       "[100 rows x 3 columns]"
      ]
     },
     "execution_count": 46,
     "metadata": {},
     "output_type": "execute_result"
    }
   ],
   "source": [
    "df_finVader.tail(100)"
   ]
  },
  {
   "cell_type": "code",
   "execution_count": 47,
   "metadata": {
    "colab": {
     "base_uri": "https://localhost:8080/"
    },
    "executionInfo": {
     "elapsed": 3244,
     "status": "ok",
     "timestamp": 1724144634789,
     "user": {
      "displayName": "Jasonbir Singh",
      "userId": "11233032549834540609"
     },
     "user_tz": -330
    },
    "id": "7ZxN7eXzflUm",
    "outputId": "0ac82757-7ee8-4c5c-87d9-c52261c416ae"
   },
   "outputs": [
    {
     "data": {
      "text/plain": [
       "0.6971263179656813"
      ]
     },
     "execution_count": 47,
     "metadata": {},
     "output_type": "execute_result"
    }
   ],
   "source": [
    "from sklearn import metrics\n",
    "df_finVader['Sentiment'] = df_finVader['Sentiment'].str.lower()\n",
    "df_finVader['finvader'] = df_finVader['finvader'].str.lower()\n",
    "\n",
    "accuracy_finVader = metrics.accuracy_score(df_finVader['Sentiment'], df_finVader['finvader'])\n",
    "accuracy_finVader"
   ]
  },
  {
   "cell_type": "code",
   "execution_count": 48,
   "metadata": {
    "colab": {
     "base_uri": "https://localhost:8080/"
    },
    "executionInfo": {
     "elapsed": 44747,
     "status": "ok",
     "timestamp": 1724133174687,
     "user": {
      "displayName": "Jasonbir Singh",
      "userId": "11233032549834540609"
     },
     "user_tz": -330
    },
    "id": "wROHY3FzfwCW",
    "outputId": "2d5c2d91-702a-4dcb-d537-9a817f3a89e3"
   },
   "outputs": [
    {
     "name": "stdout",
     "output_type": "stream",
     "text": [
      "              precision    recall  f1-score   support\n",
      "\n",
      "    negative       0.68      0.47      0.56       604\n",
      "     neutral       0.74      0.78      0.76      2871\n",
      "    positive       0.60      0.62      0.61      1362\n",
      "\n",
      "    accuracy                           0.70      4837\n",
      "   macro avg       0.68      0.62      0.64      4837\n",
      "weighted avg       0.70      0.70      0.69      4837\n",
      "\n"
     ]
    }
   ],
   "source": [
    "print(metrics.classification_report(df_finVader['Sentiment'], df_finVader['finvader']))"
   ]
  },
  {
   "cell_type": "code",
   "execution_count": 49,
   "metadata": {},
   "outputs": [],
   "source": [
    "df['finVader'] = df_finVader['finvader']"
   ]
  },
  {
   "cell_type": "code",
   "execution_count": 50,
   "metadata": {},
   "outputs": [
    {
     "data": {
      "text/html": [
       "<div>\n",
       "<style scoped>\n",
       "    .dataframe tbody tr th:only-of-type {\n",
       "        vertical-align: middle;\n",
       "    }\n",
       "\n",
       "    .dataframe tbody tr th {\n",
       "        vertical-align: top;\n",
       "    }\n",
       "\n",
       "    .dataframe thead th {\n",
       "        text-align: right;\n",
       "    }\n",
       "</style>\n",
       "<table border=\"1\" class=\"dataframe\">\n",
       "  <thead>\n",
       "    <tr style=\"text-align: right;\">\n",
       "      <th></th>\n",
       "      <th>Sentiment</th>\n",
       "      <th>Text</th>\n",
       "      <th>vaderSentiment</th>\n",
       "      <th>finVader</th>\n",
       "    </tr>\n",
       "  </thead>\n",
       "  <tbody>\n",
       "    <tr>\n",
       "      <th>0</th>\n",
       "      <td>neutral</td>\n",
       "      <td>technopolis plans to develop in stages an area...</td>\n",
       "      <td>negative</td>\n",
       "      <td>neutral</td>\n",
       "    </tr>\n",
       "    <tr>\n",
       "      <th>1</th>\n",
       "      <td>negative</td>\n",
       "      <td>the international electronic industry company ...</td>\n",
       "      <td>neutral</td>\n",
       "      <td>neutral</td>\n",
       "    </tr>\n",
       "    <tr>\n",
       "      <th>2</th>\n",
       "      <td>positive</td>\n",
       "      <td>with the new production plant the company woul...</td>\n",
       "      <td>positive</td>\n",
       "      <td>positive</td>\n",
       "    </tr>\n",
       "    <tr>\n",
       "      <th>3</th>\n",
       "      <td>positive</td>\n",
       "      <td>according to the company s updated strategy fo...</td>\n",
       "      <td>positive</td>\n",
       "      <td>positive</td>\n",
       "    </tr>\n",
       "    <tr>\n",
       "      <th>4</th>\n",
       "      <td>positive</td>\n",
       "      <td>financing of aspocomp s growth aspocomp is agg...</td>\n",
       "      <td>positive</td>\n",
       "      <td>positive</td>\n",
       "    </tr>\n",
       "  </tbody>\n",
       "</table>\n",
       "</div>"
      ],
      "text/plain": [
       "  Sentiment                                               Text vaderSentiment  \\\n",
       "0   neutral  technopolis plans to develop in stages an area...       negative   \n",
       "1  negative  the international electronic industry company ...        neutral   \n",
       "2  positive  with the new production plant the company woul...       positive   \n",
       "3  positive  according to the company s updated strategy fo...       positive   \n",
       "4  positive  financing of aspocomp s growth aspocomp is agg...       positive   \n",
       "\n",
       "   finVader  \n",
       "0   neutral  \n",
       "1   neutral  \n",
       "2  positive  \n",
       "3  positive  \n",
       "4  positive  "
      ]
     },
     "execution_count": 50,
     "metadata": {},
     "output_type": "execute_result"
    }
   ],
   "source": [
    "df.head()"
   ]
  },
  {
   "cell_type": "markdown",
   "metadata": {},
   "source": [
    "## FinBERT"
   ]
  },
  {
   "cell_type": "code",
   "execution_count": 51,
   "metadata": {},
   "outputs": [
    {
     "name": "stdout",
     "output_type": "stream",
     "text": [
      "Requirement already satisfied: transformers in d:\\anaconda\\anaconda_software\\envs\\sentimentanalysis\\lib\\site-packages (4.44.2)\n",
      "Requirement already satisfied: torch in d:\\anaconda\\anaconda_software\\envs\\sentimentanalysis\\lib\\site-packages (2.4.1)\n",
      "Requirement already satisfied: filelock in d:\\anaconda\\anaconda_software\\envs\\sentimentanalysis\\lib\\site-packages (from transformers) (3.16.0)\n",
      "Requirement already satisfied: huggingface-hub<1.0,>=0.23.2 in d:\\anaconda\\anaconda_software\\envs\\sentimentanalysis\\lib\\site-packages (from transformers) (0.24.7)\n",
      "Requirement already satisfied: numpy>=1.17 in d:\\anaconda\\anaconda_software\\envs\\sentimentanalysis\\lib\\site-packages (from transformers) (1.26.4)\n",
      "Requirement already satisfied: packaging>=20.0 in d:\\anaconda\\anaconda_software\\envs\\sentimentanalysis\\lib\\site-packages (from transformers) (24.1)\n",
      "Requirement already satisfied: pyyaml>=5.1 in d:\\anaconda\\anaconda_software\\envs\\sentimentanalysis\\lib\\site-packages (from transformers) (6.0.2)\n",
      "Requirement already satisfied: regex!=2019.12.17 in d:\\anaconda\\anaconda_software\\envs\\sentimentanalysis\\lib\\site-packages (from transformers) (2024.9.11)\n",
      "Requirement already satisfied: requests in d:\\anaconda\\anaconda_software\\envs\\sentimentanalysis\\lib\\site-packages (from transformers) (2.32.3)\n",
      "Requirement already satisfied: safetensors>=0.4.1 in d:\\anaconda\\anaconda_software\\envs\\sentimentanalysis\\lib\\site-packages (from transformers) (0.4.5)\n",
      "Requirement already satisfied: tokenizers<0.20,>=0.19 in d:\\anaconda\\anaconda_software\\envs\\sentimentanalysis\\lib\\site-packages (from transformers) (0.19.1)\n",
      "Requirement already satisfied: tqdm>=4.27 in d:\\anaconda\\anaconda_software\\envs\\sentimentanalysis\\lib\\site-packages (from transformers) (4.66.5)\n",
      "Requirement already satisfied: typing-extensions>=4.8.0 in d:\\anaconda\\anaconda_software\\envs\\sentimentanalysis\\lib\\site-packages (from torch) (4.12.2)\n",
      "Requirement already satisfied: sympy in d:\\anaconda\\anaconda_software\\envs\\sentimentanalysis\\lib\\site-packages (from torch) (1.13.2)\n",
      "Requirement already satisfied: networkx in d:\\anaconda\\anaconda_software\\envs\\sentimentanalysis\\lib\\site-packages (from torch) (3.3)\n",
      "Requirement already satisfied: jinja2 in d:\\anaconda\\anaconda_software\\envs\\sentimentanalysis\\lib\\site-packages (from torch) (3.1.4)\n",
      "Requirement already satisfied: fsspec in d:\\anaconda\\anaconda_software\\envs\\sentimentanalysis\\lib\\site-packages (from torch) (2024.9.0)\n",
      "Requirement already satisfied: setuptools in d:\\anaconda\\anaconda_software\\envs\\sentimentanalysis\\lib\\site-packages (from torch) (73.0.1)\n",
      "Requirement already satisfied: colorama in d:\\anaconda\\anaconda_software\\envs\\sentimentanalysis\\lib\\site-packages (from tqdm>=4.27->transformers) (0.4.6)\n",
      "Requirement already satisfied: MarkupSafe>=2.0 in d:\\anaconda\\anaconda_software\\envs\\sentimentanalysis\\lib\\site-packages (from jinja2->torch) (2.1.5)\n",
      "Requirement already satisfied: charset-normalizer<4,>=2 in d:\\anaconda\\anaconda_software\\envs\\sentimentanalysis\\lib\\site-packages (from requests->transformers) (3.3.2)\n",
      "Requirement already satisfied: idna<4,>=2.5 in d:\\anaconda\\anaconda_software\\envs\\sentimentanalysis\\lib\\site-packages (from requests->transformers) (3.8)\n",
      "Requirement already satisfied: urllib3<3,>=1.21.1 in d:\\anaconda\\anaconda_software\\envs\\sentimentanalysis\\lib\\site-packages (from requests->transformers) (2.2.2)\n",
      "Requirement already satisfied: certifi>=2017.4.17 in d:\\anaconda\\anaconda_software\\envs\\sentimentanalysis\\lib\\site-packages (from requests->transformers) (2024.8.30)\n",
      "Requirement already satisfied: mpmath<1.4,>=1.1.0 in d:\\anaconda\\anaconda_software\\envs\\sentimentanalysis\\lib\\site-packages (from sympy->torch) (1.3.0)\n"
     ]
    }
   ],
   "source": [
    "!pip install transformers torch"
   ]
  },
  {
   "cell_type": "code",
   "execution_count": 52,
   "metadata": {},
   "outputs": [
    {
     "name": "stderr",
     "output_type": "stream",
     "text": [
      "D:\\Anaconda\\Anaconda_Software\\envs\\SentimentAnalysis\\Lib\\site-packages\\tqdm\\auto.py:21: TqdmWarning: IProgress not found. Please update jupyter and ipywidgets. See https://ipywidgets.readthedocs.io/en/stable/user_install.html\n",
      "  from .autonotebook import tqdm as notebook_tqdm\n"
     ]
    }
   ],
   "source": [
    "import scipy\n",
    "import torch\n",
    "from transformers import pipeline, AutoTokenizer, AutoModelForSequenceClassification, BertTokenizer, BertForSequenceClassification\n",
    "import warnings\n",
    "warnings.filterwarnings(\"ignore\")"
   ]
  },
  {
   "cell_type": "code",
   "execution_count": 53,
   "metadata": {},
   "outputs": [],
   "source": [
    "#Then, from the HuggingFace Model Hub, we'll download the pre-trained tokenizer, \n",
    "# which is used to convert text into tokens that NLP models can understand. \n",
    "# We also load the pre-trained model itself in a similar way. \n",
    "\n",
    "X = df_finBert['Text'].to_list()\n",
    "tokenizer = AutoTokenizer.from_pretrained(\"ProsusAI/finbert\")\n",
    "model_finbert = AutoModelForSequenceClassification.from_pretrained(\"ProsusAI/finbert\")"
   ]
  },
  {
   "cell_type": "code",
   "execution_count": 54,
   "metadata": {},
   "outputs": [],
   "source": [
    "preds = []\n",
    "preds_proba = []\n",
    "tokenizer_kwargs = {\"padding\": True, \"truncation\": True, \"max_length\": 512}\n",
    "for x in X:\n",
    "    with torch.no_grad():\n",
    "        input_sequence = tokenizer(x, return_tensors=\"pt\", **tokenizer_kwargs)\n",
    "        logits = model_finbert(**input_sequence).logits\n",
    "        scores = {\n",
    "        k: v\n",
    "        for k, v in zip( \n",
    "            model_finbert.config.id2label.values(),\n",
    "            scipy.special.softmax(logits.numpy().squeeze()),\n",
    "        )\n",
    "    }\n",
    "    sentimentFinbert = max(scores, key=scores.get)\n",
    "    probabilityFinbert = max(scores.values())\n",
    "    preds.append(sentimentFinbert)\n",
    "    preds_proba.append(probabilityFinbert)"
   ]
  },
  {
   "cell_type": "code",
   "execution_count": 55,
   "metadata": {},
   "outputs": [],
   "source": [
    "df_finBert['predicted_finbert'] = preds"
   ]
  },
  {
   "cell_type": "code",
   "execution_count": 56,
   "metadata": {},
   "outputs": [
    {
     "data": {
      "text/html": [
       "<div>\n",
       "<style scoped>\n",
       "    .dataframe tbody tr th:only-of-type {\n",
       "        vertical-align: middle;\n",
       "    }\n",
       "\n",
       "    .dataframe tbody tr th {\n",
       "        vertical-align: top;\n",
       "    }\n",
       "\n",
       "    .dataframe thead th {\n",
       "        text-align: right;\n",
       "    }\n",
       "</style>\n",
       "<table border=\"1\" class=\"dataframe\">\n",
       "  <thead>\n",
       "    <tr style=\"text-align: right;\">\n",
       "      <th></th>\n",
       "      <th>Sentiment</th>\n",
       "      <th>Text</th>\n",
       "      <th>predicted_finbert</th>\n",
       "    </tr>\n",
       "  </thead>\n",
       "  <tbody>\n",
       "    <tr>\n",
       "      <th>0</th>\n",
       "      <td>neutral</td>\n",
       "      <td>technopolis plans to develop in stages an area...</td>\n",
       "      <td>neutral</td>\n",
       "    </tr>\n",
       "    <tr>\n",
       "      <th>1</th>\n",
       "      <td>negative</td>\n",
       "      <td>the international electronic industry company ...</td>\n",
       "      <td>negative</td>\n",
       "    </tr>\n",
       "    <tr>\n",
       "      <th>2</th>\n",
       "      <td>positive</td>\n",
       "      <td>with the new production plant the company woul...</td>\n",
       "      <td>positive</td>\n",
       "    </tr>\n",
       "    <tr>\n",
       "      <th>3</th>\n",
       "      <td>positive</td>\n",
       "      <td>according to the company 's updated strategy f...</td>\n",
       "      <td>positive</td>\n",
       "    </tr>\n",
       "    <tr>\n",
       "      <th>4</th>\n",
       "      <td>positive</td>\n",
       "      <td>financing of aspocomp 's growth aspocomp is ag...</td>\n",
       "      <td>positive</td>\n",
       "    </tr>\n",
       "  </tbody>\n",
       "</table>\n",
       "</div>"
      ],
      "text/plain": [
       "  Sentiment                                               Text  \\\n",
       "0   neutral  technopolis plans to develop in stages an area...   \n",
       "1  negative  the international electronic industry company ...   \n",
       "2  positive  with the new production plant the company woul...   \n",
       "3  positive  according to the company 's updated strategy f...   \n",
       "4  positive  financing of aspocomp 's growth aspocomp is ag...   \n",
       "\n",
       "  predicted_finbert  \n",
       "0           neutral  \n",
       "1          negative  \n",
       "2          positive  \n",
       "3          positive  \n",
       "4          positive  "
      ]
     },
     "execution_count": 56,
     "metadata": {},
     "output_type": "execute_result"
    }
   ],
   "source": [
    "df_finBert.head()"
   ]
  },
  {
   "cell_type": "code",
   "execution_count": 57,
   "metadata": {},
   "outputs": [
    {
     "data": {
      "text/plain": [
       "0.8891875129212322"
      ]
     },
     "execution_count": 57,
     "metadata": {},
     "output_type": "execute_result"
    }
   ],
   "source": [
    "accuracy_finBERT = accuracy_score(df_finBert['Sentiment'], df_finBert['predicted_finbert'])\n",
    "accuracy_finBERT"
   ]
  },
  {
   "cell_type": "markdown",
   "metadata": {
    "id": "Xu6f3Vg1WYaS"
   },
   "source": [
    "## SVM"
   ]
  },
  {
   "cell_type": "code",
   "execution_count": 60,
   "metadata": {},
   "outputs": [
    {
     "name": "stdout",
     "output_type": "stream",
     "text": [
      "Train_Y:  [0 1 2]\n",
      "Test_Y:  [0 1 2]\n"
     ]
    }
   ],
   "source": [
    "print(\"Train_Y: \", np.unique(Train_Y))\n",
    "print(\"Test_Y: \", np.unique(Test_Y))"
   ]
  },
  {
   "cell_type": "code",
   "execution_count": 61,
   "metadata": {},
   "outputs": [
    {
     "data": {
      "text/html": [
       "<div>\n",
       "<style scoped>\n",
       "    .dataframe tbody tr th:only-of-type {\n",
       "        vertical-align: middle;\n",
       "    }\n",
       "\n",
       "    .dataframe tbody tr th {\n",
       "        vertical-align: top;\n",
       "    }\n",
       "\n",
       "    .dataframe thead th {\n",
       "        text-align: right;\n",
       "    }\n",
       "</style>\n",
       "<table border=\"1\" class=\"dataframe\">\n",
       "  <thead>\n",
       "    <tr style=\"text-align: right;\">\n",
       "      <th></th>\n",
       "      <th>Sentiment</th>\n",
       "      <th>Text</th>\n",
       "      <th>stemmed_Text</th>\n",
       "      <th>lemmatized_Text</th>\n",
       "    </tr>\n",
       "  </thead>\n",
       "  <tbody>\n",
       "    <tr>\n",
       "      <th>0</th>\n",
       "      <td>neutral</td>\n",
       "      <td>[technopolis, plans, to, develop, in, stages, ...</td>\n",
       "      <td>[technopoli, plan, to, develop, in, stage, an,...</td>\n",
       "      <td>['technopolis', 'plan', 'to', 'develop', 'in',...</td>\n",
       "    </tr>\n",
       "    <tr>\n",
       "      <th>1</th>\n",
       "      <td>negative</td>\n",
       "      <td>[the, international, electronic, industry, com...</td>\n",
       "      <td>[the, intern, electron, industri, compani, elc...</td>\n",
       "      <td>['the', 'international', 'electronic', 'indust...</td>\n",
       "    </tr>\n",
       "    <tr>\n",
       "      <th>2</th>\n",
       "      <td>positive</td>\n",
       "      <td>[with, the, new, production, plant, the, compa...</td>\n",
       "      <td>[with, the, new, product, plant, the, compani,...</td>\n",
       "      <td>['with', 'the', 'new', 'production', 'plant', ...</td>\n",
       "    </tr>\n",
       "    <tr>\n",
       "      <th>3</th>\n",
       "      <td>positive</td>\n",
       "      <td>[according, to, the, company, s, updated, stra...</td>\n",
       "      <td>[accord, to, the, compani, s, updat, strategi,...</td>\n",
       "      <td>['accord', 'to', 'the', 'company', 's', 'updat...</td>\n",
       "    </tr>\n",
       "    <tr>\n",
       "      <th>4</th>\n",
       "      <td>positive</td>\n",
       "      <td>[financing, of, aspocomp, s, growth, aspocomp,...</td>\n",
       "      <td>[financ, of, aspocomp, s, growth, aspocomp, is...</td>\n",
       "      <td>['financing', 'of', 'aspocomp', 's', 'growth',...</td>\n",
       "    </tr>\n",
       "  </tbody>\n",
       "</table>\n",
       "</div>"
      ],
      "text/plain": [
       "  Sentiment                                               Text  \\\n",
       "0   neutral  [technopolis, plans, to, develop, in, stages, ...   \n",
       "1  negative  [the, international, electronic, industry, com...   \n",
       "2  positive  [with, the, new, production, plant, the, compa...   \n",
       "3  positive  [according, to, the, company, s, updated, stra...   \n",
       "4  positive  [financing, of, aspocomp, s, growth, aspocomp,...   \n",
       "\n",
       "                                        stemmed_Text  \\\n",
       "0  [technopoli, plan, to, develop, in, stage, an,...   \n",
       "1  [the, intern, electron, industri, compani, elc...   \n",
       "2  [with, the, new, product, plant, the, compani,...   \n",
       "3  [accord, to, the, compani, s, updat, strategi,...   \n",
       "4  [financ, of, aspocomp, s, growth, aspocomp, is...   \n",
       "\n",
       "                                     lemmatized_Text  \n",
       "0  ['technopolis', 'plan', 'to', 'develop', 'in',...  \n",
       "1  ['the', 'international', 'electronic', 'indust...  \n",
       "2  ['with', 'the', 'new', 'production', 'plant', ...  \n",
       "3  ['accord', 'to', 'the', 'company', 's', 'updat...  \n",
       "4  ['financing', 'of', 'aspocomp', 's', 'growth',...  "
      ]
     },
     "execution_count": 61,
     "metadata": {},
     "output_type": "execute_result"
    }
   ],
   "source": [
    "df_token.head()"
   ]
  },
  {
   "cell_type": "code",
   "execution_count": 62,
   "metadata": {},
   "outputs": [
    {
     "name": "stdout",
     "output_type": "stream",
     "text": [
      "{'technopolis': 4345, 'plan': 3000, 'to': 4445, 'develop': 1344, 'in': 2073, 'stage': 4117, 'an': 179, 'area': 276, 'of': 2779, 'no': 2723, 'less': 2375, 'than': 4388, 'square': 4100, 'meter': 2570, 'order': 2836, 'host': 2015, 'company': 938, 'work': 4946, 'computer': 979, 'technology': 4342, 'and': 186, 'telecommunication': 4359, 'the': 4391, 'statement': 4138, 'say': 3641, 'international': 2155, 'electronic': 1491, 'industry': 2101, 'elcoteq': 1484, 'have': 1946, 'laid': 2318, 'off': 2780, 'ten': 4370, 'employee': 1507, 'from': 1806, 'it': 2186, 'tallinn': 4321, 'facility': 1657, 'contrary': 1065, 'earlier': 1447, 'layoff': 2345, 'contract': 1063, 'rank': 3200, 'office': 2783, 'worker': 4948, 'daily': 1225, 'report': 3331, 'with': 4935, 'new': 2703, 'production': 3112, 'plant': 3002, 'would': 4965, 'increase': 2086, 'capacity': 635, 'meet': 2550, 'expect': 1620, 'demand': 1306, 'improve': 2070, 'use': 4654, 'raw': 3214, 'material': 2525, 'therefore': 4399, 'profitability': 3120, 'accord': 26, 'update': 4626, 'strategy': 4204, 'for': 1761, 'year': 4979, 'basware': 418, 'target': 4333, 'longterm': 2443, 'net': 2695, 'sale': 3573, 'growth': 1912, 'range': 3199, 'operating': 2819, 'profit': 3119, 'margin': 2506, 'financing': 1713, 'aspocomp': 327, 'be': 427, 'pursue': 3168, 'by': 583, 'increasingly': 2087, 'focus': 1755, 'on': 2800, 'technologically': 4341, 'more': 2637, 'print': 3092, 'circuit': 815, 'board': 498, 'pcbs': 2941, 'last': 2330, 'quarter': 3177, 'componenta': 968, 'double': 1419, 'eurm': 1582, 'same': 3587, 'period': 2960, 'while': 4903, 'move': 2651, 'pretax': 3082, 'loss': 2448, 'third': 4406, 'eur': 1580, 'mn': 2616, 'rise': 3438, 'correspond': 1108, 'represent': 3337, 'total': 4462, 'up': 4624, 'teliasonera': 4365, 'tlsn': 4442, 'offer': 2781, 'line': 2403, 'ownership': 2882, 'core': 1099, 'business': 570, 'holding': 2000, 'strengthen': 4212, 'eesti': 1469, 'offering': 2782, 'customer': 1204, 'stora': 4187, 'enso': 1531, 'norske': 2740, 'skog': 3935, 'mreal': 2653, 'upmkymmene': 4633, 'credit': 1159, 'suisse': 4252, 'first': 1727, 'cfsb': 739, 'raise': 3194, 'fair': 1662, 'value': 4704, 'share': 3802, 'four': 1785, 'large': 2324, 'nordic': 2736, 'forestry': 1768, 'group': 1908, 'purchase': 3165, 'agreement': 106, 'ton': 4453, 'gasoline': 1839, 'delivery': 1304, 'at': 347, 'hamina': 1927, 'terminal': 4376, 'finland': 1718, 'sign': 3863, 'neste': 2694, 'oil': 2790, 'oyj': 2885, 'average': 385, 'index': 2091, 'this': 4409, 'september': 3762, 'plus': 3018, 'eight': 1482, 'dollar': 1409, 'per': 2954, 'month': 2635, 'finnish': 1721, 'talentum': 4317, 'clothing': 862, 'retail': 3394, 'chain': 742, 'seppælæ': 3759, 'consolidated': 1027, 'reach': 3219, 'amount': 174, 'compare': 943, 'prior': 3094, 'foundry': 1784, 'division': 1398, 'machine': 2470, 'shop': 3837, 'helsinki': 1974, 'afx': 95, 'close': 855, 'high': 1980, 'lead': 2348, 'nokia': 2725, 'after': 91, 'announce': 202, 'team': 4338, 'sanyo': 3608, 'manufacture': 2496, 'handset': 1934, 'nokian': 2726, 'tyre': 4535, 'fourthquarter': 1787, 'earnings': 1450, 'analyst': 181, 'expectation': 1621, 'dealer': 1254, 'incap': 2077, 'manufacturing': 2498, 'service': 3770, 'pvt': 3171, 'ltd': 2460, 'subsidiary': 4241, 'corporation': 1104, 'revenue': 3411, 'director': 1370, 'will': 4921, 'propose': 3138, 'dividend': 1397, 'paid': 2893, 'lifetree': 2393, 'found': 1781, 'risen': 3439, 'late': 2332, 'investment': 2169, 'construction': 1035, 'park': 2908, 'st': 4107, 'petersburg': 2974, 'course': 1135, 'forum': 1779, 'day': 1245, 'russian': 3533, 'economy': 1464, 'that': 4390, 'open': 2815, 'today': 4447, 'megafon': 2552, 'subscriber': 4239, 'base': 413, 'million': 2600, 'user': 4655, 'december': 1264, 'market': 2513, 'number': 2764, 'estimate': 1571, 'income': 2083, 'life': 2391, 'insurance': 2133, 'nonlife': 2731, 'usd': 4652, 'surge': 4279, 'teleste': 4363, 'or': 2831, 'come': 911, 'acquisition': 42, 'make': 2483, 'nordea': 2735, 'percent': 2955, 'yearonyear': 4983, 'billion': 470, 'euro': 1583, 'ninemonth': 2721, 'threemonth': 4417, 'brazilian': 527, 'unit': 4600, 'security': 3713, 'solution': 4010, 'provider': 3152, 'fsecure': 1810, 'client': 847, 'online': 2810, 'news': 2707, 'source': 4030, 'reseller': 3350, 'web': 4879, 'quote': 3184, 'commercial': 919, 'vladimir': 4818, 'lithuanian': 2417, 'beer': 434, 'liter': 2414, 'january': 2196, 'yearearlier': 4981, 'figure': 1701, 'brewer': 528, 'association': 340, 'reporting': 3335, 'cite': 820, 'result': 3392, 'member': 2554, 'viking': 4788, 'cargo': 652, 'volume': 4835, 'property': 3135, 'portfolio': 3041, 'february': 1680, 'medium': 2547, 'sanoma': 3605, 'hel': 1969, 'saav': 3548, 'yesterday': 4984, 'almost': 137, 'triple': 4498, 'proposal': 3137, 'eps': 1549, 'over': 2873, 'aspo': 326, 'plc': 3013, 'stock': 4175, 'exchange': 1605, 'release': 3282, 'esl': 1564, 'shipping': 3830, 'part': 2913, 'rautaruukki': 3212, 'marine': 2508, 'transport': 4487, 'baltic': 402, 'sea': 3692, 'commission': 923, 'lending': 2370, 'traffic': 4479, 'measure': 2540, 'passenger': 2925, 'kilometre': 2277, 'rpk': 3504, 'go': 1876, 'available': 382, 'seat': 3699, 'ask': 317, 'januaryseptember': 2200, 'fiskars': 1733, 'nyrstar': 2768, 'also': 143, 'agree': 105, 'supply': 4273, 'talvivaara': 4323, 'tonne': 4454, 'sulphuric': 4255, 'acid': 36, 'annum': 209, 'process': 3104, 'during': 1440, 'zinc': 4996, 'concentrate': 982, 'both': 513, 'department': 1322, 'store': 4189, 'hobby': 1995, 'hall': 1925, 'seppala': 3756, 'decrease': 1275, 'other': 2855, 'export': 1636, 'due': 1437, 'grow': 1909, 'rate': 3207, 'operation': 2820, 'strengthens': 4213, 'our': 2860, 'partnership': 2921, 'siemens': 3860, 'network': 2697, 'biohit': 476, 'healthcare': 1957, 'ukbased': 4548, 'public': 3157, 'which': 4902, 'develops': 1348, 'liquid': 2408, 'handle': 1932, 'product': 3111, 'diagnostic': 1350, 'test': 4380, 'system': 4306, 'already': 142, 'carry': 664, 'out': 2861, 'when': 4898, 'they': 4403, 'book': 504, 'stood': 4184, 'bln': 488, 'pct': 2942, 'mln': 2613, 'paper': 2902, 'all': 128, 'main': 2476, 'include': 2080, 'publication': 3158, 'price': 3085, 'world': 4954, 'second': 3703, 'stainless': 4119, 'steel': 4157, 'maker': 2484, 'until': 4620, 'dec': 1261, 'previous': 3083, 'within': 4936, 'framework': 1790, 'initial': 2110, 'sitronics': 3910, 'jsc': 2224, 'manufacturer': 2497, 'exporter': 1637, 'component': 967, 'russia': 3532, 'down': 1422, 'abroad': 15, 'country': 1131, 'well': 4889, 'ukraine': 4551, 'standard': 4126, 'charter': 761, 'stan': 4123, 'ftse': 1812, 'royal': 3502, 'bank': 407, 'scotland': 3681, 'rb': 3215, 'barclays': 411, 'barc': 410, 'bcs': 426, 'corp': 1102, 'thursday': 4422, 'cell': 707, 'phone': 2981, 'thirdquarter': 4408, 'global': 1871, 'financial': 1710, 'publish': 3159, 'friday': 1802, 'seb': 3701, 'soar': 3988, 'sek': 3727, 'bn': 495, 'meanwhile': 2539, 'request': 3344, 'alma': 136, 'newspaper': 2708, 'research': 3349, 'manager': 2491, 'jari': 2203, 'future': 1830, 'centre': 723, 'turku': 4517, 'school': 3666, 'scenario': 3657, 'national': 2677, 'model': 2622, 'developed': 1345, 'university': 4605, 'denver': 1318, 'sweden': 4295, 'gallerix': 1832, 'accumulate': 32, 'denominate': 1316, 'support': 4274, 'fast': 1669, 'route': 3499, 'development': 1347, 'application': 247, 'place': 2999, 'atrium': 350, 'expand': 1617, 'into': 2160, 'moscow': 2643, 'continuation': 1058, 'lemminkainen': 2367, 'whereby': 4900, 'cramo': 1149, 'acquire': 39, 'entire': 1537, 'fleet': 1745, 'talo': 4322, 'oy': 2884, 'asimilar': 316, 'manage': 2489, 'envisage': 1547, 'three': 4416, 'option': 2829, 'two': 4529, 'far': 1667, 'confirm': 1003, 'june': 2235, 'sell': 3734, 'stake': 4120, 'nordstjernan': 2737, 'now': 2759, 'take': 4315, 'eqt': 1550, 'remain': 3289, 'kesko': 2270, 'acquires': 41, 'capital': 637, 'kaukotelko': 2256, 'wholly': 4911, 'own': 2880, 'sponda': 4085, 'syndicate': 4303, 'oneyear': 2808, 'announcement': 203, 'july': 2231, 'subscription': 4240, 'warrant': 4858, 'subscribed': 4238, 'program': 3122, 'cover': 1140, 'platform': 3007, 'ac': 16, 'cxe': 1215, 'optical': 2827, 'design': 1332, 'forward': 1780, 'return': 3405, 'transmission': 4486, 'electricity': 1489, 'generation': 1848, 'megawatt': 2553, 'mw': 2667, 'heat': 1961, 'omx': 2798, 'cap': 631, 'so': 3986, 'car': 645, 'considerably': 1019, 'tire': 4439, 'maximum': 2533, 'can': 619, 'exercise': 1613, 'under': 4573, 'issue': 2185, 'real': 3225, 'estate': 1570, 'investor': 2170, 'wednesday': 4883, 'march': 2504, 'danske': 1233, 'branch': 522, 'ilmarinen': 2058, 'mutual': 2666, 'pension': 2952, 'between': 460, 'estonia': 1573, 'fell': 1688, 'synergy': 4304, 'scale': 3647, 'grimaldi': 1903, 'personnel': 2969, 'adjustment': 66, 'excess': 1604, 'rinkuskiai': 3436, 'kauno': 2259, 'alus': 156, 'april': 259, 'tj': 4441, 'morning': 2640, 'digital': 1362, 'series': 3767, 'become': 430, 'subject': 4235, 'trading': 4476, 'list': 2411, 'together': 4448, 'old': 2794, 'fuel': 1814, 'november': 2758, 'tiimari': 4428, 'operates': 2818, 'six': 3913, 'generate': 1846, 'turnover': 4521, 'becomes': 431, 'supplier': 4272, 'pipettors': 2994, 'disposable': 1382, 'tip': 4438, 'vwr': 4846, 'throughout': 4420, 'europe': 1586, 'combination': 909, 'enable': 1513, 'complex': 963, 'not': 2749, 'only': 2811, 'limited': 2401, 'port': 3038, 'connection': 1009, 'but': 576, 'get': 1860, 'access': 19, 'wide': 4916, 'mediterranean': 2546, 'africa': 89, 'north': 2742, 'america': 167, 'uwe': 4677, 'vantage': 4712, 'point': 3025, 'allows': 134, 'investigator': 2168, 'see': 3715, 'whole': 4908, 'story': 4193, 'resolution': 3364, 'unbroken': 4564, 'video': 4777, 'still': 4173, 'slightly': 3950, 'level': 2378, 'add': 58, 'too': 4455, 'poor': 3033, 'forecast': 1763, 'current': 1197, 'kemira': 2267, 'position': 3045, 'metal': 2567, 'coating': 875, 'finnlines': 1723, 'adjust': 65, 'change': 751, 'structure': 4227, 'operational': 2821, 'efficiency': 1474, 'marketing': 2514, 'communication': 933, 'invest': 2166, 'physical': 2983, 'infrastructure': 2107, 'provide': 3151, 'knowhow': 2285, 'science': 3673, 'sunrise': 4261, 'valley': 4700, 'andrius': 192, 'broadband': 540, 'data': 1238, 'tltv': 4443, 'saw': 3638, 'aktia': 120, '_land': 0, 'vaahto': 4680, 'accounting': 31, 'food': 1758, 'lænnen': 2468, 'tehtaat': 4350, 'continue': 1059, 'individual': 2096, 'promotion': 3134, 'many': 2499, 'genesis': 1850, 'respectively': 3372, 'circulation': 817, 'annually': 207, 'swedish': 4296, 'experience': 1625, 'annual': 205, 'however': 2023, 'favourable': 1675, 'trend': 4494, 'cash': 670, 'flow': 1752, 'activity': 51, 'lithuania': 2416, 'fourth': 1786, 'kalmar': 2246, 'some': 4015, 'xac': 4973, 'charger': 757, 'deliver': 1302, 'piece': 2986, 'note': 2751, 'decline': 1271, 'though': 4413, 'mobile': 2619, 'yearago': 4980, 'ramirent': 3198, 'about': 12, 'ruukki': 3535, 'aker': 119, 'norway': 2747, 'anchor': 185, 'show': 3849, 'comparable': 941, 'ceo': 725, 'sakari': 3568, 'magazine': 2473, 'overall': 2874, 'weekly': 4885, 'basis': 415, 'cent': 716, 'end': 1517, 'ago': 104, 'best': 455, 'major': 2481, 'brewery': 529, 'their': 4392, 'domestic': 1410, 'litre': 2418, 'transaction': 4484, 'workforse': 4951, 'rental': 3311, 'latvian': 2339, 'priority': 3095, 'balance': 400, 'sheet': 3814, 'hannu': 1935, 'yit': 4987, 'building': 553, 'october': 2777, 'fishing': 1732, 'tackle': 4309, 'rapala': 3203, 'vmc': 4820, 'rapv': 3206, 'nine': 2720, 'bim': 471, 'information': 2105, 'software': 3998, 'tekla': 4351, 'adopt': 70, 'management': 2490, 'project': 3127, 'metso': 2578, 'mineral': 2602, 'aldata': 123, 'gold': 1878, 'french': 1799, 'forest': 1766, 'machinery': 2471, 'ponsse': 3032, 'kci': 2264, 'konecranes': 2288, 'okmetic': 2791, 'silicon': 3874, 'wafer': 4847, 'semiconductor': 3737, 'sensor': 3745, 'norwegian': 2748, 'solar': 4002, 'norsun': 2741, 'crystal': 1177, 'pharmaceutical': 2976, 'orion': 2846, 'distribution': 1389, 'harvester': 1944, 'head': 1950, 'south': 4031, 'african': 90, 'sappi': 3610, 'foreign': 1764, 'graphic': 1897, 'deputy': 1329, 'md': 2535, 'pekka': 2948, 'silvennoinen': 3877, 'aim': 112, 'next': 2713, 'hkscan': 1993, 'jærvisuomen': 2241, 'portti': 3043, 'advertising': 78, 'takeover': 4316, 'again': 97, 'most': 2644, 'significant': 3867, 'previously': 3084, 'lemminkæinen': 2368, 'time': 4435, 'aviation': 387, 'maintenance': 2480, 'kansa': 2250, 'besides': 454, 'we': 4873, 'meat': 2542, 'various': 4717, 'sausage': 3631, 'shish': 3832, 'segment': 3719, 'sixmonth': 3915, 'approximately': 257, 'digia': 1360, 'januaryjune': 2198, 'dilute': 1363, 'versus': 4761, 'ebit': 1458, 'editor': 1466, 'ansa': 214, 'may': 2534, 'equity': 1554, 'ratio': 3209, 'frozen': 1809, 'textile': 4385, 'marimekko': 2507, 'mmov': 2615, 'finlandbased': 1719, 'se': 3691, 'privately': 3098, 'held': 1971, 'electronics': 1492, 'deal': 1253, 'equipment': 1553, 'andrew': 190, 'cutlery': 1208, 'hand': 1929, 'tool': 4456, 'abp': 14, 'fisa': 1729, 'stockmann': 4179, 'lift': 2394, 'half': 1924, 'message': 2565, 'developer': 1346, 'tecnomen': 4346, 'receive': 3233, 'expansion': 1619, 'convergent': 1075, 'charge': 756, 'latin': 2334, 'outotec': 2867, 'accessory': 21, 'privacy': 3096, 'stonesoft': 4183, 'preliminary': 3066, 'stonegate': 4182, 'okmv': 2792, 'august': 363, 'do': 1402, 'underlie': 4576, 'follow': 1757, 'presence': 3075, 'serve': 3768, 'operator': 2823, 'fix': 1739, 'installation': 2127, 'wholesale': 4909, 'grown': 1911, 'apriljune': 260, 'ragutis': 3191, 'control': 1069, 'svyturysutenos': 4293, 'beverage': 461, 'hold': 1998, 'bbh': 424, 'post': 3050, 'contempus': 1051, 'nok': 2724, 'approx': 256, 'addition': 59, 'kone': 2287, 'twoyear': 4531, 'escalator': 1563, 'alone': 139, 'interest': 2149, 'review': 3412, 'currency': 1196, 'indian': 2093, 'widen': 4917, 'agro': 108, 'retailer': 3395, 'wholesaler': 4910, 'grain': 1893, 'agricultural': 107, 'warehouse': 4855, 'import': 2066, 'retailing': 3396, 'adp': 71, 'feb': 1679, 'ixonos': 2193, 'affecto': 86, 'afev': 81, 'nov': 2755, 'measurement': 2541, 'vaisala': 4692, 'vaias': 4691, 'oct': 2776, 'kcrv': 2265, 'procurement': 3108, 'protein': 3146, 'animal': 197, 'fat': 1671, 'biodiesel': 473, 'refinery': 3256, 'vegetable': 4737, 'multimedia': 2656, 'kauppalehti': 2260, 'marketplace': 2515, 'intake': 2135, 'respective': 3371, 'julyseptember': 2232, 'press': 3080, 'install': 2126, 'bridge': 531, 'kyronsalmi': 2308, 'strait': 4199, 'savonlinna': 3637, 'guide': 1919, 'device': 1349, 'satama': 3620, 'section': 3710, 'regional': 3264, 'finnair': 1720, 'asian': 313, 'kilometer': 2276, 'expands': 1618, 'scope': 3677, 'least': 2355, 'one': 2802, 'fifth': 1700, 'full': 1818, 'tanker': 4327, 'dwt': 1444, 'outlook': 2865, 'government': 1887, 'chemical': 772, 'fertilizer': 1691, 'send': 3741, 'firm': 1726, 'german': 1858, 'code': 882, 'another': 212, 'oneworld': 2807, 'american': 168, 'airline': 117, 'inc': 2076, 'usbased': 4651, 'amr': 176, 'nyse': 2769, 'helsinkibased': 1975, 'salomon': 3578, 'atomic': 349, 'brand': 523, 'through': 4419, 'register': 3266, 'trade': 4474, 'bring': 534, 'twoday': 4530, 'gbx': 1841, 'tuesday': 4508, 'region': 3263, 'eastern': 1452, 'there': 4397, 'recovery': 3242, 'china': 784, 'representation': 3338, 'extends': 1643, 'comptel': 977, 'worldwide': 4957, 'tietoenator': 4426, 'itself': 2191, 'us': 4648, 'intellisync': 2141, 'suite': 4254, 'wireless': 4932, 'email': 1501, 'calendar': 603, 'capability': 632, 'extend': 1641, 'these': 4401, 'vacon': 4687, 'drive': 1429, 'ruselprom': 3529, 'power': 3056, 'kw': 2305, 'exist': 1615, 'cybercom': 1217, 'cto': 1181, 'via': 4767, 'satlan': 3626, 'partner': 2920, 'cable': 589, 'central': 719, 'extension': 1644, 'engine': 1524, 'produce': 3109, 'european': 1587, 'strongly': 4225, 'firstquarter': 1728, 'since': 3894, 'rosen': 3485, 'good': 1881, 'president': 3079, 'heikki': 1968, 'relatively': 3281, 'few': 1693, 'larox': 2326, 'filter': 1705, 'nickel': 2716, 'mine': 2601, 'sotkamo': 4027, 'objective': 2771, 'elisa': 1497, 'mainly': 2477, 'because': 429, 'socalled': 3989, 'ahead': 109, 'panostaja': 2901, 'fiscal': 1730, 'geosentric': 1855, 'geosolutions': 1856, 'gypsii': 1922, 'social': 3990, 'networking': 2698, 'outokumpu': 2866, 'erdenet': 1557, 'mining': 2603, 'engineering': 1526, 'built': 554, 'site': 3908, 'proportion': 3136, 'stand': 4124, 'stone': 4181, 'realize': 3226, 'effect': 1471, 'litas': 2413, 'vacv': 4689, 'set': 3772, 'representative': 3339, 'romania': 3474, 'southeastern': 4035, 'fullyear': 1820, 'affected': 85, 'nevertheless': 2701, 'distributor': 1390, 'longstanding': 2442, 'strong': 4224, 'olvi': 2797, 'le': 2347, 'coq': 1098, 'soft': 3996, 'drink': 1428, 'water': 4866, 'cider': 809, 'long': 2440, 'energy': 1521, 'recycle': 3245, 'employ': 1506, 'percentage': 2956, 'quarteronquarter': 3179, 'veidekke': 4741, 'packaging': 2890, 'czech': 1221, 'republic': 3341, 'slovakia': 3957, 'airbus': 115, 'aircraft': 116, 'variant': 4715, 'rollsroyce': 3472, 'call': 610, 'smelter': 3969, 'copper': 1094, 'continued': 1060, 'schedule': 3661, 'just': 2237, 'nearly': 2685, 'flight': 1749, 'poland': 3026, 'disposal': 1383, 'autotank': 379, 'comment': 917, 'nyberg': 2767, 'economic': 1463, 'bssoss': 545, 'va': 4679, 'telecom': 4356, 'tecnotree': 4347, 'worth': 4964, 'without': 4937, 'specify': 4066, 'start': 4131, 'state': 4133, 'telemig': 4360, 'celular': 712, 'begin': 436, 'prepaid': 3070, 'tailor': 4311, 'shortrun': 3845, 'town': 4470, 'riihimæki': 3430, 'lease': 2354, 'occupy': 2774, 'travel': 4489, 'upgrade': 4628, 'intend': 2142, 'mhz': 2584, 'several': 3785, 'city': 823, 'television': 4364, 'notice': 2752, 'skandinaviska': 3925, 'ab': 5, 'publ': 3156, 'divest': 1394, 'ilkkayhtyma': 2057, 'kaleva': 2243, 'kustannus': 2304, 'condition': 992, 'fulfil': 1816, 'enter': 1533, 'aggregate': 102, 'automate': 374, 'pipette': 2993, 'efore': 1478, 'reijo': 3271, 'chinese': 785, 'sector': 3711, 'she': 3812, 'co': 868, 'picked': 2985, 'bofa': 502, 'merrill': 2563, 'lynch': 2467, 'jpmorgan': 2223, 'jpm': 2222, 'joint': 2212, 'convertible': 1080, 'usdm': 4653, 'turn': 4518, 'should': 3848, 'what': 4897, 'sto': 4174, 'nda': 2683, 'pohjola': 3022, 'pohs': 3024, 'sampo': 3589, 'samas': 3586, 'svenska': 4289, 'handelsbanken': 1930, 'shb': 3810, 'could': 1124, 'scandic': 3650, 'feed': 1684, 'diversify': 1393, 'separately': 3754, 'austrian': 366, 'ag': 96, 'week': 4884, 'germany': 1859, 'austria': 365, 'hungary': 2031, 'recent': 3234, 'residential': 3357, 'headquarter': 1954, 'meteorology': 2569, 'environmental': 1545, 'mall': 2486, 'pearl': 2945, 'where': 4899, 'cjsc': 826, 'shanghai': 3800, 'home': 2004, 'people': 2953, 'know': 2284, 'pulkovo': 3162, 'introduce': 2161, 'entirely': 1538, 'concept': 984, 'create': 1154, 'commerciallyfunded': 921, 'thereby': 4398, 'mostly': 2645, 'apparent': 237, 'fund': 1825, 'wartsila': 4860, 'decide': 1265, 'cathode': 688, 'complete': 959, 'name': 2672, 'shareholder': 3803, 'otto': 2858, 'henrik': 1976, 'bernhard': 452, 'transfer': 4485, 'corresponds': 1110, 'processing': 3106, 'collect': 898, 'calculates': 602, 'rvr': 3540, 'interface': 2151, 'link': 2404, 'scamming': 3648, 'promising': 3132, 'earn': 1449, 'thousand': 4414, 'google': 1884, 'nasdaq': 2674, 'advertiser': 77, 'alexandria': 126, 'pertti': 2971, 'salmi': 3574, 'oulu': 2859, 'sami': 3588, 'viitasaari': 4786, 'ii': 2053, 'ornamental': 2847, 'patent': 2928, 'trademark': 4475, 'juha': 2227, 'salokannel': 3577, 'arto': 301, 'viiala': 4782, 'vsevolozhsk': 4843, 'leningrad': 2373, 'family': 1665, 'ml': 2612, 'capman': 641, 'alternative': 144, 'asset': 333, 'vehicle': 4738, 'bought': 517, 'sevenstory': 3780, 'underwent': 4585, 'refurbishment': 3260, 'relative': 3280, 'later': 2333, 'kazakhstan': 2263, 'ordabasy': 2835, 'build': 551, 'astana': 344, 'chairman': 743, 'conference': 997, 'affectogenimap': 87, 'intellibis': 2139, 'debtfree': 1259, 'heatretaining': 1963, 'fireplace': 1725, 'tulikivi': 4509, 'local': 2430, 'stove': 4194, 'utility': 4670, 'ceramic': 726, 'kermansavi': 2269, 'merge': 2561, 'mean': 2538, 'streamline': 4208, 'corporate': 1103, 'refinance': 3255, 'furthermore': 1829, 'bunge': 562, 'licensing': 2386, 'carlshamn': 655, 'commerzbank': 922, 'jp': 2221, 'morgan': 2639, 'participate': 2916, 'arranger': 291, 'dutch': 1441, 'ing': 2108, 'am': 158, 'coarranger': 871, 'separate': 3753, 'parent': 2906, 'fortum': 1778, 'raisio': 3195, 'stretch': 4215, 'way': 4871, 'vladivostok': 4819, 'buy': 578, 'danish': 1231, 'poultry': 3053, 'right': 3426, 'grant': 1895, 'planning': 3001, 'harbor': 1939, 'chief': 779, 'executive': 1610, 'lundmark': 2463, 'told': 4449, 'outside': 2870, 'telko': 4366, 'strategic': 4202, 'bp': 520, 'industrial': 2099, 'italian': 2187, 'agency': 99, 'enables': 1514, 'account': 29, 'gradually': 1892, 'udlejning': 4540, 'locate': 2432, 'west': 4892, 'repurchase': 3343, 'behalf': 437, 'solidium': 4007, 'tikkurila': 4431, 'parkano': 2909, 'run': 3525, 'factory': 1660, 'southern': 4036, 'switch': 4299, 'converter': 1079, 'whilst': 4904, 'opening': 2816, 'location': 2433, 'owner': 2881, 'sun': 4260, 'kai': 2242, 'hong': 2007, 'kong': 2289, 'type': 4533, 'premium': 3069, 'finalize': 1708, 'negotiation': 2691, 'letter': 2377, 'intent': 2144, 'seal': 3694, 'actual': 53, 'ky': 2306, 'window': 4927, 'forssa': 1777, 'commit': 925, 'apollo': 233, 'five': 1737, 'training': 4483, 'startup': 4132, 'uranium': 4641, 'benefon': 450, 'navigation': 2680, 'omxn': 2799, 'comprise': 975, 'rd': 3217, 'turnkey': 4520, 'stakeholder': 4121, 'term': 4375, 'offtake': 2788, 'cameco': 613, 'upfront': 4627, 'cost': 1116, 'extraction': 1649, 'oxygen': 2883, 'sick': 3857, 'gmbh': 1874, 'beijing': 439, 'konglisted': 2290, 'small': 3963, 'enterprise': 1534, 'summary': 4257, 'medical': 2545, 'pipeline': 2992, 'talk': 4319, 'those': 4412, 'involve': 2174, 'whether': 4901, 'upcoming': 4625, 'lidskoe': 2387, 'pivo': 2997, 'foresees': 1765, 'integrate': 2136, 'modernization': 2625, 'logistics': 2438, 'instrument': 2132, 'residentialconstruction': 3358, 'particular': 2917, 'djsi': 1399, 'stoxx': 4195, 'goal': 1877, 'chosen': 796, 'ahlstrom': 110, 'latvijas': 2340, 'finieris': 1716, 'green': 1901, 'veneer': 4749, 'mill': 2599, 'ukmerge': 4549, 'house': 2019, 'onefamily': 2803, 'voting': 4840, 'aspect': 323, 'define': 1285, 'microsoft': 2588, 'detail': 1337, 'initiative': 2113, 'date': 1242, 'fire': 1724, 'door': 1414, 'vista': 4812, 'calif': 606, 'elevator': 1495, 'output': 2869, 'crore': 1167, 'space': 4044, 'hospital': 2014, 'laboratory': 2314, 'significantly': 3868, 'uptodate': 4640, 'contact': 1047, 'colleague': 897, 'directly': 1369, 'cargotec': 653, 'turkish': 4516, 'doktas': 1407, 'dokumculuk': 1408, 've': 4733, 'sanayi': 3594, 'raivv': 3196, 'wrap': 4966, 'divestment': 1395, 'margarine': 2505, 'player': 3011, 'bg': 463, 'monday': 2631, 'companyeur': 939, 'tm': 4444, 'romanian': 3475, 'delivers': 1303, 'different': 1358, 'address': 62, 'storengy': 4190, 'storage': 4188, 'engineer': 1525, 'adpnews': 72, 'jun': 2234, 'threeyear': 4418, 'revolve': 3414, 'silva': 3876, 'garden': 1836, 'boat': 499, 'mr': 2652, 'ashley': 310, 'sport': 4088, 'direct': 1368, 'pc': 2939, 'pound': 3054, 'float': 1750, 'challenge': 745, 'formation': 1774, 'halt': 1926, 'foundation': 1782, 'establish': 1568, 'sysopen': 4305, 'sentera': 3747, 'vote': 4839, 'suomen': 4262, 'helasto': 1970, 'uusimaki': 4673, 'wig': 4920, 'session': 3771, 'pt': 3155, 'bluechip': 493, 'generates': 1847, 'currently': 1198, 'onwards': 2813, 'spend': 4071, 'proceeds': 3103, 'decision': 1266, 'lenenergo': 2371, 'grid': 1902, 'container': 1049, 'bay': 423, 'coast': 872, 'floor': 1751, 'consists': 1025, 'functionality': 1824, 'repayment': 3322, 'debenture': 1257, 'bond': 503, 'related': 3276, 'commitment': 926, 'holder': 1999, 'subordinate': 4236, 'sq': 4099, 'powder': 3055, 'paint': 2895, 'district': 1391, 'judge': 2225, 'douglas': 1420, 'jan': 2195, 'temporary': 4369, 'restrain': 3387, 'uk': 4547, 'sarantel': 3611, 'outsource': 2871, 'london': 2439, 'bns': 497, 'british': 538, 'antenna': 216, 'assembly': 330, 'estonian': 1574, 'street': 4209, 'underground': 4575, 'tunnel': 4512, 'cross': 1168, 'implementation': 2065, 'launch': 2341, 'winner': 4928, 'tgk': 4386, 'vnh': 4821, 'struggle': 4228, 'face': 1656, 'slow': 3959, 'truck': 4501, 'suv': 4287, 'impact': 2063, 'fall': 1663, 'hit': 1991, 'expenditure': 1622, 'crisis': 1162, 'significance': 3866, 'size': 3921, 'rapid': 3204, 'tv': 4523, 'view': 4780, 'attractive': 356, 'union': 4597, 'normal': 2738, 'spokesman': 4081, 'usko': 4659, 'motorcyclist': 2647, 'safety': 3558, 'back': 394, 'kalnapiliotauro': 2247, 'grupe': 1913, 'kalnapilistauras': 2248, 'denmark': 1315, 'unibrew': 4589, 'seven': 3778, 'jumped': 2233, 'license': 2385, 'popular': 3034, 'pattern': 2933, 'hm': 1994, 'staff': 4115, 'recruit': 3243, 'japan': 2201, 'complement': 958, 'capacitor': 634, 'reliability': 3284, 'arm': 283, 'producer': 3110, 'contribution': 1068, 'stx': 4232, 'environmentally': 1546, 'friendly': 1804, 'cruise': 1174, 'ferry': 1690, 'stockholm': 4176, 'clearly': 842, 'positive': 3046, 'tower': 4469, 'chose': 795, 'summer': 4258, 'page': 2892, 'ability': 8, 'side': 3858, 'uponor': 4636, 'record': 3240, 'invoice': 2173, 'automation': 376, 'connectivity': 1010, 'cooperation': 1088, 'metallurgical': 2568, 'surround': 4281, 'lemcon': 2366, 'kaluga': 2249, 'administration': 68, 'favourably': 1676, 'middle': 2590, 'east': 1451, 'asia': 312, 'pacific': 2887, 'involves': 2175, 'certain': 730, 'documentation': 1405, 'function': 1823, 'etteplan': 1577, 'appointment': 250, 'kaupthing': 2261, 'coordinate': 1091, 'cencorp': 715, 'virkkala': 4799, 'enhance': 1528, 'productivity': 3115, 'huhtamaki': 2027, 'outstanding': 2872, 'papua': 2904, 'lihir': 2397, 'funding': 1826, 'biotie': 479, 'sole': 4003, 'authority': 370, 'compound': 971, 'mature': 2529, 'novator': 2756, 'shareholding': 3804, 'amer': 166, 'exceed': 1601, 'prove': 3149, 'rod': 3464, 'english': 1527, 'climber': 852, 'climbed': 851, 'mount': 2649, 'everest': 1594, 'summit': 4259, 'successfully': 4248, 'campaign': 615, 'trial': 4496, 'demonstration': 1312, 'lte': 2461, 'commercially': 920, 'viable': 4768, 'specialty': 4063, 'carolina': 657, 'ssh': 4105, 'please': 3014, 'tel': 4353, 'eurbn': 1581, 'consensus': 1014, 'asx': 346, 'extensive': 1645, 'cooperationand': 1089, 'tie': 4424, 'give': 1866, 'status': 4145, 'verizon': 4758, 'along': 140, 'succeed': 4245, 'apartment': 230, 'kari': 2251, 'kauniskangas': 2258, 'able': 9, 'quality': 3176, 'restaurant': 3385, 'christopher': 801, 'john': 2210, 'suominen': 4264, 'specialises': 4057, 'wet': 4896, 'wipe': 4930, 'nonwovens': 2733, 'flexible': 1747, 'won': 4939, 'brasil': 525, 'trust': 4503, 'accelerate': 18, 'otev': 2854, 'phosphate': 2982, 'concentrator': 983, 'siilinjarvi': 3873, 'priit': 3087, 'wish': 4934, 'valmet': 4701, 'couple': 1133, 'entity': 1542, 'presently': 3078, 'potential': 3052, 'robust': 3459, 'inclusion': 2081, 'lindex': 2402, 'truly': 4502, 'height': 1967, 'hope': 2013, 'freight': 1798, 'scandinavia': 3651, 'approve': 255, 'quarterly': 3178, 'award': 388, 'rubbertyred': 3514, 'gantry': 1835, 'rtg': 3509, 'crane': 1150, 'saigon': 3563, 'snp': 3985, 'vietnam': 4779, 'cheer': 769, 'push': 3169, 'afternoon': 93, 'healthy': 1958, 'consumercustomers': 1045, 'upgraded': 4629, 'abn': 11, 'amro': 177, 'marketwatch': 2516, 'fiveyear': 1738, 'india': 2092, 'progress': 3123, 'qpr': 3173, 'saudi': 3628, 'arabia': 266, 'relationship': 3279, 'achieve': 34, 'ft': 1811, 'copenhagen': 1093, 'premier': 3067, 'shopping': 3840, 'inaugurate': 2075, 'gain': 1831, 'peab': 2944, 'exclusive': 1608, 'establishes': 1569, 'above': 13, 'weight': 4886, 'shipment': 3828, 'regionally': 3265, 'unique': 4599, 'common': 930, 'mastercard': 2522, 'card': 647, 'payment': 2937, 'spread': 4093, 'variety': 4716, 'organization': 2839, 'selects': 3732, 'party': 2923, 'leader': 2349, 'bestinclass': 456, 'visibility': 4808, 'transportation': 4488, 'speed': 4070, 'publisher': 3160, 'much': 2655, 'colourful': 906, 'feedback': 1685, 'rpm': 3505, 'userexperience': 4658, 'costefficiency': 1120, 'tulonen': 4510, 'cdp': 699, 'institutional': 2131, 'original': 2843, 'japanese': 2202, 'he': 1949, 'rich': 3422, 'leadership': 2350, 'smartphone': 3966, 'completes': 961, 'consultancy': 1041, 'trainer': 4482, 'trhv': 4495, 'resolve': 3365, 'hybrid': 2033, 'bid': 465, 'hampshire': 1928, 'great': 1900, 'britain': 537, 'repair': 3320, 'money': 2632, 'spent': 4073, 'competitiveness': 955, 'sphere': 4074, 'sawmill': 3639, 'wood': 4941, 'improves': 2072, 'glass': 1867, 'consistency': 1023, 'throughput': 4421, 'reason': 3229, 'behind': 438, 'rent': 3309, 'successful': 4247, 'especially': 1565, 'aftersales': 94, 'look': 2444, 'help': 1972, 'western': 4894, 'collection': 899, 'combine': 910, 'single': 3898, 'reduce': 3249, 'deployment': 1326, 'narrow': 2673, 'cthv': 1180, 'biobv': 472, 'fiber': 1695, 'plastic': 3004, 'ameas': 163, 'rtrks': 3511, 'proha': 3124, 'artv': 302, 'reorganisation': 3315, 'contrast': 1066, 'raute': 3213, 'pcb': 2940, 'acgv': 33, 'metsaliitto': 2577, 'mo': 2618, 'hardware': 1941, 'elektrobit': 1493, 'ebgv': 1457, 'eb': 1456, 'umts': 4559, 'station': 4141, 'softwarebased': 3999, 'feature': 1678, 'seppænen': 3760, 'low': 2453, 'frequency': 1800, 'ropax': 3479, 'vessel': 4765, 'present': 3076, 'job': 2209, 'reduction': 3250, 'structural': 4226, 'provision': 3153, 'lure': 2464, 'ireland': 2178, 'closely': 857, 'agent': 101, 'consumption': 1046, 'gas': 1838, 'emission': 1504, 'slip': 3951, 'largerthanexpected': 2325, 'before': 435, 'tax': 4336, 'sdav': 3688, 'jul': 2230, 'legal': 2360, 'rule': 3522, 'document': 1404, 'technological': 4340, 'rettig': 3404, 'recently': 3235, 'saving': 3635, 'expense': 1623, 'rotterdam': 3492, 'netherlands': 2696, 'contractor': 1064, 'ecb': 1461, 'anticipate': 218, 'benchmark': 447, 'early': 1448, 'apr': 258, 'solteq': 4009, 'stqv': 4196, 'salonen': 3579, 'pulp': 3163, 'inventory': 2165, 'brought': 543, 'kroon': 2302, 'anticipates': 219, 'sehk': 3721, 'chl': 789, 'carrier': 660, 'promote': 3133, 'game': 1834, 'upm': 4632, 'jussi': 2236, 'pesonen': 2972, 'whose': 4914, 'wilson': 4923, 'cut': 1207, 'glaston': 1868, 'reflect': 3258, 'internationally': 2156, 'explains': 1631, 'kyro': 2307, 'mika': 2595, 'seitovirta': 3726, 'ict': 2042, 'extraordinary': 1650, 'meeting': 2551, 'tallink': 4320, 'carriage': 659, 'sadam': 3555, 'against': 98, 'waste': 4862, 'drag': 1426, 'loan': 2429, 'finance': 1709, 'such': 4249, 'center': 717, 'debt': 1258, 'ore': 2837, 'streak': 4206, 'nonrecurring': 2732, 'item': 2189, 'th': 4387, 'additional': 60, 'hour': 2018, 'hightech': 1984, 'expertise': 1627, 'innovative': 2119, 'extremely': 1651, 'efficient': 1475, 'id': 2043, 'born': 510, 'stationery': 4142, 'gift': 1865, 'tiiv': 4429, 'driven': 1430, 'weak': 4874, 'cet': 735, 'lose': 2447, 'past': 2926, 'example': 1600, 'ebitda': 1459, 'negative': 2689, 'drop': 1432, 'force': 1762, 'axe': 392, 'rapidly': 3205, 'pay': 2935, 'majority': 2482, 'moment': 2630, 'valio': 4697, 'worried': 4961, 'if': 2051, 'ban': 404, 'quite': 3183, 'problem': 3100, 'satisfied': 3624, 'repeat': 3324, 'faster': 1670, 'rentakran': 3310, 'brings': 535, 'territory': 4379, 'jarmo': 2204, 'laasanen': 2310, 'senior': 3743, 'patja': 2930, 'decade': 1262, 'fujitsu': 1815, 'competitive': 954, 'latvia': 2338, 'history': 1990, 'velimatti': 4745, 'very': 4763, 'professional': 3117, 'approach': 252, 'assess': 331, 'put': 3170, 'shape': 3801, 'natural': 2679, 'leverage': 2379, 'northern': 2743, 'matti': 2528, 'rihko': 3429, 'win': 4925, 'wimax': 4924, 'portion': 3042, 'dispute': 1384, 'signing': 3870, 'bypass': 586, 'arehu': 277, 'jouko': 2218, 'lahtinen': 2317, 'stabilise': 4109, 'karppinen': 2252, 'performance': 2959, 'action': 45, 'annualised': 206, 'permanent': 2961, 'around': 287, 'boost': 506, 'nevsky': 2702, 'gps': 1890, 'twig': 4527, 'satellite': 3621, 'voice': 4825, 'guidance': 1918, 'deep': 1279, 'asm': 319, 'californiabased': 609, 'fitness': 1736, 'spark': 4049, 'softball': 3997, 'personal': 2968, 'care': 650, 'poyry': 3059, 'advise': 79, 'builder': 552, 'cogeneration': 886, 'secondbiggest': 3705, 'kaunas': 2257, 'construct': 1034, 'tapiola': 4332, 'yard': 4978, 'customise': 1205, 'ship': 3825, 'remainder': 3290, 'rough': 3493, 'handler': 1933, 'rtch': 3508, 'mediation': 2544, 'highly': 1982, 'recognize': 3238, 'standardise': 4127, 'met': 2566, 'reception': 3236, 'among': 173, 'secondlargest': 3707, 'glisten': 1870, 'snack': 3978, 'appreciation': 251, 'maintains': 2479, 'assumption': 342, 'improvement': 2071, 'chrome': 802, 'resource': 3367, 'turkey': 4515, 'steady': 4153, 'benefit': 449, 'organic': 2838, 'possibly': 3049, 'supplement': 4271, 'broad': 539, 'situation': 3912, 'instal': 2125, 'delhi': 1298, 'metro': 2574, 'spokeswoman': 4083, 'thomson': 4411, 'chance': 750, 'want': 4854, 'mikko': 2596, 'internet': 2157, 'promise': 3131, 'leisure': 2363, 'favorable': 1673, 'actively': 49, 'away': 391, 'towards': 4468, 'dynamic': 1445, 'endtoend': 1518, 'ervio': 1562, 'meov': 2558, 'basic': 414, 'canadian': 621, 'northland': 2744, 'osl': 2849, 'tse': 4506, 'stateowned': 4140, 'institution': 2130, 'sodra': 3994, 'varma': 4719, 'recipient': 3237, 'tender': 4372, 'road': 3452, 'heating': 1962, 'air': 113, 'conditioning': 993, 'cool': 1084, 'automobile': 377, 'adac': 55, 'munich': 2660, 'rebuild': 3231, 'sabah': 3550, 'sfi': 3789, 'malaysia': 2485, 'uncoated': 4569, 'fine': 1715, 'grind': 1904, 'superstructure': 4268, 'gothenburg': 1885, 'municipality': 2662, 'metre': 2572, 'telanne': 4354, 'ever': 1593, 'resettlement': 3353, 'hotel': 2017, 'hilton': 1985, 'room': 3477, 'sarkamies': 3616, 'ringman': 3435, 'schmardin': 3664, 'likely': 2399, 'try': 4504, 'vahur': 4690, 'kraft': 2297, 'cooperate': 1087, 'molybdenum': 2629, 'canada': 620, 'columbia': 907, 'shalkiya': 3796, 'zinclead': 4997, 'france': 1791, 'orange': 2833, 'broker': 541, 'rating': 3208, 'restructuring': 3390, 'clear': 840, 'arvo': 303, 'loviisa': 2452, 'general': 1844, 'licence': 2384, 'procedure': 3101, 'confident': 1000, 'approval': 254, 'dog': 1406, 'ilkka': 2056, 'sihvo': 3871, 'conjunction': 1007, 'interim': 2152, 'cision': 818, 'citigroup': 822, 'gts': 1916, 'mandate': 2494, 'vendor': 4748, 'os': 2848, 'select': 3730, 'activation': 47, 'asmobile': 321, 'consult': 1040, 'dibba': 1354, 'wastewater': 4864, 'emirate': 1503, 'uae': 4538, 'basv': 417, 'technical': 4339, 'cgcbv': 740, 'macgregor': 2469, 'hatch': 1945, 'shipowner': 3829, 'necessary': 2686, 'iittala': 2054, 'gerber': 1857, 'buster': 575, 'mark': 2511, 'bullish': 560, 'dagens': 1223, 'industri': 2098, 'initiate': 2112, 'bearing': 428, 'lang': 2322, 'banking': 408, 'tieto': 4425, 'consolidate': 1026, 'helsingin': 1973, 'uutiset': 4674, 'vantaan': 4711, 'sanomat': 3606, 'reader': 3222, 'consumer': 1044, 'latter': 2336, 'coat': 874, 'color': 903, 'simdax': 3880, 'authorisation': 368, 'recommendation': 3239, 'accordance': 27, 'lehdentekijat': 2361, 'membership': 2555, 'viisas': 4784, 'actor': 52, 'interested': 2150, 'private': 3097, 'ambulance': 162, 'fidelity': 1698, 'roll': 3469, 'ghana': 1861, 'premise': 3068, 'suburb': 4244, 'chennai': 773, 'fully': 1819, 'ibm': 2038, 'portal': 3040, 'implement': 2064, 'venezuel': 4750, 'sep': 3751, 'unnamed': 4613, 'philippine': 2980, 'cement': 714, 'integration': 2137, 'buyout': 581, 'advantage': 75, 'dct': 1248, 'distribute': 1388, 'fitch': 1735, 'sound': 4029, 'emerge': 1502, 'indosat': 2097, 'civil': 825, 'wcdma': 4872, 'ghspa': 1862, 'australia': 364, 'incentive': 2078, 'pioneer': 2990, 'library': 2383, 'art': 293, 'culture': 1187, 'big': 467, 'read': 3221, 'federal': 1681, 'reading': 3223, 'ooo': 2814, 'particularly': 2918, 'primarily': 3088, 'savon': 3636, 'specialist': 4058, 'skf': 3928, 'alandsbanken': 121, 'sony': 4021, 'ericsson': 1558, 'dominate': 1411, 'each': 1446, 'speak': 4052, 'spokesperson': 4082, 'perform': 2958, 'operate': 2817, 'owe': 2879, 'winter': 4929, 'season': 3697, 'tele': 4355, 'affarsvarlden': 83, 'crown': 1171, 'sverige': 4290, 'immediate': 2060, 'amend': 164, 'simplifies': 3888, 'key': 2272, 'stay': 4150, 'mirabela': 2608, 'bahia': 398, 'brazil': 526, 'buyer': 579, 'thus': 4423, 'reinforce': 3273, 'martela': 2518, 'harvest': 1943, 'eucalyptus': 1579, 'maintain': 2478, 'frame': 1789, 'sandwich': 3600, 'panel': 2899, 'foot': 1760, 'surf': 4277, 'even': 1591, 'exploit': 1632, 'sustainable': 4286, 'observe': 2772, 'stabilisation': 4108, 'compensate': 948, 'act': 44, 'reserve': 3352, 'batch': 419, 'category': 685, 'tradition': 4477, 'arena': 278, '_m_l': 3, 'comparison': 944, 'allow': 133, 'uh': 4545, 'extensively': 1646, 'human': 2029, 'pilot': 2988, 'rifd': 3424, 'ideal': 2045, 'purpose': 3167, 'olli': 2795, 'saarinen': 3546, 'yara': 4977, 'palm': 2897, 'certify': 733, 'roundtable': 3496, 'rspo': 3507, 'creates': 1155, 'opportunity': 2826, 'diversified': 1392, 'choose': 792, 'seem': 3718, 'like': 2398, 'reservation': 3351, 'visitor': 4811, 'validate': 4695, 'symbian': 4302, 'step': 4164, 'accomplish': 25, 'kostroma': 2295, 'km': 2283, 'honor': 2010, 'analysis': 180, 'novel': 2757, 'clinical': 853, 'candidate': 626, 'underperform': 4578, 'goldman': 1880, 'sachs': 3554, 'packed': 2891, 'fresh': 1801, 'continent': 1055, 'mumbai': 2659, 'lower': 2455, 'competitor': 956, 'eye': 1652, 'decisionmaking': 1267, 'demonstrates': 1311, 'apply': 248, 'shale': 3795, 'pleased': 3015, 'solel': 4004, 'requirement': 3346, 'costeffective': 1119, 'feel': 1687, 'wrtv': 4969, 'liquefy': 2407, 'lng': 2425, 'offshore': 2787, 'asa': 305, 'official': 2785, 'manchester': 2493, 'hiab': 1979, 'loader': 2428, 'defense': 1284, 'roaster': 3456, 'cleaning': 839, 'bulgaria': 556, 'cfr': 738, 'railway': 3193, 'neomarkka': 2693, 'kuitu': 2303, 'buying': 580, 'restarts': 3384, 'shimano': 3824, 'reel': 3253, 'stadtverwaltung': 4114, 'chassis': 763, 'body': 501, 'erkki': 1559, 'happy': 1938, 'ready': 3224, 'soon': 4022, 'exel': 1611, 'composite': 969, 'prospect': 3142, 'lem': 2364, 'dna': 1400, 'subcontractor': 4234, 'responsible': 3378, 'lifecycle': 2392, 'honka': 2008, 'arrange': 289, 'event': 1592, 'cup': 1191, 'skiing': 3932, 'competition': 953, 'sheetmetal': 3815, 'deer': 1281, 'former': 1775, 'superior': 4266, 'rantanen': 3201, 'express': 1639, 'his': 1988, 'confidence': 999, 'productional': 3113, 'span': 4046, 'river': 3445, 'vat': 4728, 'inclusive': 2082, 'sentry': 3749, 'form': 1771, 'advanced': 74, 'degree': 1291, 'immersive': 2062, 'camera': 614, 'thanks': 4389, 'wagon': 4848, 'vr': 4842, 'reiterate': 3274, 'yearly': 4982, 'borrower': 511, 'roadshow': 3454, 'scissors': 3676, 'surpass': 4280, 'negotiate': 2690, 'amendment': 165, 'covenant': 1139, 'regard': 3262, 'attract': 355, 'secretary': 3709, 'mexico': 2580, 'sintra': 3903, 'buenavistacuautitlan': 550, 'meur': 2579, 'definitive': 1287, 'seek': 3717, 'oriolakd': 2845, 'keep': 2266, 'lay': 2343, 'turun': 4522, 'electrical': 1488, 'closing': 859, 'cvd': 1213, 'risk': 3441, 'spite': 4077, 'inventor': 2164, 'hot': 2016, 'israel': 2183, 'rumilly': 3523, 'reuters': 3407, 'simultaneously': 3892, 'responsibility': 3377, 'affair': 82, 'merger': 2562, 'authorise': 369, 'issuance': 2184, 'once': 2801, 'your': 4992, 'ground': 1907, 'success': 4246, 'any': 226, 'lie': 2388, 'how': 2022, 'storm': 4192, 'blue': 492, 'jensen': 2207, 'my': 2668, 'opinion': 2824, 'really': 3227, 'proud': 3148, 'here': 1978, 'vitamin': 4814, 'injection': 2114, 'van': 4707, 'den': 1313, 'who': 4907, 'geographic': 1853, 'marubeni': 2520, 'midnighttrader': 2593, 'extendedhours': 1642, 'community': 934, 'appoint': 249, 'rautalinko': 3211, 'doctor': 1403, 'patient': 2929, 'smoke': 3972, 'every': 1595, 'visit': 4810, 'scanfil': 3653, 'ultrascan': 4556, 'cracker': 1147, 'onetime': 2806, 'sent': 3746, 'text': 4384, 'additionally': 61, 'across': 43, 'task': 4334, 'substantial': 4242, 'assistance': 337, 'living': 2421, 'skilled': 3933, 'therapy': 4396, 'bertrand': 453, 'sciard': 3672, 'retailwholesale': 3397, 'dedicate': 1276, 'alfa': 127, 'telenor': 4361, 'free': 1796, 'welcome': 4887, 'altogether': 149, 'cholesterol': 791, 'capped': 642, 'payable': 2936, 'upon': 4635, 'achievement': 35, 'ryymin': 3542, 'replace': 3325, 'juhani': 2228, 'evp': 1596, 'army': 285, 'unify': 4592, 'cablevision': 590, 'cvc': 1212, 'madison': 2472, 'york': 4989, 'basketball': 416, 'hockey': 1996, 'pack': 2888, 'them': 4393, 'jukka': 2229, 'ruuska': 3536, 'effective': 1472, 'profile': 3118, 'contains': 1050, 'dial': 1352, 'usa': 4649, 'financialwire': 1712, 'independent': 2089, 'proprietary': 3140, 'wire': 4931, 'temporarily': 4368, 'reopen': 3314, 'airport': 118, 'pm': 3021, 'learn': 2353, 'choice': 790, 'classroom': 836, 'strand': 4200, 'associate': 339, 'mechanical': 2543, 'ohio': 2789, 'acknowledge': 37, 'believe': 444, 'soyoats': 4041, 'prefer': 3065, 'sciencebased': 3674, 'innovation': 2118, 'front': 1807, 'land': 2321, 'plot': 3016, 'delta': 1305, 'lee': 2357, 'man': 2488, 'method': 2571, 'smelt': 3968, 'spout': 4091, 'shield': 3822, 'wall': 4852, 'relation': 3278, 'restructurings': 3391, 'valuable': 4702, 'officer': 2784, 'inside': 2122, 'walter': 4853, 'infra': 2106, 'los': 2446, 'angelesbased': 195, 'initially': 2111, 'san': 3593, 'angeles': 194, 'master': 2521, 'jointly': 2213, 'ufa': 4542, 'maxi': 2532, 'brandnew': 524, 'overview': 2876, 'metric': 2573, 'scorecard': 3680, 'content': 1052, 'mformation': 2582, 'configuration': 1001, 'jorma': 2217, 'valkama': 4698, 'paikallissanomat': 2894, 'saavalainen': 3549, 'concludes': 990, 'perfect': 2957, 'regulatory': 3269, 'biomass': 478, 'qt': 3174, 'eg': 1480, 'label': 2312, 'tape': 4330, 'kit': 2281, 'compatible': 946, 'mm': 2614, 'bidding': 466, 'stroi': 4223, 'constructor': 1038, 'sought': 4028, 'creativity': 1157, 'spin': 4075, 'arabized': 267, 'plaza': 3012, 'llc': 2424, 'venture': 4752, 'srv': 4104, 'conclude': 989, 'phase': 2979, 'saint': 3567, 'martin': 2519, 'sanna': 3604, 'sustainability': 4285, 'field': 1699, 'workflow': 4949, 'track': 4473, 'relocation': 3287, 'server': 3769, 'hp': 2025, 'tailormade': 4312, 'memorandum': 2556, 'technopark': 4343, 'neudorf': 2699, 'zone': 4998, 'village': 4789, 'strelny': 4210, 'you': 4990, 'mention': 2557, 'monthly': 2636, 'salary': 3571, 'controller': 1070, 'then': 4394, 'appliance': 244, 'module': 2627, 'ensure': 1532, 'saimaa': 3565, 'canal': 622, 'undisturbed': 4587, 'examine': 1599, 'law': 2342, 'short': 3841, 'selection': 3731, 'airbaltic': 114, 'court': 1136, 'genuine': 1852, 'unbanked': 4562, 'underbanked': 4574, 'protection': 3145, 'donation': 1412, 'tampere': 4325, 'vaasa': 4682, 'polytechnic': 3031, 'class': 833, 'special': 4055, 'invention': 2163, 'bylander': 584, 'sabharwal': 3552, 'ashutosh': 311, 'ridge': 3423, 'solely': 4005, 'savcor': 3633, 'sufficient': 4251, 'file': 1702, 'ragot': 3190, 'waterqueen': 4869, 'tortue': 4461, 'mid': 2589, 'comprehensive': 972, 'insight': 2123, 'reward': 3415, 'watch': 4865, 'format': 1773, 'en': 1512, 'language': 2323, 'confirmation': 1004, 'upload': 4631, 'catalogue': 679, 'royalty': 3503, 'viscaria': 4806, 'vantaa': 4710, 'voicemail': 4828, 'mail': 2475, 'effort': 1476, 'reimburse': 3272, 'policy': 3029, 'wellness': 4891, 'important': 2068, 'need': 2688, 'rosberg': 3484, 'respublikos': 3381, 'apsaugos': 262, 'lietuva': 2390, 'package': 2889, 'cf': 736, 'renison': 3305, 'archer': 270, 'exploration': 1633, 'headquarters': 1955, 'signifies': 3869, 'era': 1556, 'respect': 3369, 'discussion': 1378, 'why': 4915, 'consortium': 1029, 'outcome': 2862, 'sneed': 3982, 'hearing': 1959, 'varnish': 4720, 'young': 4991, 'child': 781, 'meego': 2549, 'identify': 2048, 'affect': 84, 'inspection': 2124, 'clarify': 831, 'gray': 1898, 'relevant': 3283, 'mandatory': 2495, 'require': 3345, 'seoul': 3750, 'tyo': 4532, 'treatment': 4492, 'quick': 3181, 'understand': 4579, 'dopplr': 1415, 'smart': 3965, 'em': 1500, 'sftv': 3790, 'secure': 3712, 'minister': 2604, 'mat': 2523, 'odell': 2778, 'golden': 1879, 'spring': 4095, 'shortterm': 3846, 'diagnostics': 1351, 'precision': 3062, 'tube': 4507, 'automotive': 378, 'carl': 654, 'arques': 288, 'employeremployee': 1509, 'arokarhu': 286, 'scan': 3649, 'disappear': 1371, 'sum': 4256, 'protect': 3144, 'virus': 4803, 'spyware': 4098, 'attack': 352, 'governance': 1886, 'committee': 928, 'shall': 3797, 'employment': 1510, 'marko': 2517, 'saarelainen': 3544, 'honkarakenne': 2009, 'log': 2436, 'statistic': 4143, 'seikku': 3723, 'tyrvæinen': 4537, 'estimation': 1572, 'essential': 1567, 'vauramo': 4730, 'suitable': 4253, 'replaces': 3327, 'formerly': 1776, 'valid': 4694, 'fiberbased': 1696, 'completion': 962, 'friend': 1803, 'carrollton': 662, 'convert': 1078, 'aho': 111, 'optimization': 2828, 'vision': 4809, 'unveil': 4621, 'intelligence': 2140, 'aug': 362, 'timo': 4437, 'vataja': 4729, 'virve': 4804, 'activate': 46, 'sevenyear': 3784, 'historic': 1989, 'sixyear': 3919, 'chile': 782, 'traditional': 4478, 'grapevine': 1896, 'lot': 2449, 'altia': 146, 'altimo': 148, 'usmanov': 4660, 'join': 2211, 'amanda': 159, 'chamber': 747, 'audio': 359, 'webcast': 4881, 'live': 2420, 'archive': 275, 'cerner': 729, 'anttila': 224, 'bestknown': 457, 'apart': 229, 'compete': 950, 'top': 4458, 'sievi': 3861, 'terminate': 4377, 'uv': 4676, 'municipal': 2661, 'trojan': 4499, 'logical': 2437, 'wærtsilæ': 4971, 'leipurin': 2362, 'kaukomarkkinat': 2255, 'scandinavian': 3652, 'campomos': 618, 'match': 2524, 'automatically': 375, 'light': 2395, 'castecka': 673, 'favor': 1672, 'beyond': 462, 'chs': 803, 'expo': 1635, 'exhibition': 1614, 'final': 1707, 'crucially': 1172, 'institute': 2129, 'vie': 4778, 'bottom': 516, 'dnb': 1401, 'citadele': 819, 'fit': 1734, 'authorize': 372, 'max': 2531, 'highlight': 1981, 'eat': 1454, 'explore': 1634, 'love': 2451, 'shot': 3847, 'finish': 1717, 'music': 2664, 'serf': 3765, 'globally': 1872, 'telecomms': 4358, 'prepared': 3073, 'answer': 215, 'detailed': 1338, 'caller': 611, 'eu': 1578, 'exit': 1616, 'salcomp': 3572, 'below': 445, 'strictest': 4217, 'washington': 4861, 'colorado': 904, 'kevin': 2271, 'play': 3009, 'cncv': 866, 'cheapest': 766, 'mitsubishi': 2609, 'heavy': 1965, 'undisclosed': 4586, 'active': 48, 'tikv': 4432, 'prohouse': 3126, 'wooden': 4942, 'surface': 4278, 'ultra': 4555, 'pro': 3099, 'waterborne': 4867, 'registration': 3267, 'stateheld': 4137, 'rao': 3202, 'ues': 4541, 'excellence': 1602, 'therapeutic': 4395, 'drug': 1433, 'vaccine': 4686, 'flagship': 1743, 'connect': 1008, 'excite': 1606, 'wellknown': 4890, 'bavelloni': 422, 'preprocessing': 3074, 'tamglass': 4324, 'uniglass': 4593, 'albat': 122, 'wirsam': 4933, 'goodwill': 1882, 'cv': 1211, 'club': 864, 'cumberland': 1188, 'farm': 1668, 'antwerp': 225, 'hull': 2028, 'belvedere': 446, 'luxury': 2465, 'holiday': 2001, 'foodservice': 1759, 'paperboard': 2903, 'epi': 1548, 'presentation': 3077, 'cfo': 737, 'tuomas': 4513, 'participant': 2915, 'discus': 1377, 'clientele': 848, 'switzerland': 4300, 'primary': 3089, 'ftth': 1813, 'homeware': 2006, 'interior': 2153, 'survey': 4283, 'goodyear': 1883, 'continental': 1056, 'bridgestone': 532, 'respiratory': 3373, 'simple': 3887, 'molecule': 2628, 'biological': 477, 'arrangement': 290, 'alliance': 129, 'solid': 4006, 'storey': 4191, 'harri': 1942, 'commits': 927, 'feedstock': 1686, 'nexbtl': 2712, 'expert': 1626, 'precor': 3063, 'ball': 401, 'energia': 1520, 'supervisory': 4270, 'inform': 2104, 'williams': 4922, 'score': 3679, 'impressive': 2069, 'debut': 1260, 'chip': 786, 'jon': 2214, 'risfelt': 3440, 'budget': 549, 'aol': 227, 'newstex': 2710, 'upstaged': 4638, 'businessclass': 571, 'someone': 4016, 'espoo': 1566, 'youtube': 4993, 'relocate': 3286, 'loudeac': 2450, 'marcel': 2503, 'morvillars': 2642, 'hook': 2011, 'lember': 2365, 'matter': 2527, 'topical': 4459, 'bill': 468, 'ministry': 2605, 'scrap': 3684, 'responsibly': 3379, 'society': 3992, 'environment': 1544, 'globe': 1873, 'lkab': 2422, 'iron': 2180, 'giant': 1864, 'vintage': 4794, 'fabric': 1653, 'cushion': 1201, 'coffee': 885, 'dish': 1379, 'cocktail': 881, 'thing': 4405, 'volunteer': 4837, 'depot': 1328, 'baltimore': 403, 'sanctuary': 3595, 'applicant': 246, 'yahoo': 4976, 'favorite': 1674, 'sponsor': 4086, 'museum': 2663, 'played': 3010, 'role': 3468, 'restart': 3383, 'cellulose': 710, 'valkeakoski': 4699, 'refining': 3257, 'shed': 3813, 'll': 2423, 'ovi': 2877, 'fun': 1822, 'download': 1423, 'attach': 351, 'renovation': 3308, 'interaction': 2146, 'factor': 1659, 'tablet': 4308, 'entitlement': 1541, 'cannedpreserved': 627, 'modular': 2626, 'applicable': 245, 'respondent': 3375, 'koskinen': 2293, 'telephone': 4362, 'conduct': 995, 'eet': 1470, 'verbund': 4755, 'sedation': 3714, 'ventilate': 4751, 'intensive': 2143, 'dow': 1421, 'jones': 2215, 'nationwide': 2678, 'outlet': 2864, 'tournament': 4466, 'title': 4440, 'nomination': 2729, 'cybe': 1216, 'unanimous': 4560, 'proposes': 3139, 'election': 1486, 'rfid': 3418, 'radio': 3189, 'identification': 2047, 'save': 3634, 'remotely': 3293, 'rk': 3446, 'fesco': 1692, 'nurminen': 2765, 'sp': 4042, 'kept': 2268, 'ubs': 4539, 'article': 298, 'portable': 3039, 'rakvere': 3197, 'minority': 2607, 'midjuly': 2591, 'leave': 2356, 'shuweihat': 3855, 'simmons': 3883, 'elect': 1485, 'dcuc': 1249, 'council': 1125, 'renovate': 3307, 'stockholmbased': 4177, 'hire': 1987, 'casper': 671, 'von': 4838, 'koskull': 2294, 'merchant': 2560, 'proven': 3150, 'simplify': 3889, 'organize': 2840, 'technoparks': 4344, 'modern': 2624, 'concrete': 991, 'creation': 1156, 'tap': 4329, 'availability': 381, 'holmen': 2003, 'underweight': 4584, 'highquality': 1983, 'cw': 1214, 'hydrogen': 2037, 'peroxide': 2965, 'decoration': 1273, 'bag': 397, 'financially': 1711, 'study': 4231, 'feasibility': 1677, 'strength': 4211, 'apetit': 231, 'egm': 1481, 'electrification': 1490, 'desk': 1333, 'person': 2967, 'autumn': 380, 'noticeable': 2753, 'competency': 952, 'cinema': 812, 'artistic': 300, 'journey': 2220, 'dozen': 1425, 'star': 4130, 'teus': 4381, 'manages': 2492, 'bar': 409, 'califbased': 607, 'casual': 677, 'dress': 1427, 'boot': 507, 'sandal': 3597, 'innova': 2117, 'downtown': 1424, 'vicinity': 4775, 'walk': 4851, 'distance': 1386, 'heart': 1960, 'timetable': 4436, 'wind': 4926, 'chart': 760, 'kyroskoski': 2309, '_ænekoski': 4, 'upstream': 4639, 'others': 2856, 'weather': 4878, 'cannon': 628, 'celebrate': 705, 'crush': 1175, 'enefit': 1519, 'taiwan': 4313, 'loadbearing': 2427, 'roof': 3476, 'element': 1494, 'pulse': 3164, 'check': 767, 'saturation': 3627, 'retain': 3398, 'fee': 1683, 'eek': 1467, 'fold': 1756, 'resilience': 3362, 'seamless': 3695, 'chikunov': 780, 'brief': 533, 'niche': 2715, 'black': 484, 'decker': 1269, 'outdoor': 2863, 'ryobi': 3541, 'scott': 3682, 'contribute': 1067, 'campofrio': 617, 'smithfield': 3971, 'sfd': 3788, 'find': 1714, 'costefficient': 1121, 'removal': 3294, 'dose': 1418, 'continuous': 1061, 'desktop': 1334, 'remote': 3292, 'resourcing': 3368, 'health': 1956, 'vaccination': 4685, 'monitoring': 2633, 'remains': 3291, 'otherwise': 2857, 'shipyard': 3831, 'andalusia': 187, 'prime': 3090, 'unified': 4591, 'audit': 360, 'interconnection': 2148, 'sriperumbudur': 4102, 'near': 2684, 'innofactor': 2116, 'communal': 931, 'driver': 1431, 'plywood': 3020, 'despite': 1335, 'write': 4967, 'collaboration': 893, 'antti': 223, 'settop': 3775, 'box': 519, 'flat': 1744, 'amplifier': 175, 're': 3218, 'onto': 2812, 'cc': 695, 'version': 4760, 'her': 1977, 'chichi': 778, 'shade': 3793, 'deka': 1294, 'showroom': 3851, 'collar': 895, 'hunt': 2032, 'map': 2500, 'ulefos': 4552, 'mouse': 2650, 'instead': 2128, 'clickhappy': 846, 'forever': 1769, 'printing': 3093, 'attempt': 353, 'recover': 3241, 'replacement': 3326, 'clamp': 829, 'utah': 4665, 'skiequipment': 3930, 'invite': 2172, 'warmly': 4856, 'him': 1986, 'veracel': 4754, 'prepare': 3072, 'appeal': 239, 'clarification': 830, 'judgement': 2226, 'trace': 4472, 'patricia': 2931, 'burt': 567, 'distinctive': 1387, 'rug': 3517, 'assa': 329, 'abloy': 10, 'neutral': 2700, 'lock': 2434, 'competence': 951, 'reference': 3254, 'stefan': 4160, 'arxikon': 304, 'srl': 4103, 'equip': 1552, 'dave': 1243, 'defence': 1283, 'detect': 1339, 'capture': 643, 'screen': 3685, 'michael': 2585, 'vaalipalveluservice': 4681, 'rbff': 3216, 'execute': 1609, 'sense': 3744, 'db': 1246, 'gather': 1840, 'consider': 1018, 'citycon': 824, 'eero': 1468, 'sihvonen': 3872, 'chf': 774, 'lender': 2369, 'fork': 1770, 'webbased': 4880, 'intel': 2138, 'atom': 348, 'processor': 3107, 'mobility': 2620, 'doring': 1416, 'career': 651, 'unite': 4601, 'smooth': 3974, 'dataonly': 1241, 'multiple': 2657, 'sim': 3879, 'coaster': 873, 'idea': 2044, 'awardwinning': 389, 'plumbing': 3017, 'dart': 1235, 'indicate': 2094, 'ski': 3929, 'spa': 4043, 'resort': 3366, 'veil': 4743, 'stereotype': 4165, 'search': 3696, 'tata': 4335, 'investigate': 2167, 'lattelecom': 2335, 'explain': 1630, 'blackstone': 486, 'krav': 2299, 'listing': 2412, 'load': 2426, 'capitex': 640, 'cathay': 687, 'asbuilt': 307, 'communicate': 932, 'accommodate': 23, 'grc': 1899, 'fabrication': 1654, 'navigator': 2681, 'com': 908, 'constantly': 1031, 'housing': 2021, 'immediately': 2061, 'gsm': 1915, 'congress': 1006, 'subscribe': 4237, 'prof': 3116, 'residence': 3355, 'dubai': 1435, 'viii': 4783, 'rival': 3444, 'cee': 701, 'altima': 147, 'pole': 3027, 'cause': 689, 'electric': 1487, 'roadway': 3455, 'corner': 1100, 'asfaltti': 309, 'thesis': 4402, 'cooperative': 1090, 'rest': 3382, 'comfortably': 914, 'duration': 1438, 'countervalue': 1130, 'headbox': 1951, 'supervision': 4269, 'simonsen': 3885, 'stead': 4151, 'usual': 4663, 'smartphones': 3967, 'style': 4233, 'resin': 3363, 'cm': 865, 'worldclass': 4955, 'magnetite': 2474, 'deposit': 1327, 'image': 2059, 'united': 4602, 'supermarket': 4267, 'specialized': 4062, 'knowledge': 2286, 'collate': 896, 'icis': 2040, 'decorative': 1274, 'runner': 3526, 'county': 1132, 'smarket': 3964, 'sahlberg': 3562, 'kallio': 2245, 'calcination': 599, 'circulate': 816, 'fluid': 1753, 'bed': 432, 'calciners': 600, 'sinter': 3902, 'dealership': 1255, 'eligible': 1496, 'silver': 3878, 'sardus': 3613, 'meal': 2537, 'belgium': 443, 'italy': 2188, 'spain': 4045, 'coverage': 1141, 'biscuit': 481, 'cereal': 728, 'chargz': 758, 'peltonen': 2950, 'renzo': 3313, 'skyline': 3940, 'veeger': 4735, 'rushydro': 3531, 'utilise': 4667, 'huge': 2026, 'loyal': 2456, 'scopi': 3678, 'newpage': 2706, 'cyclone': 1219, 'partly': 2919, 'cue': 1183, 'lion': 2405, 'cowboy': 1142, 'renewal': 3303, 'remuneration': 3296, 'contest': 1053, 'chapter': 754, 'described': 1331, 'plate': 3005, 'degerfors': 1290, 'castle': 676, 'avesta': 386, 'crosscountry': 1169, 'stick': 4171, 'hop': 2012, 'stream': 4207, 'nv': 2766, 'render': 3298, 'appear': 240, 'pricing': 3086, 'unmanned': 4612, 'capable': 633, 'woodworking': 4943, 'sheksna': 3817, 'vologda': 4833, 'northwest': 2745, 'correct': 1105, 'entirety': 1539, 'supercalendered': 4265, 'satisfactorily': 3623, 'newsprint': 2709, 'pda': 2943, 'motorola': 2648, 'operative': 2822, 'shift': 3823, 'realtime': 3228, 'determine': 1341, 'auto': 373, 'teks': 4352, 'rehu': 3270, 'acquirer': 40, 'sav': 3632, 'advance': 73, 'samsung': 3591, 'innovator': 2120, 'secondquarter': 3708, 'par': 2905, 'sludge': 3960, 'mixed': 2611, 'evaluate': 1589, 'dos': 1417, 'administer': 67, 'antibody': 217, 'psoriasis': 3154, 'prolongation': 3130, 'finnishswedish': 1722, 'locally': 2431, 'occur': 2775, 'extract': 1648, 'rostelecom': 3488, 'rts': 3512, 'rtkm': 3510, 'convergence': 1074, 'assume': 341, 'copy': 1095, 'backup': 396, 'student': 4230, 'universiti': 4604, 'sains': 3566, 'trip': 4497, 'uniontown': 4598, 'durham': 1439, 'awareness': 390, 'encourage': 1516, 'regular': 3268, 'haven': 1947, 'showcase': 3850, 'internal': 2154, 'tomorrow': 4451, 'unc': 4565, 'charlotte': 759, 'deploy': 1325, 'tectia': 4348, 'connector': 1011, 'consecutive': 1013, 'seventeen': 3781, 'something': 4017, 'vdw': 4732, 'keyboard': 2273, 'pakistan': 2896, 'household': 2020, 'yield': 4986, 'vehvilainen': 4739, 'conversion': 1077, 'understood': 4580, 'diesel': 1356, 'renewable': 3301, 'belgian': 442, 'ice': 2039, 'safe': 3556, 'suomi': 4263, 'companywide': 940, 'unrv': 4617, 'proceed': 3102, 'analytics': 182, 'sure': 4276, 'literature': 2415, 'scala': 3645, 'buck': 547, 'skr': 3938, 'oneoffs': 2805, 'actually': 54, 'repaid': 3319, 'liability': 2382, 'consideration': 1020, 'partially': 2914, 'repay': 3321, 'liquidity': 2410, 'eurochem': 1584, 'alexander': 125, 'collaborate': 892, 'ukonaho': 4550, 'seminar': 3738, 'clean': 838, 'sponsorship': 4087, 'cellphone': 708, 'website': 4882, 'colorful': 905, 'canvas': 630, 'sentiment': 3748, 'growhow': 1910, 'swung': 4301, 'normally': 2739, 'custom': 1203, 'shipbuilder': 3826, 'depend': 1324, 'gruppen': 1914, 'praise': 3061, 'gprs': 1889, 'skanssi': 3926, 'powerful': 3057, 'indicator': 2095, 'offset': 2786, 'celbi': 704, 'portugal': 3044, 'abb': 6, 'deutsche': 1343, 'vivid': 4816, 'curve': 1200, 'ntt': 2762, 'converge': 1073, 'vinachem': 4793, 'skat': 3927, 'kind': 2279, 'andrey': 191, 'arab': 265, 'jordan': 2216, 'campbell': 616, 'chopra': 793, 'umbrella': 4557, 'cumerio': 1189, 'vehvilæinen': 4740, 'sveza': 4291, 'specialization': 4060, 'inception': 2079, 'stable': 4111, 'midmarket': 2592, 'brokerage': 542, 'profitable': 3121, 'convenient': 1072, 'wysockiego': 4970, 'volotinen': 4834, 'stiggoran': 4172, 'sandberg': 3599, 'journalistic': 2219, 'patronage': 2932, 'eliv': 1498, 'ladle': 2315, 'bhushan': 464, 'strip': 4220, 'aluminij': 153, 'dd': 1250, 'anode': 211, 'hk': 1992, 'ruokatalo': 3528, 'changshu': 752, 'kraftliner': 2298, 'stahlberg': 4118, 'tanzania': 4328, 'sanitation': 3602, 'assignment': 335, 'bukoba': 555, 'situate': 3911, 'lake': 2320, 'victoria': 4776, 'turnaround': 4519, 'felt': 1689, 'nt': 2760, 'enough': 1530, 'activision': 50, 'fish': 1731, 'might': 2594, 'catch': 682, 'delighted': 1300, 'handheld': 1931, 'easy': 1453, 'bosse': 512, 'relates': 3277, 'hydrocarbon': 2036, 'jet': 2208, 'exactly': 1598, 'happen': 1937, 'resident': 3356, 'rice': 3421, 'engage': 1523, 'dean': 1256, 'signal': 3864, 'permit': 2964, 'round': 3495, 'apac': 228, 'vice': 4772, 'demonstrate': 1310, 'importance': 2067, 'reliable': 3285, 'universal': 4603, 'entertainment': 1536, 'rotana': 3490, 'platinum': 3008, 'vast': 4726, 'spot': 4090, 'aptly': 263, 'swiss': 4298, 'sharpest': 3807, 'protocol': 3147, 'hectare': 1966, 'valve': 4706, 'cl': 827, 'cloud': 863, 'vertical': 4762, 'rely': 3288, 'detection': 1340, 'smoothly': 3975, 'safely': 3557, 'wait': 4850, 'urbanize': 4643, 'deinking': 1293, 'remove': 3295, 'bjorn': 483, 'wahlroos': 4849, 'korean': 2292, 'korea': 2291, 'interview': 2159, 'rmg': 3450, 'sanomawsoy': 3607, 'uutislehti': 4675, 'lahti': 2316, 'warsaw': 4859, 'white': 4905, 'browser': 544, 'orhangazi': 2841, 'scout': 3683, 'chic': 775, 'cheerful': 770, 'companiesandmarketscom': 937, 'federation': 1682, 'pkc': 2998, 'bus': 569, 'spolka': 4084, 'certification': 732, 'voluntary': 4836, 'nuclear': 2763, 'hydro': 2035, 'bit': 482, 'conferencing': 998, 'worldleading': 4956, 'skier': 3931, 'virpi': 4800, 'sophisticated': 4024, 'industryleading': 2102, 'lt': 2459, 'redeem': 3247, 'proline': 3129, 'semiproducts': 3739, 'diapol': 1353, 'agenda': 100, 'agm': 103, 'touch': 4463, 'xpress': 4974, 'classic': 834, 'itikka': 2190, 'osuuskunta': 2853, 'asiapacific': 314, 'accessible': 20, 'apple': 242, 'grade': 1891, 'centrally': 722, 'virtual': 4802, 'scholarship': 3665, 'lean': 2352, 'nissan': 2722, 'armada': 284, 'red': 3246, 'sofa': 3995, 'tomtom': 4452, 'assurance': 343, 'tobacco': 4446, 'smoking': 3973, 'oral': 2832, 'cancer': 625, 'cant': 629, 'exposure': 1638, 'hansen': 1936, 'specifically': 4065, 'calais': 598, 'enjoy': 1529, 'angler': 196, 'newcomer': 2704, 'matrix': 2526, 'correlation': 1106, 'workshop': 4953, 'bulletin': 559, 'statutory': 4146, 'undertaking': 4582, 'satisfies': 3625, 'cdli': 697, 'response': 3376, 'carbon': 646, 'disclosure': 1374, 'cu': 1182, 'dallascity': 1228, 'enclose': 1515, 'authorization': 371, 'skaarer': 3923, 'sixstep': 3916, 'collaborative': 894, 'homeowner': 2005, 'ecofriendly': 1462, 'compact': 935, 'scalable': 3646, 'flexi': 1746, 'multiradio': 2658, 'sawn': 3640, 'curfew': 1194, 'curl': 1195, 'bestseller': 458, 'treat': 4491, 'amber': 161, 'sanitas': 3601, 'entrepreneur': 1543, 'sparsely': 4050, 'populate': 3035, 'metropolitan': 2575, 'sap': 3609, 'erp': 1561, 'applaud': 241, 'datadriven': 1240, 'clarity': 832, 'petition': 2975, 'celebrates': 706, 'anniversary': 201, 'energyefficient': 1522, 'costanza': 1117, 'aluminum': 155, 'stateoftheart': 4139, 'comfort': 912, 'utilises': 4669, 'layer': 2344, 'pirkka': 2995, 'band': 405, 'stamp': 4122, 'case': 669, 'convenience': 1071, 'obtain': 2773, 'iconic': 2041, 'excellent': 1603, 'eronen': 1560, 'svp': 4292, 'convince': 1082, 'ostrom': 2852, 'touchscreen': 4464, 'cheaper': 765, 'pick': 2984, 'vesa': 4764, 'slide': 3948, 'notably': 2750, 'costcutting': 1118, 'vocollect': 4823, 'discount': 1376, 'sort': 4026, 'little': 2419, 'baby': 393, 'shopper': 3839, 'ca': 587, 'furniture': 1828, 'oko': 2793, 'concern': 986, 'conspiracy': 1030, 'cooper': 1086, 'sh': 3791, 'minor': 2606, 'constructive': 1037, 'virgin': 4798, 'somaxon': 4014, 'nalmefene': 2671, 'cessation': 734, 'milestone': 2598, 'critical': 1165, 'usp': 4661, 'roadmap': 3453, 'simon': 3884, 'button': 577, 'aftermarket': 92, 'sharp': 3806, 'although': 145, 'cheap': 764, 'bullying': 561, 'channel': 753, 'workout': 4952, 'chore': 794, 'brian': 530, 'wider': 4918, 'lowend': 2454, 'kallasvuo': 2244, 'rail': 3192, 'comply': 965, 'hydraulics': 2034, 'degridding': 1292, 'sand': 3596, 'deodorization': 1320, 'businesscritical': 572, 'galvan': 1833, 'must': 2665, 'enters': 1535, 'schultze': 3670, 'shavlik': 3809, 'paul': 2934, 'patch': 2927, 'simonson': 3886, 'retrieve': 3401, 'arrive': 292, 'scene': 3658, 'skogster': 3937, 'consist': 1022, 'casualty': 678, 'utm': 4672, 'counter': 1128, 'weakness': 4877, 'lodge': 2435, 'sequence': 3763, 'apparently': 238, 'utilised': 4668, 'dubna': 1436, 'gross': 1906, 'seawind': 3700, 'stuck': 4229, 'northwestern': 2746, 'stena': 4163, 'pas': 2924, 'uncommonly': 4570, 'snow': 3983, 'roger': 3465, 'talermo': 4318, 'violate': 4795, 'interrupt': 2158, 'tree': 4493, 'exclude': 1607, 'cancellation': 624, 'utilisation': 4666, 'newly': 2705, 'stavo': 4148, 'stavokonsult': 4149, 'lewa': 2380, 'beteiligungs': 459, 'nonbinding': 2730, 'aluminium': 154, 'krippl': 2300, 'tenth': 4373, 'orangehandled': 2834, 'derive': 1330, 'swing': 4297, 'mertano': 2564, 'bnamericas': 496, 'roughly': 3494, 'bochum': 500, 'roshan': 3487, 'selfservice': 3733, 'effectively': 1473, 'lvl': 2466, 'claim': 828, 'fouryear': 1788, 'advertisement': 76, 'insurer': 2134, 'shenzhen': 3821, 'considers': 1021, 'bbl': 425, 'ulm': 4554, 'frankfurt': 1794, 'scania': 3654, 'stanley': 4129, 'bakery': 399, 'carmaker': 656, 'allocate': 130, 'flag': 1742, 'fias': 1694, 'acnielsen': 38, 'scantrack': 3655, 'cocacola': 879, 'quickly': 3182, 'dahlstrm': 1224, 'tb': 4337, 'lasse': 2327, 'ongoing': 2809, 'takanen': 4314, 'aspokem': 328, 'cad': 593, 'billing': 469, 'bulk': 557, 'commence': 916, 'cymed': 1220, 'delhaize': 1297, 'vocal': 4822, 'renew': 3300, 'rmrv': 3451, 'sir': 3905, 'robert': 3457, 'watermark': 4868, 'cuttolength': 1210, 'uruguayan': 4647, 'glav': 1869, 'staffer': 4116, 'fulfill': 1817, 'principal': 3091, 'dc': 1247, 'mnmn': 2617, 'salv': 3584, 'inked': 2115, 'surveillance': 4282, 'schultebockum': 3668, 'vodafone': 4824, 'coagulant': 869, 'announces': 204, 'scissor': 3675, 'unveils': 4623, 'ivrcl': 2192, 'dry': 1434, 'thermal': 4400, 'sahavaara': 3561, 'navteq': 2682, 'command': 915, 'sataflexo': 3619, 'chicagobased': 777, 'database': 1239, 'garmin': 1837, 'lg': 2381, 'headboxes': 1952, 'dilution': 1364, 'centralise': 720, 'reuse': 3406, 'bottle': 515, 'steadily': 4152, 'strap': 4201, 'singapore': 3895, 'inorganic': 2121, 'andhra': 188, 'pradesh': 3060, 'solvay': 4011, 'sa': 3543, 'solvaybasf': 4012, 'southfield': 4037, 'incur': 2088, 'skogberg': 3936, 'vana': 4708, 'cobalt': 877, 'modem': 2623, 'carrierrelated': 661, 'boomeranger': 505, 'rmb': 3448, 'uruguay': 4646, 'substation': 4243, 'clearer': 841, 'grainbased': 1894, 'comparative': 942, 'uplift': 4630, 'iso': 2182, 'toward': 4467, 'januarymarch': 2199, 'soapstone': 3987, 'solvency': 4013, 'limit': 2400, 'tank': 4326, 'blyk': 494, 'scaffold': 3644, 'pellet': 2949, 'kiruna': 2280, 'cobranded': 878, 'capitel': 639, 'capitalize': 638, 'similar': 3881, 'jyvaskyla': 2240, 'specialise': 4056, 'unsecured': 4618, 'mediumterm': 2548, 'camara': 612, 'de': 1251, 'cip': 813, 'sterling': 4166, 'commerce': 918, 'geographical': 1854, 'closer': 858, 'czechrepublic': 1222, 'analyze': 183, 'peter': 2973, 'rutav': 3534, 'rocket': 3462, 'texas': 4383, 'sept': 3761, 'compression': 973, 'retrofit': 3403, 'noop': 2734, 'dental': 1317, 'interactive': 2147, 'viewpoint': 4781, 'standardsbased': 4128, 'duty': 1442, 'tecv': 4349, 'bristol': 536, 'stacker': 4112, 'correspondingly': 1109, 'destia': 1336, 'sokonet': 4000, 'divide': 1396, 'tumkur': 4511, 'bangalore': 406, 'sister': 3907, 'smtand': 3976, 'workday': 4947, 'ingredient': 2109, 'contain': 1048, 'christian': 798, 'fullyowned': 1821, 'nastola': 2675, 'southaven': 4033, 'kauhajoki': 2254, 'slaughterhouse': 3943, 'straight': 4198, 'westerlund': 4893, 'unless': 4607, 'definitely': 1286, 'ya': 4975, 'ulitsa': 4553, 'unimilk': 4596, 'businesssummit': 573, 'replay': 3328, 'consultation': 1043, 'appropriate': 253, 'wonderware': 4940, 'si': 3856, 'spc': 4051, 'saku': 3569, 'evraz': 1597, 'roman': 3473, 'possibility': 3047, 'workforce': 4950, 'pori': 3037, 'christmas': 800, 'ugglarp': 4544, 'sk_ne': 3922, 'slovak': 3956, 'statecontrolled': 4135, 'visual': 4813, 'identity': 2049, 'fact': 1658, 'beef': 433, 'kilo': 2275, 'soosalu': 4023, 'attention': 354, 'aleksandri': 124, 'maritime': 2510, 'januaryaugust': 2197, 'notification': 2754, 'ameriprice': 169, 'sat': 3618, 'sew': 3786, 'westpac': 4895, 'frn': 1805, 'vimpelcom': 4791, 'deere': 1282, 'budapest': 548, 'vacant': 4684, 'crash': 1151, 'hack': 1923, 'classify': 835, 'riskware': 3442, 'consultant': 1042, 'permanently': 2962, 'salo': 3576, 'pitprodukt': 2996, 'catalyst': 680, 'flexibly': 1748, 'length': 2372, 'copyright': 1097, 'vijver': 4787, 'entitle': 1540, 'deduct': 1277, 'customize': 1206, 'disclose': 1373, 'urbano': 4644, 'urban': 4642, 'rautakirja': 3210, 'ethanol': 1575, 'facade': 1655, 'riga': 3425, 'ytyv': 4994, 'fancy': 1666, 'dans': 1232, 'auditor': 361, 'compensation': 949, 'confectionery': 996, 'rugv': 3519, 'casting': 675, 'samporosenlew': 3590, 'unlimited': 4609, 'cincinnati': 811, 'constitute': 1032, 'possible': 3048, 'fly': 1754, 'extra': 1647, 'allocation': 131, 'nederland': 2687, 'bv': 582, 'cnl': 867, 'jaston': 2206, 'groep': 1905, 'valuation': 4703, 'shell': 3818, 'categorically': 683, 'rsa': 3506, 'fixedterm': 1740, 'voimatel': 4830, 'invitation': 2171, 'sheffield': 3816, 'slo': 3953, 'jyvaeskylae': 2239, 'critch': 1163, 'sankey': 3603, 'leed': 2358, 'unicom': 4590, 'chu': 804, 'shse': 3853, 'termination': 4378, 'metsabotnia': 2576, 'pohjolan': 3023, 'voima': 4829, 'rumor': 3524, 'wasteburning': 4863, 'liechtenstein': 2389, 'serbia': 3764, 'indepth': 2090, 'payroll': 2938, 'cdma': 698, 'bps': 521, 'protalix': 3143, 'shorter': 3842, 'rosendal': 3486, 'outoteccom': 2868, 'eila': 1483, 'paatela': 2886, 'runway': 3527, 'calculate': 601, 'assessment': 332, 'saunalahti': 3630, 'burton': 568, 'seller': 3735, 'anrak': 213, 'composition': 970, 'aqua': 264, 'adam': 56, 'steek': 4156, 'southwestern': 4039, 'varkaus': 4718, 'utilize': 4671, 'residue': 3359, 'radiation': 3188, 'postpaid': 3051, 'dimension': 1365, 'aforementioned': 88, 'lassi': 2328, 'anasmotet': 184, 'condominium': 994, 'marked': 2512, 'maturity': 2530, 'reportable': 3332, 'asmi': 320, 'tighten': 4427, 'stewart': 4169, 'refurbish': 3259, 'bathroom': 420, 'replumbing': 3329, 'sewer': 3787, 'pipe': 2991, 'roro': 3480, 'rorocruise': 3481, 'singaporean': 3896, 'gear': 1843, 'specialize': 4061, 'squarefoot': 4101, 'delegation': 1296, 'rugby': 3518, 'train': 4481, 'assistant': 338, 'inaugural': 2074, 'speech': 4069, 'ambassador': 160, 'vary': 4723, 'specie': 4064, 'rubber': 3513, 'circle': 814, 'saha': 3560, 'sepa': 3752, 'comprises': 976, 'lesprom': 2374, 'crecent': 1158, 'introduction': 2162, 'secondgeneration': 3706, 'recruitment': 3244, 'ghz': 1863, 'polish': 3030, 'yet': 4985, 'cosco': 1113, 'cido': 810, 'unloader': 4611, 'convey': 1081, 'statistical': 4144, 'evaluation': 1590, 'iphone': 2177, 'continuously': 1062, 'bloomberg': 491, 'elsewhere': 1499, 'artemis': 294, 'valga': 4693, 'lihatoostus': 2396, 'artemyev': 295, 'chameleon': 749, 'zao': 4995, 'jvc': 2238, 'stop': 4185, 'dvd': 1443, 'swedbank': 4294, 'argentine': 281, 'calafate': 597, 'compatriot': 947, 'coatingsrelated': 876, 'malware': 2487, 'url': 4645, 'micro': 2587, 'rik': 3431, 'wo': 4938, 'always': 157, 'cornerstone': 1101, 'reporter': 3334, '_lemiste': 2, 'toolonlahti': 4457, 'sportsequipment': 4089, 'schuldschein': 3667, 'closedown': 856, 'coker': 889, 'california': 608, 'castell': 674, 'nominal': 2728, 'abc': 7, 'crosstown': 1170, 'roundwood': 3497, 'franchise': 1792, 'altra': 151, 'dioxide': 1367, 'reorganise': 3316, 'degefors': 1288, 'retirement': 3400, 'wave': 4870, 'commissioner': 924, 'lumene': 2462, 'cosmetic': 1115, 'borlænge': 509, 'saarioinen': 3547, 'mækelæ': 2670, 'delist': 1301, 'accordingly': 28, 'salaried': 3570, 'preparation': 3071, 'ifrs': 2052, 'efi': 1477, 'rollon': 3471, 'rolloff': 3470, 'deepwater': 1280, 'inflation': 2103, 'salovaara': 3581, 'cutter': 1209, 'assign': 334, 'vilo': 4790, 'sipponen': 3904, 'scheck': 3660, 'tyrvaan': 4536, 'sastamala': 3617, 'governmentowned': 1888, 'vimpeli': 4792, 'oslo': 2850, 'altona': 150, 'exempt': 1612, 'left': 2359, 'rostovondon': 3489, 'meadville': 2536, 'slice': 3946, 'reorganization': 3317, 'continually': 1057, 'predefined': 3064, 'businesstobusiness': 574, 'amex': 170, 'plx': 3019, 'vianor': 4769, 'lse': 2458, 'cagr': 595, 'kpi': 2296, 'umo': 4558, 'veikko': 4742, 'laine': 2319, 'saratovenergo': 3612, 'sare': 3614, 'codenamed': 883, 'byline': 585, 'tim': 4433, 'cellular': 709, 'chicago': 776, 'adequacy': 63, 'mezzanine': 2581, 'cardona': 649, 'countdown': 1127, 'shad': 3792, 'cohen': 887, 'steer': 4159, 'sophos': 4025, 'constructionreal': 1036, 'caverion': 691, 'rentalrelated': 3312, 'cabot': 592, 'michelin': 2586, 'paris': 2907, 'cayman': 692, 'consulate': 1039, 'spoke': 4080, 'ev': 1588, 'dongguan': 1413, 'hollola': 2002, 'sderstrm': 3689, 'seeder': 3716, 'counterpart': 1129, 'sirkkaliisa': 3906, 'vga': 4766, 'display': 1381, 'slot': 3955, 'gmo': 1875, 'mikkonen': 2597, 'dissolve': 1385, 'tailgate': 4310, 'anne': 199, 'fibrebased': 1697, 'spunlace': 4097, 'chirnside': 788, 'nembv': 2692, 'scfv': 3659, 'irish': 2179, 'alnv': 138, 'apiece': 232, 'vuosaari': 4845, 'speculative': 4068, 'unchanged': 4568, 'spectrum': 4067, 'dartford': 1236, 'accountant': 30, 'acacia': 17, 'settlement': 3774, 'sted': 4155, 'newswire': 2711, 'strategically': 4203, 'reposition': 3336, 'vitim': 4815, 'asks': 318, 'certainly': 731, 'cliffton': 849, 'maritim': 2509, 'sandanger': 3598, 'twh': 4526, 'discontinue': 1375, 'seppo': 3758, 'coke': 888, 'blast': 487, 'furnace': 1827, 'somoncom': 4018, 'connects': 1012, 'advisory': 80, 'shoe': 3835, 'headcount': 1953, 'nielsen': 2718, 'arbidans': 268, 'celtnieciba': 711, 'sechs': 3702, 'und': 4572, 'die': 1355, 'schultz': 3669, 'renal': 3297, 'consolidation': 1028, 'hundred': 2030, 'belarus': 440, 'rukax': 3521, 'scantukka': 3656, 'jam': 2194, 'asphalt': 324, 'ceivd': 703, 'mix': 2610, 'decor': 1272, 'powersupply': 3058, 'efov': 1479, 'opus': 2830, 'sterv': 4167, 'statedowned': 4136, 'pharmacy': 2978, 'apoteket': 234, 'sixunder': 3918, 'seventh': 3782, 'shoot': 3836, 'snapshot': 3981, 'crav': 1152, 'marathon': 2502, 'secondary': 3704, 'cukurova': 1184, 'mercator': 2559, 'slovenia': 3958, 'spreader': 4094, 'churn': 806, 'courtship': 1138, 'conciliator': 988, 'salonius': 3580, 'genetically': 1851, 'soy': 4040, 'anneli': 200, 'salminen': 3575, 'risto': 3443, 'suppose': 4275, 'treasury': 4490, 'reveal': 3410, 'pankki': 2900, 'dalborg': 1227, 'parnu': 2912, 'revise': 3413, 'reactor': 3220, 'tvo': 4524, 'ipad': 2176, 'voicedirected': 4827, 'originally': 2844, 'blog': 490, 'spinoff': 4076, 'chase': 762, 'cba': 693, 'euronext': 1585, 'safran': 3559, 'sna': 3977, 'singlechannel': 3899, 'snapper': 3980, 'resposnible': 3380, 'identical': 2046, 'rlnordic': 3447, 'rockwell': 3463, 'collins': 901, 'deck': 1268, 'cabin': 588, 'francisco': 1793, 'vega': 4736, 'thin': 4404, 'schwalm': 3671, 'sdm': 3690, 'generator': 1849, 'hoist': 1997, 'seventythree': 3783, 'archestra': 271, 'vtmrakennuskonevuokraamo': 4844, 'parttime': 2922, 'sonoco': 4020, 'demolli': 1309, 'cartaria': 666, 'kim': 2278, 'stichting': 4170, 'whollyowned': 4912, 'labor': 2313, 'nation': 2676, 'bioheapleaching': 475, 'oppohjola': 2825, 'valueadded': 4705, 'emt': 1511, 'population': 3036, 'teollisuuden': 4374, 'shortlist': 3843, 'areva': 279, 'ge': 1842, 'raahe': 3186, 'avc': 383, 'systemhaus': 4307, 'cableway': 591, 'seidenberg': 3722, 'ufj': 4543, 'mortgage': 2641, 'ruble': 3516, 'carrot': 663, 'respecta': 3370, 'samuel': 3592, 'dairy': 1226, 'rotation': 3491, 'shelter': 3819, 'chelyabinsk': 771, 'longer': 2441, 'architecture': 274, 'catering': 686, 'shut': 3854, 'compnay': 966, 'carpark': 658, 'peel': 2947, 'allot': 132, 'criterion': 1164, 'sm': 3962, 'whom': 4913, 'saarijarvi': 3545, 'employer': 1508, 'screw': 3686, 'parliament': 2911, 'publishing': 3161, 'lippupiste': 2406, 'ct': 1179, 'copying': 1096, 'cadmodelling': 594, 'sokopro': 4001, 'courier': 1134, 'shopinshops': 3838, 'avenue': 384, 'toy': 4471, 'comtex': 981, 'centimeter': 718, 'assist': 336, 'pershare': 2966, 'overlaid': 2875, 'birch': 480, 'dinh': 1366, 'volkswagen': 4832, 'audi': 358, 'completely': 960, 'simulate': 3891, 'cbd': 694, 'challenger': 746, 'veda': 4734, 'gulf': 1920, 'bothnia': 514, 'clerical': 843, 'backlog': 395, 'sitra': 3909, 'turbine': 4514, 'anjalankoski': 198, 'jarvenpaa': 2205, 'platen': 3006, 'edge': 1465, 'pressure': 3081, 'incorporate': 2085, 'separationfiltration': 3755, 'parking': 2910, 'niam': 2714, 'whitehall': 4906, 'repo': 3330, 'asahi': 306, 'rme': 3449, 'userdefined': 4657, 'rout': 3498, 'radar': 3187, 'calibrate': 604, 'segu': 3720, 'founder': 1783, 'serial': 3766, 'constitutes': 1033, 'corroborate': 1111, 'computerrelated': 980, 'cycle': 1218, 'validation': 4696, 'verify': 4757, 'administrator': 69, 'departure': 1323, 'ebrd': 1460, 'motor': 2646, 'vacuum': 4688, 'corrensponds': 1107, 'veliky': 4744, 'ustjug': 4662, 'vibrocompactors': 4771, 'costumer': 1123, 'uzbek': 4678, 'coscom': 1114, 'uncertainty': 4567, 'sekm': 3728, 'cs': 1178, 'unilever': 4595, 'sinappi': 3893, 'myllykoski': 2669, 'creditor': 1160, 'cph': 1144, 'chambersburg': 748, 'virala': 4796, 'mode': 2621, 'coop': 1085, 'splitscreen': 4079, 'twelve': 4525, 'deadline': 1252, 'votorantim': 4841, 'celulose': 713, 'vcp': 4731, 'conglomerate': 1005, 'kausta': 2262, 'virsuliskes': 4801, 'bavaria': 421, 'industriekapital': 2100, 'christine': 799, 'cumulative': 1190, 'compagnie': 936, 'vap': 4713, 'climate': 850, 'fray': 1795, 'bentos': 451, 'forestal': 1767, 'oriental': 2842, 'lcc': 2346, 'digicel': 1361, 'karvinen': 2253, 'stavebni': 4147, 'nokv': 2727, 'tenant': 4371, 'forma': 1772, 'equal': 1551, 'thomas': 4410, 'hoyer': 2024, 'tapio': 4331, 'asokan': 322, 'apparatus': 236, 'usercontrolled': 4656, 'unquoted': 4615, 'android': 193, 'app': 235, 'consequence': 1016, 'peat': 2946, 'typically': 4534, 'stockholmheadquartered': 4178, 'shane': 3799, 'similarsized': 3882, 'curator': 1192, 'attribute': 357, 'palmberg': 2898, 'andlinger': 189, 'sabbatical': 3551, 'suyv': 4288, 'fl': 1741, 'demerger': 1307, 'compass': 945, 'restructure': 3389, 'emphasis': 1505, 'slid': 3947, 'ruwais': 3538, 'guangdong': 1917, 'sinocast': 3901, 'qingyuan': 3172, 'semitrailer': 3740, 'lat': 2331, 'telecominvest': 4357, 'verification': 4756, 'signature': 3865, 'stateapproved': 4134, 'cast': 672, 'strawberryrhubarb': 4205, 'applepear': 243, 'ostrava': 2851, 'sacanfil': 3553, 'requisition': 3347, 'sodium': 3993, 'centralize': 721, 'salvor': 3585, 'laavainen': 2311, 'benecol': 448, 'calibration': 605, 'sparebank': 4048, 'sbgrp': 3643, 'moreover': 2638, 'kito': 2282, 'virent': 4797, 'catalytic': 681, 'biofuels': 474, 'vasantha': 4724, 'eaton': 1455, 'solo': 4008, 'song': 4019, 'aspire': 325, 'artist': 299, 'southafrica': 4032, 'alumina': 152, 'ovum': 2878, 'carton': 668, 'faller': 1664, 'processguide': 3105, 'standalone': 4125, 'renesas': 3299, 'rim': 3432, 'revamped': 3409, 'blackberry': 485, 'ui': 4546, 'rimi': 3433, 'rimvesta': 3434, 'archicad': 272, 'rohwedder': 3466, 'rosa': 3483, 'rubin': 3515, 'sixth': 3917, 'trygvesta': 4505, 'varesvuo': 4714, 'aside': 315, 'authentication': 367, 'sslvpn': 4106, 'sharepoint': 3805, 'dash': 1237, 'shelve': 3820, 'sari': 3615, 'shanahan': 3798, 'daxtum': 1244, 'cartel': 667, 'cultivation': 1186, 'count': 1126, 'ver': 4753, 'sculptural': 3687, 'collective': 900, 'ammonia': 172, 'speciality': 4059, 'rock': 3461, 'commodity': 929, 'cps': 1146, 'coowner': 1092, 'hard': 1940, 'spray': 4092, 'ascs': 308, 'unknown': 4606, 'underutilisation': 4583, 'compile': 957, 'ietf': 2050, 'rfc': 3417, 'reng': 3304, 'timber': 4434, 'rf': 3416, 'robot': 3458, 'argentina': 280, 'ethernet': 1576, 'bullet': 558, 'ðl': 4999, 'selloff': 3736, 'cpps': 1145, 'undertaken': 4581, 'pietarsaari': 2987, 'productionrelated': 3114, 'vashi': 4725, 'cidco': 808, 'thirdparty': 4407, 'seismic': 3725, 'compressor': 974, 'vacancy': 4683, 'let': 2376, 'unrivalled': 4616, 'conceptual': 985, 'spare': 4047, 'seafood': 3693, 'tell': 4367, 'usually': 4664, 'vishakapatnam': 4807, 'vizag': 4817, 'kick': 2274, 'amsterdam': 178, 'antonio': 222, 'ci': 807, 'clock': 854, 'stripy': 4221, 'velta': 4746, 'veltabranded': 4747, 'straddle': 4197, 'unlisted': 4610, 'asthma': 345, 'cardiovascular': 648, 'teva': 4382, 'antidumping': 220, 'visa': 4805, 'southeast': 4034, 'roi': 3467, 'warn': 4857, 'leak': 2351, 'kronor': 2301, 'craft': 1148, 'qualcomm': 3175, '_landsbanken': 1, 'cerberus': 727, 'equivalent': 1555, 'xa': 4972, 'dampen': 1230, 'slight': 3949, 'rigid': 3428, 'oneoff': 2804, 'word': 4944, 'purchasing': 3166, 'chp': 797, 'vartan': 4722, 'southkorea': 4038, 'dismiss': 1380, 'republication': 3342, 'redistribution': 3248, 'expressly': 1640, 'prohibit': 3125, 'consent': 1015, 'filmiteollisuus': 1704, 'cake': 596, 'snag': 3979, 'reject': 3275, 'denies': 1314, 'split': 4078, 'reproduction': 3340, 'redundancy': 3251, 'seppanen': 3757, 'slogan': 3954, 'clausen': 837, 'refuse': 3261, 'capcom': 636, 'degeneration': 1289, 'ollipekka': 2796, 'tornio': 4460, 'suspect': 4284, 'fill': 1703, 'worry': 4962, 'night': 2719, 'rinne': 3437, 'shortlived': 3844, 'monster': 2634, 'closure': 860, 'scheme': 3662, 'wife': 4919, 'sixknot': 3914, 'heavily': 1964, 'sled': 3945, 'recall': 3232, 'cautious': 690, 'click': 844, 'expensive': 1624, 'twist': 4528, 'worm': 4958, 'corrupt': 1112, 'crew': 1161, 'stricter': 4216, 'sel': 3729, 'strike': 4219, 'pine': 2989, 'inconsistent': 2084, 'prosecutor': 3141, 'bow': 518, 'alpina': 141, 'satin': 3622, 'worn': 4959, 'colaflavoured': 890, 'antniemi': 221, 'reorganize': 3318, 'stressful': 4214, 'arcelormittal': 269, 'redundant': 3252, 'slaughter': 3942, 'curbed': 1193, 'sidewalk': 3859, 'reshuffle': 3354, 'resign': 3360, 'chairmanship': 744, 'intention': 2145, 'retire': 3399, 'delayed': 1295, 'strictly': 4218, 'resignation': 3361, 'varpaisj_': 4721, 'rvi': 3539, 'compulsory': 978, 'disappointment': 1372, 'police': 3028, 'gunpoint': 1921, 'renounce': 3306, 'slash': 3941, 'stadigh': 4113, 'arteva': 296, 'vicechairman': 4773, 'crude': 1173, 'barrel': 412, 'chaim': 741, 'question': 3180, 'damage': 1229, 'block': 489, 'deny': 1319, 'permission': 2963, 'sten': 4162, 'shock': 3834, 'categorization': 684, 'repeal': 3323, 'chill': 783, 'reportedly': 3333, 'threat': 4415, 'seinajoki': 3724, 'weld': 4888, 'shadow': 3794, 'vicepresident': 4774, 'shivakumar': 3833, 'concerned': 987, 'cease': 700, 'shipbuilding': 3827, 'singulase': 3900, 'rove': 3501, 'sauk': 3629, 'spruce': 4096, 'chipped': 787, 'liquidate': 2409, 'loose': 2445, 'coalfired': 870, 'expire': 1628, 'upset': 4637, 'apriloctober': 261, 'rev': 3408, 'retrieves': 3402, 'cancel': 623, 'slavery': 3944, 'perspective': 2970, 'writer': 4968, 'detroit': 1342, 'respond': 3374, 'usage': 4650, 'renewables': 3302, 'collision': 902, 'steal': 4154, 'smith': 3970, 'expires': 1629, 'mara': 2501, 'frost': 1808, 'chuck': 805, 'spending': 4072, 'decaliter': 1263, 'rib': 3420, 'differ': 1357, 'accident': 22, 'cold': 891, 'stole': 4180, 'burgundy': 564, 'ntsb': 2761, 'fail': 1661, 'annul': 208, 'difficult': 1359, 'codetermination': 884, 'unveiled': 4622, 'resurrect': 3393, 'complexity': 964, 'routine': 3500, 'caput': 644, 'nicotine': 2717, 'societe': 3991, 'setv': 3776, 'woro': 4960, 'vastsekuuste': 4727, 'yliopistonrinne': 4988, 'sight': 3862, 'restriction': 3388, 'unbelievably': 4563, 'projection': 3128, 'costly': 1122, 'depart': 1321, 'crazy': 1153, 'border': 508, 'carshipping': 665, 'checkpoint': 768, 'lassila': 2329, 'tikanoja': 4430, 'latv': 2337, 'declare': 1270, 'unikko': 4594, 'upmv': 4634, 'underperf': 4577, 'stoppage': 4186, 'clicked': 845, 'cursor': 1199, 'uncertain': 4566, 'fin': 1706, 'trouble': 4500, 'archipelago': 273, 'island': 2181, 'hbos': 1948, 'penny': 2951, 'courthouse': 1137, 'saltonstall': 3583, 'burden': 563, 'stem': 4161, 'sizable': 3920, 'worsethanexpected': 4963, 'criticise': 1166, 'cry': 1176, 'deem': 1278, 'simply': 3890, 'weaker': 4876, 'suffer': 4250, 'roce': 3460, 'settle': 3773, 'schindler': 3663, 'dark': 1234, 'conservative': 1017, 'annvik': 210, 'cowie': 1143, 'consistent': 1024, 'oasis': 2770, 'allure': 135, 'stability': 4110, 'slit': 3952, 'restoration': 3386, 'saysjouni': 3642, 'delight': 1299, 'clothes': 861, 'comfortable': 913, 'skin': 3934, 'versatile': 4759, 'cockroft': 880, 'singer': 3897, 'rightfully': 3427, 'unprofitable': 4614, 'speaks': 4054, 'citi': 821, 'custody': 1202, 'adaptation': 57, 'adequate': 64, 'rory': 3482, 'ruutana': 3537, 'argument': 282, 'convincing': 1083, 'steve': 4168, 'culdesac': 1185, 'ceiling': 702, 'tough': 4465, 'voip': 4831, 'speaker': 4053, 'shdsl': 3811, 'silja': 3875, 'trailer': 4480, 'sky': 3939, 'configure': 1002, 'lp': 2457, 'conversation': 1076, 'seudun': 3777, 'belchatow': 441, 'wore': 4945, 'salt': 3582, 'burn': 565, 'unstable': 4619, 'rerouting': 3348, 'sharply': 3808, 'accommodation': 24, 'vanhanen': 4709, 'amid': 171, 'plasterboard': 3003, 'voiced': 4826, 'seng': 3742, 'shrank': 3852, 'weaken': 4875, 'unaudited': 4561, 'demographic': 1308, 'contextual': 1054, 'mti': 2654, 'ilk': 2055, 'cd': 696, 'strive': 4222, 'viitaniemi': 4785, 'mgkg': 2583, 'generally': 1845, 'tolerate': 4450, 'pharmacokinetic': 2977, 'characteristic': 755, 'btt': 546, 'rheumatoid': 3419, 'arthritis': 297, 'ra': 3185, 'freenet': 1797, 'rebound': 3230, 'centricity': 724, 'seasonal': 3698, 'slump': 3961, 'snowfall': 3984, 'steelmaker': 4158, 'unconfirmed': 4571, 'skandinavian': 3924, 'sail': 3564, 'rush': 3530, 'unlike': 4608, 'vibe': 4770, 'rop': 3478, 'unfortunately': 4588, 'ruin': 3520, 'burrill': 566, 'sevenmonth': 3779}\n"
     ]
    }
   ],
   "source": [
    "print(Tfidf_vect.vocabulary_)"
   ]
  },
  {
   "cell_type": "code",
   "execution_count": 63,
   "metadata": {},
   "outputs": [
    {
     "name": "stdout",
     "output_type": "stream",
     "text": [
      "<Compressed Sparse Row sparse matrix of dtype 'float64'\n",
      "\twith 52936 stored elements and shape (3385, 5000)>\n",
      "  Coords\tValues\n",
      "  (0, 143)\t0.14238276890802162\n",
      "  (0, 186)\t0.06644350071000077\n",
      "  (0, 248)\t0.2393153986823374\n",
      "  (0, 253)\t0.28311331506498666\n",
      "  (0, 351)\t0.26893782668642124\n",
      "  (0, 427)\t0.0639225387761444\n",
      "  (0, 619)\t0.18063568593785065\n",
      "  (0, 1140)\t0.19147902977633705\n",
      "  (0, 1211)\t0.2753119808560698\n",
      "  (0, 1369)\t0.2753119808560698\n",
      "  (0, 1446)\t0.23252749937534653\n",
      "  (0, 1761)\t0.18022437776288575\n",
      "  (0, 1806)\t0.101903621669228\n",
      "  (0, 2176)\t0.2931709841300002\n",
      "  (0, 2209)\t0.21267017759034648\n",
      "  (0, 2377)\t0.2510788234124909\n",
      "  (0, 2644)\t0.18902461475258373\n",
      "  (0, 2802)\t0.1746521621568882\n",
      "  (0, 3045)\t0.1977262834216521\n",
      "  (0, 3730)\t0.23464700017782877\n",
      "  (0, 4391)\t0.04686350266161443\n",
      "  (0, 4445)\t0.06560017806665015\n",
      "  (0, 4902)\t0.2873084403099492\n",
      "  (1, 427)\t0.0857103244236851\n",
      "  (1, 779)\t0.2918663011282526\n",
      "  :\t:\n",
      "  (3382, 4921)\t0.18428192081136652\n",
      "  (3383, 9)\t0.3301001324343072\n",
      "  (3383, 186)\t0.09514200458935916\n",
      "  (3383, 427)\t0.09153218016232592\n",
      "  (3383, 570)\t0.1950902814854181\n",
      "  (3383, 583)\t0.16500251281878994\n",
      "  (3383, 1344)\t0.2913930444147988\n",
      "  (3383, 1617)\t0.2865051108126985\n",
      "  (3383, 1670)\t0.3850983718111121\n",
      "  (3383, 2697)\t0.25065419416764423\n",
      "  (3383, 3394)\t0.2913930444147988\n",
      "  (3383, 3753)\t0.35039834619424054\n",
      "  (3383, 3858)\t0.37069655995417394\n",
      "  (3383, 4445)\t0.09393443114806549\n",
      "  (3383, 4873)\t0.23769517827600614\n",
      "  (3383, 4921)\t0.1405945462512349\n",
      "  (3384, 427)\t0.1453199767427521\n",
      "  (3384, 1620)\t0.36632634217315024\n",
      "  (3384, 2086)\t0.3276917030008275\n",
      "  (3384, 2695)\t0.28064364199353453\n",
      "  (3384, 2925)\t0.4948529173952129\n",
      "  (3384, 2954)\t0.3759916322737814\n",
      "  (3384, 3411)\t0.4245104079273797\n",
      "  (3384, 3573)\t0.26428259649051966\n",
      "  (3384, 4445)\t0.14913388193717478\n"
     ]
    }
   ],
   "source": [
    "print(Train_X_Tfidf)"
   ]
  },
  {
   "cell_type": "code",
   "execution_count": 64,
   "metadata": {},
   "outputs": [
    {
     "data": {
      "text/plain": [
       "77.54820936639119"
      ]
     },
     "execution_count": 64,
     "metadata": {},
     "output_type": "execute_result"
    }
   ],
   "source": [
    "# SVM - linear\n",
    "\n",
    "\n",
    "SVM = svm.SVC(C=1.0, kernel='linear', degree=3, gamma='auto')\n",
    "SVM.fit(Train_X_Tfidf,Train_Y)\n",
    "\n",
    "# predict the labels on validation dataset\n",
    "predictions_SVM = SVM.predict(Test_X_Tfidf)\n",
    "\n",
    "# Use accuracy_score function to get the accuracy\n",
    "accuracy_SVM_linear = accuracy_score(predictions_SVM, Test_Y)*100\n",
    "accuracy_SVM_linear"
   ]
  },
  {
   "cell_type": "code",
   "execution_count": 65,
   "metadata": {},
   "outputs": [
    {
     "data": {
      "text/plain": [
       "59.50413223140496"
      ]
     },
     "execution_count": 65,
     "metadata": {},
     "output_type": "execute_result"
    }
   ],
   "source": [
    "# SVM - RBF\n",
    "\n",
    "\n",
    "SVM = svm.SVC(C=1.0, kernel='rbf', degree=3, gamma='auto')\n",
    "SVM.fit(Train_X_Tfidf,Train_Y)\n",
    "\n",
    "# predict the labels on validation dataset\n",
    "predictions_SVM = SVM.predict(Test_X_Tfidf)\n",
    "\n",
    "# Use accuracy_score function to get the accuracy\n",
    "accuracy_SVM_RBF = accuracy_score(predictions_SVM, Test_Y)*100\n",
    "accuracy_SVM_RBF"
   ]
  },
  {
   "cell_type": "code",
   "execution_count": 66,
   "metadata": {},
   "outputs": [
    {
     "data": {
      "text/plain": [
       "59.50413223140496"
      ]
     },
     "execution_count": 66,
     "metadata": {},
     "output_type": "execute_result"
    }
   ],
   "source": [
    "# SVM - Polynomial\n",
    "\n",
    "SVM = svm.SVC(C=1.0, kernel='poly', degree=3, gamma='auto')\n",
    "SVM.fit(Train_X_Tfidf,Train_Y)\n",
    "\n",
    "# predict the labels on validation dataset\n",
    "predictions_SVM = SVM.predict(Test_X_Tfidf)\n",
    "\n",
    "# Use accuracy_score function to get the accuracy\n",
    "accuracy_SVM_Polynomial = accuracy_score(predictions_SVM, Test_Y)*100\n",
    "accuracy_SVM_Polynomial"
   ]
  },
  {
   "cell_type": "code",
   "execution_count": 67,
   "metadata": {},
   "outputs": [
    {
     "data": {
      "text/plain": [
       "59.50413223140496"
      ]
     },
     "execution_count": 67,
     "metadata": {},
     "output_type": "execute_result"
    }
   ],
   "source": [
    "# SVM - sigmoid\n",
    "\n",
    "SVM = svm.SVC(C=1.0, kernel='sigmoid', degree=3, gamma='auto')\n",
    "SVM.fit(Train_X_Tfidf,Train_Y)\n",
    "\n",
    "# predict the labels on validation dataset\n",
    "predictions_SVM = SVM.predict(Test_X_Tfidf)\n",
    "\n",
    "# Use accuracy_score function to get the accuracy\n",
    "accuracy_SVM_Sigmoid = accuracy_score(predictions_SVM, Test_Y)*100\n",
    "accuracy_SVM_Sigmoid"
   ]
  },
  {
   "cell_type": "markdown",
   "metadata": {},
   "source": [
    "## CatBoost"
   ]
  },
  {
   "cell_type": "code",
   "execution_count": 68,
   "metadata": {},
   "outputs": [
    {
     "name": "stdout",
     "output_type": "stream",
     "text": [
      "Requirement already satisfied: catboost in d:\\anaconda\\anaconda_software\\envs\\sentimentanalysis\\lib\\site-packages (1.2.7)\n",
      "Requirement already satisfied: graphviz in d:\\anaconda\\anaconda_software\\envs\\sentimentanalysis\\lib\\site-packages (from catboost) (0.20.3)\n",
      "Requirement already satisfied: matplotlib in d:\\anaconda\\anaconda_software\\envs\\sentimentanalysis\\lib\\site-packages (from catboost) (3.9.2)\n",
      "Requirement already satisfied: numpy<2.0,>=1.16.0 in d:\\anaconda\\anaconda_software\\envs\\sentimentanalysis\\lib\\site-packages (from catboost) (1.26.4)\n",
      "Requirement already satisfied: pandas>=0.24 in d:\\anaconda\\anaconda_software\\envs\\sentimentanalysis\\lib\\site-packages (from catboost) (2.2.2)\n",
      "Requirement already satisfied: scipy in d:\\anaconda\\anaconda_software\\envs\\sentimentanalysis\\lib\\site-packages (from catboost) (1.14.1)\n",
      "Requirement already satisfied: plotly in d:\\anaconda\\anaconda_software\\envs\\sentimentanalysis\\lib\\site-packages (from catboost) (5.24.1)\n",
      "Requirement already satisfied: six in d:\\anaconda\\anaconda_software\\envs\\sentimentanalysis\\lib\\site-packages (from catboost) (1.16.0)\n",
      "Requirement already satisfied: python-dateutil>=2.8.2 in d:\\anaconda\\anaconda_software\\envs\\sentimentanalysis\\lib\\site-packages (from pandas>=0.24->catboost) (2.9.0)\n",
      "Requirement already satisfied: pytz>=2020.1 in d:\\anaconda\\anaconda_software\\envs\\sentimentanalysis\\lib\\site-packages (from pandas>=0.24->catboost) (2024.2)\n",
      "Requirement already satisfied: tzdata>=2022.7 in d:\\anaconda\\anaconda_software\\envs\\sentimentanalysis\\lib\\site-packages (from pandas>=0.24->catboost) (2024.1)\n",
      "Requirement already satisfied: contourpy>=1.0.1 in d:\\anaconda\\anaconda_software\\envs\\sentimentanalysis\\lib\\site-packages (from matplotlib->catboost) (1.3.0)\n",
      "Requirement already satisfied: cycler>=0.10 in d:\\anaconda\\anaconda_software\\envs\\sentimentanalysis\\lib\\site-packages (from matplotlib->catboost) (0.12.1)\n",
      "Requirement already satisfied: fonttools>=4.22.0 in d:\\anaconda\\anaconda_software\\envs\\sentimentanalysis\\lib\\site-packages (from matplotlib->catboost) (4.53.1)\n",
      "Requirement already satisfied: kiwisolver>=1.3.1 in d:\\anaconda\\anaconda_software\\envs\\sentimentanalysis\\lib\\site-packages (from matplotlib->catboost) (1.4.7)\n",
      "Requirement already satisfied: packaging>=20.0 in d:\\anaconda\\anaconda_software\\envs\\sentimentanalysis\\lib\\site-packages (from matplotlib->catboost) (24.1)\n",
      "Requirement already satisfied: pillow>=8 in d:\\anaconda\\anaconda_software\\envs\\sentimentanalysis\\lib\\site-packages (from matplotlib->catboost) (10.4.0)\n",
      "Requirement already satisfied: pyparsing>=2.3.1 in d:\\anaconda\\anaconda_software\\envs\\sentimentanalysis\\lib\\site-packages (from matplotlib->catboost) (3.1.4)\n",
      "Requirement already satisfied: tenacity>=6.2.0 in d:\\anaconda\\anaconda_software\\envs\\sentimentanalysis\\lib\\site-packages (from plotly->catboost) (9.0.0)\n"
     ]
    }
   ],
   "source": [
    "!pip install catboost"
   ]
  },
  {
   "cell_type": "code",
   "execution_count": 70,
   "metadata": {},
   "outputs": [],
   "source": [
    "from catboost import CatBoostClassifier"
   ]
  },
  {
   "cell_type": "code",
   "execution_count": 71,
   "metadata": {},
   "outputs": [
    {
     "name": "stdout",
     "output_type": "stream",
     "text": [
      "0:\tlearn: 0.6443131\ttotal: 256ms\tremaining: 4m 15s\n",
      "100:\tlearn: 0.7607090\ttotal: 10.8s\tremaining: 1m 36s\n",
      "200:\tlearn: 0.7988183\ttotal: 20.4s\tremaining: 1m 21s\n",
      "300:\tlearn: 0.8183161\ttotal: 30.5s\tremaining: 1m 10s\n",
      "400:\tlearn: 0.8295421\ttotal: 40.4s\tremaining: 1m\n",
      "500:\tlearn: 0.8422452\ttotal: 49.5s\tremaining: 49.3s\n",
      "600:\tlearn: 0.8525849\ttotal: 58.8s\tremaining: 39s\n",
      "700:\tlearn: 0.8608567\ttotal: 1m 8s\tremaining: 29.2s\n",
      "800:\tlearn: 0.8673560\ttotal: 1m 18s\tremaining: 19.4s\n",
      "900:\tlearn: 0.8768095\ttotal: 1m 27s\tremaining: 9.59s\n",
      "999:\tlearn: 0.8850812\ttotal: 1m 36s\tremaining: 0us\n"
     ]
    },
    {
     "data": {
      "text/plain": [
       "0.7734159779614325"
      ]
     },
     "execution_count": 71,
     "metadata": {},
     "output_type": "execute_result"
    }
   ],
   "source": [
    "model = CatBoostClassifier(iterations=1000, learning_rate=0.1, depth=6, loss_function = 'MultiClass', eval_metric = 'Accuracy', verbose=100)\n",
    "\n",
    "# Fit the model\n",
    "model.fit(Train_X_Tfidf, Train_Y)\n",
    "\n",
    "# Make predictions on the test set\n",
    "y_pred = model.predict(Test_X_Tfidf)\n",
    "\n",
    "# Evaluate the model\n",
    "accuracy_catBoost = accuracy_score(Test_Y, y_pred)\n",
    "accuracy_catBoost"
   ]
  },
  {
   "cell_type": "markdown",
   "metadata": {},
   "source": [
    "## Accuracy Plotting"
   ]
  },
  {
   "cell_type": "code",
   "execution_count": 75,
   "metadata": {},
   "outputs": [
    {
     "data": {
      "image/png": "[encoded data removed]",
      "text/plain": [
       "<Figure size 640x480 with 1 Axes>"
      ]
     },
     "metadata": {},
     "output_type": "display_data"
    }
   ],
   "source": [
    "\n",
    "model_name = [\"vaderSentiment\", \"finVader\", \"finBERT\", \"SVM_linear\", \"SVM_RBF\", \"SVM_Polynomial\", \"SVM_Sigmoid\", \"CatBoost\"]\n",
    "model_acc = [accuracy_vaderSentiment*100, accuracy_finVader*100,  accuracy_finBERT*100, accuracy_SVM_linear, accuracy_SVM_RBF, accuracy_SVM_Polynomial, accuracy_SVM_Sigmoid, accuracy_catBoost*100] \n",
    "\n",
    "plt.plot(model_name, model_acc, marker='o', linestyle='-', color='blue')\n",
    "\n",
    "plt.title('model accuracy')\n",
    "plt.ylabel('accuracy')\n",
    "plt.xlabel('Models')\n",
    "\n",
    "plt.show()"
   ]
  },
  {
   "cell_type": "markdown",
   "metadata": {},
   "source": [
    "# Industry-based Classification"
   ]
  },
  {
   "cell_type": "code",
   "execution_count": 14,
   "metadata": {},
   "outputs": [],
   "source": [
    "# Define keywords for each Nifty sector\n",
    "nifty_categories = {\n",
    "    'Auto': [\"automobile\", \"auto\", \"car\", \"vehicle\", \"motor\", \"bike\", \"motorcycle\", \"scooter\", \"truck\", \"bus\", \"electric vehicle\", \"hybrid vehicle\", \"autonomous vehicle\", \"fuel efficiency\", \"engine\", \"transmission\", \"tire\", \"dealership\", \"showroom\", \"tata motors\", \"maruti suzuki\", \"mahindra & mahindra\", \"ashok leyland\", \"hero motocorp\", \"bajaj auto\", \"eicher motors\", \"tvs motor\", \"force motors\", \"yamaha\", \"honda\", \"ford\", \"tesla\", \"volkswagen\", \"general motors\", \"toyota\", \"hyundai\", \"fiat\", \"nissan\", \"volvo\", \"suzuki\", \"jaguar\", \"land rover\", \"renault\", \"skoda\", \"mercedes\", \"bmw\", \"audi\", \"kia\", \"mitsubishi\", \"porsche\", \"fuel station\", \"spare parts\", \"two-wheeler\", \"four-wheeler\", \"automotive industry\", \"ic engine\", \"battery\", \"electric charging\", \"automotive manufacturing\", \"road transport\", \"mobility solutions\", \"automotive sales\", \"automotive production\", \"automotive exports\", \"automotive imports\", \"automotive components\", \"automotive supply chain\", \"automotive technology\", \"automotive design\", \"automotive safety\", \"automotive regulations\", \"automotive emissions\", \"automotive trends\", \"automotive news\", \"automotive events\", \"automotive conferences\", \"automotive awards\", \"automotive stocks\", \"automotive ETFs\", \"automotive funds\"\n",
    "],\n",
    "    'Bank': [\"bank\", \"banking\", \"financial institution\", \"sbi\", \"hdfc bank\", \"icici bank\", \"axis bank\", \"kotak mahindra bank\", \"federal bank\", \"canara bank\", \"rbi\", \"reserve bank\", \"central bank\", \"monetary policy\", \"repo rate\", \"interest rate\", \"loans\", \"credit\", \"savings\", \"current account\", \"deposits\", \"mortgage\", \"housing loan\", \"personal loan\", \"business loan\", \"atm\", \"netbanking\", \"payment\", \"mobile banking\", \"digital payment\", \"debit card\", \"credit card\", \"overdraft\", \"loan restructuring\", \"non-performing asset\", \"asset recovery\", \"wealth management\", \"investment banking\", \"brokerage\", \"financial services\", \"pension fund\", \"debt securities\", \"loan default\", \"corporate banking\", \"foreign exchange\", \"treasury\", \"cheque\", \"demand draft\", \"retail banking\", \"financial inclusion\", \"fintech\", \"digital wallet\", \"fiscal policy\", \"liquidity\", \"GDP growth rate\", \"Inflation\", \"Fiscal deficit\", \"Monetary policy stance\", \"Government spending\", \"Tax rates\", \"Foreign direct investment\", \"FDI\", \"DII\", \"FII\", \"Remittances\", \"Trade balance\", \"Bank mergers and acquisitions\", \"Bank profitability\", \"Bank capital adequacy\", \"Bank NPA levels\", \"Bank provisioning\", \"Bank dividend payouts\", \"Bank digital transformation\", \"Bank cybersecurity\", \"Bank customer satisfaction\", \"Interest rate hikes\", \"Federal Reserve\", \"Geopolitical tensions\", \"Commodity prices\", \"Global economic slowdown\", \"NBFCs\", \"Microfinance institutions\", \"Credit bureaus\", \"Insurance companies\", \"Financial technology\", \"Fintech startups\", \"Regulatory changes\"\n",
    "],\n",
    "    'Financial Services': [\"finance\", \"financial\", \"investment\", \"mutual fund\", \"insurance\", \"broker\", \"nbfc\", \"wealth management\", \"asset management\", \"equity\", \"stock market\", \"bond\", \"capital market\", \"portfolio\", \"brokerage\", \"wealth\", \"hdfc life\", \"icici pru\", \"bajaj finserv\", \"sbi life\", \"lic\", \"pension plan\", \"retirement fund\", \"private equity\", \"hedge fund\", \"venture capital\", \"systematic investment plan\", \"ulip\", \"term insurance\", \"life insurance\", \"health insurance\", \"reinsurance\", \"claim\", \"policyholder\", \"solvency\", \"underwriting\", \"financial advisory\", \"financial planning\", \"sebi\", \"amfi\", \"depository\", \"fund manager\", \"credit rating\", \"credit risk\", \"financial derivatives\", \"futures\", \"options\", \"swaps\", \"commodities\", \"currency\", \"trading platform\", \"financial technology\", \"fintech\", \"robo-advisory\", \"financial regulation\", \"taxation\", \"income tax\", \"gst\", \"fiscal policy\", \"auditing\", \"accounting standards\", \"financial services\", \"financial markets\", \"financial products\", \"financial institutions\", \"financial instruments\", \"financial analysis\", \"financial reporting\", \"financial risk\", \"financial stability\", \"financial literacy\", \"financial inclusion\", \"financial aid\", \"financial crisis\"\n",
    "],\n",
    "    'FMCG': [\"fmcg\", \"fast moving consumer goods\", \"consumer products\", \"personal care\", \"household goods\", \"food\", \"beverage\", \"snacks\", \"unilever\", \"itc\", \"nestle\", \"britannia\", \"dabur\", \"marico\", \"colgate-palmolive\", \"pepsico\", \"coca-cola\", \"hul\", \"procter & gamble\", \"patanjali\", \"godrej consumer\", \"reckitt benckiser\", \"amul\", \"kellogg\", \"confectionery\", \"biscuit\", \"tea\", \"coffee\", \"packaged food\", \"dairy\", \"chocolate\", \"soap\", \"shampoo\", \"toothpaste\", \"detergent\", \"cleaning products\", \"deodorant\", \"skincare\", \"haircare\", \"beauty products\", \"hygiene\", \"hand sanitizer\", \"tissue paper\", \"bottled water\", \"soft drinks\", \"energy drinks\", \"packaged snacks\", \"frozen food\", \"processed food\", \"instant noodles\", \"ketchup\", \"cooking oil\", \"sugar\", \"salt\", \"ready-to-eat\", \"spices\", \"supermarket\", \"grocery\", \"retail\", \"distribution\", \"advertising\", \"consumer goods\", \"FMCG\", \"FMCG stocks\", \"FMCG sector\", \"FMCG industry\", \"FMCG companies\", \"FMCG trends\", \"FMCG news\", \"FMCG analysis\", \"FMCG research\", \"FMCG marketing\", \"FMCG strategy\", \"FMCG retail\", \"FMCG distribution\", \"FMCG supply chain\", \"FMCG innovation\", \"FMCG products\", \"FMCG brands\", \"FMCG consumption\", \"FMCG demand\", \"FMCG growth\", \"FMCG challenges\", \"FMCG opportunities\", \"FMCG regulation\", \"FMCG taxation\", \"FMCG exports\", \"FMCG imports\", \"FMCG competition\", \"FMCG mergers and acquisitions\", \"FMCG sustainability\", \"FMCG ethics\", \"FMCG social responsibility\", \"FMCG rural market\", \"FMCG urban market\", \"FMCG online sales\", \"FMCG offline sales\", \"FMCG customer behavior\", \"FMCG pricing\", \"FMCG packaging\", \"FMCG promotion\", \"FMCG advertising\", \"FMCG branding\", \"FMCG market share\", \"FMCG profitability\", \"FMCG valuation\", \"FMCG investment\", \"FMCG portfolio\", \"FMCG index\", \"FMCG ETFs\", \"FMCG funds\", \"FMCG derivatives\", \"FMCG futures\", \"FMCG options\", \"FMCG swaps\", \"FMCG commodities\", \"FMCG currency\", \"FMCG trading platform\", \"FMCG financial technology\", \"FMCG fintech\", \"FMCG robo-advisory\", \"FMCG financial regulation\", \"FMCG taxation\", \"FMCG income tax\", \"FMCG GST\", \"FMCG fiscal policy\", \"FMCG auditing\", \"FMCG accounting standards\", \"FMCG economic indicators\", \"FMCG inflation\", \"FMCG GDP growth\", \"FMCG consumer confidence\", \"FMCG disposable income\", \"FMCG lifestyle trends\", \"FMCG demographic changes\", \"FMCG cultural factors\", \"FMCG technological advancements\", \"FMCG global trends\", \"FMCG emerging markets\", \"FMCG developed markets\", \"FMCG regional trends\", \"FMCG country-specific trends\", \"FMCG seasonal trends\", \"FMCG holiday trends\", \"FMCG festival trends\", \"FMCG promotional events\", \"FMCG limited-time offers\", \"FMCG discounts\", \"FMCG loyalty programs\", \"FMCG customer satisfaction surveys\", \"FMCG market research reports\", \"FMCG industry analysis\", \"FMCG sector outlook\", \"FMCG company profiles\", \"FMCG product reviews\", \"FMCG brand comparisons\", \"FMCG price comparisons\", \"FMCG quality comparisons\", \"FMCG sustainability ratings\", \"FMCG ethical sourcing\", \"FMCG fair trade\", \"FMCG organic products\", \"FMCG natural products\", \"FMCG vegan products\", \"FMCG gluten-free products\", \"FMCG non-GMO products\", \"FMCG halal products\", \"FMCG kosher products\", \"FMCG diabetic-friendly products\", \"FMCG weight-management products\", \"FMCG sports nutrition products\", \"FMCG baby products\", \"FMCG pet products\", \"FMCG senior care products\", \"FMCG healthcare products\", \"FMCG pharmaceutical products\", \"FMCG medical devices\", \"FMCG healthcare services\"\n",
    "],\n",
    "    'Healthcare': [\"healthcare\", \"hospital\", \"health\", \"medical\", \"clinic\", \"diagnostic\", \"apollo\", \"fortis\", \"max healthcare\", \"medanta\", \"narayana health\", \"healthcare system\", \"healthcare insurance\", \"healthcare management\", \"nursing\", \"pathology\", \"laboratory\", \"surgery\", \"doctor\", \"surgeon\", \"physician\", \"telemedicine\", \"e-health\", \"digital health\", \"mental health\", \"healthcare technology\", \"electronic health records\", \"healthcare analytics\", \"health policy\", \"pharmaceutical\", \"drug development\", \"clinical trials\", \"biotechnology\", \"vaccine\", \"covid-19\", \"public health\", \"wellness\", \"alternative medicine\", \"ayurveda\", \"yoga\", \"fitness\", \"rehabilitation\", \"physiotherapy\", \"fertility clinic\", \"healthcare equipment\", \"medical devices\", \"dialysis\", \"cardiac care\", \"cancer treatment\", \"oncology\", \"radiology\", \"pediatrics\", \"emergency care\", \"health education\", \"home healthcare\", \"pharmaceutical sales\", \"over-the-counter medicine\", \"prescriptions\", \"health diagnostics\", \"health infrastructure\", \"healthcare industry\", \"healthcare market\", \"healthcare trends\", \"healthcare news\", \"healthcare analysis\", \"healthcare research\", \"healthcare marketing\", \"healthcare strategy\", \"healthcare retail\", \"healthcare distribution\", \"healthcare supply chain\", \"healthcare innovation\", \"healthcare products\", \"healthcare brands\", \"healthcare consumption\", \"healthcare demand\", \"healthcare growth\", \"healthcare challenges\", \"healthcare opportunities\", \"healthcare regulation\", \"healthcare taxation\", \"healthcare exports\", \"healthcare imports\", \"healthcare competition\", \"healthcare mergers and acquisitions\", \"healthcare sustainability\", \"healthcare ethics\", \"healthcare social responsibility\", \"healthcare rural market\", \"healthcare urban market\", \"healthcare online sales\", \"healthcare offline sales\", \"healthcare customer behavior\", \"healthcare pricing\", \"healthcare packaging\", \"healthcare promotion\", \"healthcare advertising\", \"healthcare branding\", \"healthcare market share\", \"healthcare profitability\", \"healthcare valuation\", \"healthcare investment\", \"healthcare portfolio\", \"healthcare index\", \"healthcare ETFs\", \"healthcare funds\", \"healthcare derivatives\", \"healthcare futures\", \"healthcare options\", \"healthcare swaps\", \"healthcare commodities\", \"healthcare currency\", \"healthcare trading platform\", \"healthcare financial technology\", \"healthcare fintech\", \"healthcare robo-advisory\", \"healthcare financial regulation\", \"healthcare taxation\", \"healthcare income tax\", \"healthcare GST\", \"healthcare fiscal policy\", \"healthcare auditing\", \"healthcare accounting standards\", \"healthcare economic indicators\", \"healthcare inflation\", \"healthcare GDP growth\", \"healthcare consumer confidence\", \"healthcare disposable income\", \"healthcare lifestyle trends\", \"healthcare demographic changes\", \"healthcare cultural factors\", \"healthcare technological advancements\", \"healthcare global trends\", \"healthcare emerging markets\", \"healthcare developed markets\", \"healthcare regional trends\", \"healthcare country-specific trends\", \"healthcare seasonal trends\", \"healthcare holiday trends\", \"healthcare festival trends\", \"healthcare promotional events\", \"healthcare limited-time offers\", \"healthcare discounts\", \"healthcare loyalty programs\", \"healthcare customer satisfaction surveys\", \"healthcare market research reports\", \"healthcare industry analysis\", \"healthcare sector outlook\", \"healthcare company profiles\", \"healthcare product reviews\", \"healthcare brand comparisons\", \"healthcare price comparisons\", \"healthcare quality comparisons\", \"healthcare sustainability ratings\", \"healthcare ethical sourcing\", \"healthcare fair trade\", \"healthcare organic products\", \"healthcare natural products\", \"healthcare vegan products\", \"healthcare gluten-free products\", \"healthcare non-GMO products\", \"healthcare halal products\", \"healthcare kosher products\", \"healthcare diabetic-friendly products\", \"healthcare weight-management products\", \"healthcare sports nutrition products\", \"healthcare baby products\", \"healthcare pet products\", \"healthcare senior care products\", \"healthcare healthcare products\", \"healthcare pharmaceutical products\", \"healthcare medical devices\", \"healthcare healthcare services\"\n",
    "],\n",
    "    'IT': [\"IT\", \"information technology\", \"software\", \"tech\", \"TCS\", \"Infosys\", \"Wipro\", \"HCL Technologies\", \"Tech Mahindra\", \"Cognizant\", \"Accenture\", \"IBM\", \"Oracle\", \"Microsoft\", \"Google\", \"cloud computing\", \"data science\", \"machine learning\", \"artificial intelligence\", \"cybersecurity\", \"software development\", \"software services\", \"ERP\", \"enterprise solutions\", \"digital transformation\", \"blockchain\", \"big data\", \"internet of things\", \"SaaS\", \"PaaS\", \"IaaS\", \"DevOps\", \"agile\", \"scrum\", \"python\", \"java\", \"software testing\", \"quality assurance\", \"SAP\", \"Oracle\", \"digital marketing\", \"website development\", \"app development\", \"UI/UX design\", \"AR/VR\", \"coding\", \"software architecture\", \"API\", \"fintech\", \"mobile app development\", \"IT consulting\", \"database management\", \"tech support\", \"business intelligence\", \"data analytics\", \"network security\", \"server infrastructure\", \"cloud migration\", \"digital services\", \"automation\", \"AI\", \"cloud infrastructure\", \"IT outsourcing\", \"IT industry\", \"IT market\", \"IT trends\", \"IT news\", \"IT analysis\", \"IT research\", \"IT marketing\", \"IT strategy\", \"IT retail\", \"IT distribution\", \"IT supply chain\", \"IT innovation\", \"IT products\", \"IT brands\", \"IT consumption\", \"IT demand\", \"IT growth\", \"IT challenges\", \"IT opportunities\", \"IT regulation\", \"IT taxation\", \"IT exports\", \"IT imports\", \"IT competition\", \"IT mergers and acquisitions\", \"IT sustainability\", \"IT ethics\", \"IT social responsibility\", \"IT rural market\", \"IT urban market\", \"IT online sales\", \"IT offline sales\", \"IT customer behavior\", \"IT pricing\", \"IT packaging\", \"IT promotion\", \"IT advertising\", \"IT branding\", \"IT market share\", \"IT profitability\", \"IT valuation\", \"IT investment\", \"IT portfolio\", \"IT index\", \"IT ETFs\", \"IT funds\", \"IT derivatives\", \"IT futures\", \"IT options\", \"IT swaps\", \"IT commodities\", \"IT currency\", \"IT trading platform\", \"IT financial technology\", \"IT fintech\", \"IT robo-advisory\", \"IT financial regulation\", \"IT taxation\", \"IT income tax\", \"IT GST\", \"IT fiscal policy\", \"IT auditing\", \"IT accounting standards\", \"IT economic indicators\", \"IT inflation\", \"IT GDP growth\", \"IT consumer confidence\", \"IT disposable income\", \"IT lifestyle trends\", \"IT demographic changes\", \"IT cultural factors\", \"IT technological advancements\", \"IT global trends\", \"IT emerging markets\", \"IT developed markets\", \"IT regional trends\", \"IT country-specific trends\", \"IT seasonal trends\", \"IT holiday trends\", \"IT festival trends\", \"IT promotional events\", \"IT limited-time offers\", \"IT discounts\", \"IT loyalty programs\", \"IT customer satisfaction surveys\", \"IT market research reports\", \"IT industry analysis\", \"IT sector outlook\", \"IT company profiles\", \"IT product reviews\", \"IT brand comparisons\", \"IT price comparisons\", \"IT quality comparisons\", \"IT sustainability ratings\", \"IT ethical sourcing\", \"IT fair trade\", \"IT organic products\", \"IT natural products\", \"IT vegan products\", \"IT gluten-free products\", \"IT non-GMO products\", \"IT halal products\", \"IT kosher products\", \"IT diabetic-friendly products\", \"IT weight-management products\", \"IT sports nutrition products\", \"IT baby products\", \"IT pet products\", \"IT senior care products\", \"IT healthcare products\", \"IT pharmaceutical products\", \"IT medical devices\", \"IT healthcare services\"\n",
    "],\n",
    "    'Media': [\"media\", \"news\", \"journalism\", \"print media\", \"tv\", \"broadcasting\", \"entertainment\", \"digital media\", \"advertising\", \"zee\", \"times group\", \"viacom\", \"sony pictures\", \"bollywood\", \"netflix\", \"prime video\", \"hotstar\", \"hbo\", \"youtube\", \"content creation\", \"film production\", \"movie\", \"cinema\", \"television show\", \"reality tv\", \"documentary\", \"newsroom\", \"journalism ethics\", \"investigative journalism\", \"journalism standards\", \"media company\", \"press\", \"journalism\", \"news outlet\", \"reporter\", \"news agency\", \"editor\", \"headline\", \"digital marketing\", \"media coverage\", \"press release\", \"social media\", \"influencer\", \"vlog\", \"radio\", \"podcast\", \"news broadcasting\", \"public relations\", \"media buying\", \"advertising agency\", \"creative agency\", \"journalism degree\", \"mass media\", \"audience engagement\", \"content monetization\", \"streaming service\", \"entertainment industry\", \"tv channel\", \"ott platform\", \"subscription model\", \"viewership ratings\", \"sponsorship\"\n",
    "],\n",
    "    'Metal': [\"metal\", \"steel\", \"mining\", \"aluminium\", \"zinc\", \"copper\", \"iron\", \"ore\", \"tata steel\", \"jsw steel\", \"vedanta\", \"hindalco\", \"coal india\", \"jindal\", \"smelting\", \"metalworks\", \"extraction\", \"raw materials\", \"metallurgy\", \"iron ore\", \"stainless steel\", \"ferrous metal\", \"non-ferrous metal\", \"alloy\", \"nickel\", \"gold\", \"silver\", \"platinum\", \"copper production\", \"aluminum production\", \"precious metals\", \"base metals\", \"metal prices\", \"mining rights\", \"exploration\", \"drilling\", \"metal refining\", \"furnace\", \"metal casting\", \"metal recycling\", \"industrial metals\", \"construction materials\", \"metal fabrication\", \"metal commodities\", \"metal exports\", \"commodity trading\", \"global demand\", \"supply chain\", \"smelter\", \"energy consumption\", \"metal market trends\", \"raw material sourcing\"\n",
    "],\n",
    "    'Pharmaceutical': [\"pharmaceutical\", \"pharma\", \"drug\", \"medicine\", \"vaccination\", \"antibiotics\", \"api\", \"generics\", \"biosimilars\", \"clinical trials\", \"drug development\", \"glenmark\", \"cipla\", \"dr. reddy's\", \"sun pharma\", \"lupin\", \"biocon\", \"novartis\", \"pfizer\", \"johnson & johnson\", \"astrazeneca\", \"sanofi\", \"merck\", \"fda approval\", \"drug patent\", \"intellectual property\", \"prescription drugs\", \"over-the-counter medicine\", \"pharmacy\", \"chemicals\", \"biotechnology\", \"immunology\", \"oncology\", \"cardiology\", \"neurology\", \"psychiatry\", \"vaccine\", \"covid-19 vaccine\", \"vaccine rollout\", \"pharmaceutical sales\", \"medicinal chemistry\", \"pharmaceutical research\", \"toxicology\", \"pharmaceutical manufacturing\", \"drug formulation\", \"drug interaction\", \"side effects\", \"dosage\", \"pharmacology\", \"biopharmaceutical\", \"healthcare\", \"mental health drugs\", \"antiviral\", \"antibiotic resistance\", \"drug regulation\", \"clinical research\", \"medical devices\", \"drug testing\", \"treatment\", \"pharmacist\", \"pharmaceutical logistics\"\n",
    "],\n",
    "    'Realty': [\"real estate\", \"realty\", \"property\", \"construction\", \"housing\", \"commercial real estate\", \"residential real estate\", \"builder\", \"construction company\", \"dlf\", \"godrej properties\", \"prestige estates\", \"sobha\", \"lodha\", \"brigade\", \"piramal realty\", \"real estate development\", \"urban development\", \"real estate investment\", \"property development\", \"luxury housing\", \"affordable housing\", \"office space\", \"commercial leasing\", \"rental\", \"lease\", \"land acquisition\", \"land valuation\", \"property market\", \"real estate financing\", \"mortgage\", \"home loan\", \"property registration\", \"real estate regulation\", \"rera\", \"urban planning\", \"infrastructure\", \"housing demand\", \"housing supply\", \"construction materials\", \"cement\", \"steel\", \"building contractor\", \"property management\", \"real estate agent\", \"housing society\", \"real estate trends\", \"smart cities\", \"urbanization\", \"gated communities\", \"townships\", \"real estate taxes\", \"property tax\", \"real estate law\", \"zoning regulations\", \"property dispute\", \"builder lobby\", \"housing finance\"\n",
    "],\n",
    "    'Consumer Durables': [\"consumer durables\", \"home appliances\", \"electrical appliances\", \"kitchen appliances\", \"refrigerator\", \"air conditioner\", \"washing machine\", \"microwave\", \"television\", \"lcd tv\", \"led tv\", \"smart tv\", \"audio system\", \"home theater\", \"water heater\", \"fan\", \"mixer grinder\", \"vacuum cleaner\", \"geysers\", \"oven\", \"stove\", \"induction cooktop\", \"toaster\", \"iron\", \"dryer\", \"electronic goods\", \"durable goods\", \"white goods\", \"haier\", \"lg\", \"samsung\", \"voltas\", \"whirlpool\", \"bosch\", \"ifb\", \"godrej appliances\", \"videocon\", \"panasonic\", \"sony\", \"electronics\", \"consumer electronics\", \"durable products\", \"luxury appliances\", \"household appliances\", \"home automation\", \"smart appliances\", \"energy efficiency\", \"product warranty\", \"after-sales service\", \"home improvement\", \"air purifiers\", \"water purifiers\", \"electric fan\", \"cooler\", \"smart home devices\", \"energy-saving\", \"product features\", \"digital display\", \"smart features\", \"domestic appliance\", \"automated systems\", \"premium appliances\"\n",
    "],\n",
    "    'Oil and Gas': [\"oil\", \"gas\", \"petroleum\", \"crude oil\", \"natural gas\", \"refinery\", \"oil production\", \"gas extraction\", \"ongc\", \"reliance industries\", \"indian oil\", \"bharat petroleum\", \"hpcl\", \"oil india\", \"oil exploration\", \"gas pipeline\", \"liquefied natural gas\", \"diesel\", \"petrol\", \"fuel\", \"gasoline\", \"lubricants\", \"offshore drilling\", \"oil fields\", \"oil rigs\", \"energy companies\", \"petrochemical\", \"hydrocarbon\", \"oil refinery\", \"fossil fuels\", \"energy sector\", \"global oil prices\", \"oil reserves\", \"oil imports\", \"oil exports\", \"energy consumption\", \"fuel demand\", \"gas distribution\", \"cng\", \"lng\", \"oil storage\", \"energy policy\", \"oil infrastructure\", \"energy security\", \"oil supply chain\", \"oil exploration\", \"oil spills\", \"refining capacity\", \"oil transportation\", \"energy transition\", \"renewable energy\", \"solar energy\", \"wind energy\", \"climate change\", \"carbon emissions\", \"fuel efficiency\", \"petroleum products\", \"diesel subsidy\", \"electricity generation\", \"petrochemical plants\"\n",
    "]\n",
    "}"
   ]
  },
  {
   "cell_type": "code",
   "execution_count": 15,
   "metadata": {},
   "outputs": [
    {
     "data": {
      "text/html": [
       "<div>\n",
       "<style scoped>\n",
       "    .dataframe tbody tr th:only-of-type {\n",
       "        vertical-align: middle;\n",
       "    }\n",
       "\n",
       "    .dataframe tbody tr th {\n",
       "        vertical-align: top;\n",
       "    }\n",
       "\n",
       "    .dataframe thead th {\n",
       "        text-align: right;\n",
       "    }\n",
       "</style>\n",
       "<table border=\"1\" class=\"dataframe\">\n",
       "  <thead>\n",
       "    <tr style=\"text-align: right;\">\n",
       "      <th></th>\n",
       "      <th>Text</th>\n",
       "      <th>Category</th>\n",
       "    </tr>\n",
       "  </thead>\n",
       "  <tbody>\n",
       "    <tr>\n",
       "      <th>0</th>\n",
       "      <td>Technopolis plans to develop in stages an area...</td>\n",
       "      <td>IT</td>\n",
       "    </tr>\n",
       "    <tr>\n",
       "      <th>1</th>\n",
       "      <td>The international electronic industry company ...</td>\n",
       "      <td>Other</td>\n",
       "    </tr>\n",
       "    <tr>\n",
       "      <th>2</th>\n",
       "      <td>With the new production plant the company woul...</td>\n",
       "      <td>Metal</td>\n",
       "    </tr>\n",
       "    <tr>\n",
       "      <th>3</th>\n",
       "      <td>According to the company 's updated strategy f...</td>\n",
       "      <td>Other</td>\n",
       "    </tr>\n",
       "    <tr>\n",
       "      <th>4</th>\n",
       "      <td>FINANCING OF ASPOCOMP 'S GROWTH Aspocomp is ag...</td>\n",
       "      <td>IT</td>\n",
       "    </tr>\n",
       "  </tbody>\n",
       "</table>\n",
       "</div>"
      ],
      "text/plain": [
       "                                                Text Category\n",
       "0  Technopolis plans to develop in stages an area...       IT\n",
       "1  The international electronic industry company ...    Other\n",
       "2  With the new production plant the company woul...    Metal\n",
       "3  According to the company 's updated strategy f...    Other\n",
       "4  FINANCING OF ASPOCOMP 'S GROWTH Aspocomp is ag...       IT"
      ]
     },
     "execution_count": 15,
     "metadata": {},
     "output_type": "execute_result"
    }
   ],
   "source": [
    "# Function to classify text based on keywords\n",
    "def classify_text(text):\n",
    "    text = str(text).lower()  # Convert text to lowercase for keyword matching\n",
    "    for category, keywords in nifty_categories.items():\n",
    "        if any(keyword in text for keyword in keywords):\n",
    "            return category\n",
    "    return 'Other'  # If no keywords are found, classify as 'Other'\n",
    "\n",
    "# Apply classification to the 'Text' column and create a new 'Category' column\n",
    "df['Category'] = df['Text'].apply(classify_text)\n",
    "\n",
    "# Display the first few rows of the updated dataframe\n",
    "df[['Text', 'Category']].head()"
   ]
  },
  {
   "cell_type": "code",
   "execution_count": 16,
   "metadata": {},
   "outputs": [
    {
     "data": {
      "text/html": [
       "<div>\n",
       "<style scoped>\n",
       "    .dataframe tbody tr th:only-of-type {\n",
       "        vertical-align: middle;\n",
       "    }\n",
       "\n",
       "    .dataframe tbody tr th {\n",
       "        vertical-align: top;\n",
       "    }\n",
       "\n",
       "    .dataframe thead th {\n",
       "        text-align: right;\n",
       "    }\n",
       "</style>\n",
       "<table border=\"1\" class=\"dataframe\">\n",
       "  <thead>\n",
       "    <tr style=\"text-align: right;\">\n",
       "      <th></th>\n",
       "      <th>Sentiment</th>\n",
       "      <th>Text</th>\n",
       "      <th>Category</th>\n",
       "    </tr>\n",
       "  </thead>\n",
       "  <tbody>\n",
       "    <tr>\n",
       "      <th>count</th>\n",
       "      <td>4845</td>\n",
       "      <td>4845</td>\n",
       "      <td>4845</td>\n",
       "    </tr>\n",
       "    <tr>\n",
       "      <th>unique</th>\n",
       "      <td>3</td>\n",
       "      <td>4837</td>\n",
       "      <td>13</td>\n",
       "    </tr>\n",
       "    <tr>\n",
       "      <th>top</th>\n",
       "      <td>neutral</td>\n",
       "      <td>TELECOMWORLDWIRE-7 April 2006-TJ Group Plc sel...</td>\n",
       "      <td>Other</td>\n",
       "    </tr>\n",
       "    <tr>\n",
       "      <th>freq</th>\n",
       "      <td>2878</td>\n",
       "      <td>2</td>\n",
       "      <td>2366</td>\n",
       "    </tr>\n",
       "  </tbody>\n",
       "</table>\n",
       "</div>"
      ],
      "text/plain": [
       "       Sentiment                                               Text Category\n",
       "count       4845                                               4845     4845\n",
       "unique         3                                               4837       13\n",
       "top      neutral  TELECOMWORLDWIRE-7 April 2006-TJ Group Plc sel...    Other\n",
       "freq        2878                                                  2     2366"
      ]
     },
     "execution_count": 16,
     "metadata": {},
     "output_type": "execute_result"
    }
   ],
   "source": [
    "df.describe()"
   ]
  },
  {
   "cell_type": "code",
   "execution_count": 20,
   "metadata": {},
   "outputs": [
    {
     "data": {
      "text/plain": [
       "array(['IT', 'Other', 'Metal', 'Auto', 'Bank', 'Oil and Gas', 'FMCG',\n",
       "       'Financial Services', 'Media', 'Pharmaceutical', 'Realty',\n",
       "       'Healthcare', 'Consumer Durables'], dtype=object)"
      ]
     },
     "execution_count": 20,
     "metadata": {},
     "output_type": "execute_result"
    }
   ],
   "source": [
    "df['Category'].unique()"
   ]
  },
  {
   "cell_type": "code",
   "execution_count": 22,
   "metadata": {},
   "outputs": [],
   "source": [
    "df.to_csv('data_7_10.csv')"
   ]
  },
  {
   "cell_type": "code",
   "execution_count": null,
   "metadata": {},
   "outputs": [],
   "source": []
  }
 ],
 "metadata": {
  "colab": {
   "collapsed_sections": [
    "oJMqgE9L7W-C",
    "5VtkX7gZCwjK"
   ],
   "provenance": [],
   "toc_visible": true
  },
  "kernelspec": {
   "display_name": "Python 3 (ipykernel)",
   "language": "python",
   "name": "python3"
  },
  "language_info": {
   "codemirror_mode": {
    "name": "ipython",
    "version": 3
   },
   "file_extension": ".py",
   "mimetype": "text/x-python",
   "name": "python",
   "nbconvert_exporter": "python",
   "pygments_lexer": "ipython3",
   "version": "3.12.5"
  }
 },
 "nbformat": 4,
 "nbformat_minor": 4
}
